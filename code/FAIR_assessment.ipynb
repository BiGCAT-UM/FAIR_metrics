{
 "cells": [
  {
   "cell_type": "markdown",
   "metadata": {
    "toc-hr-collapsed": false
   },
   "source": [
    "# FAIR evaluators"
   ]
  },
  {
   "cell_type": "markdown",
   "metadata": {},
   "source": [
    "by [Serena Bonaretti](https://sbonaretti.github.io), Maastricht University"
   ]
  },
  {
   "cell_type": "markdown",
   "metadata": {},
   "source": [
    "---\n",
    "### Use cases"
   ]
  },
  {
   "cell_type": "markdown",
   "metadata": {},
   "source": [
    "In this notebook, we consider 4 use-cases of data retrieval in the life sciences. For each case, we\n",
    "- Execute data retrieval via API \n",
    "- Evaluate the FAIRness of the dataset\n",
    "\n",
    "*Note*: For simplicity, in the following we will use the words `database` and `repository` interchangeably"
   ]
  },
  {
   "cell_type": "markdown",
   "metadata": {},
   "source": [
    "The 4 use-cases are:\n",
    "\n",
    "\n",
    "<table>\n",
    "<colgroup>\n",
    "<col style=\"width: 10.0%\" />\n",
    "<col style=\"width: 22.5%\" /> \n",
    "<col style=\"width: 22.5%\" /> \n",
    "<col style=\"width: 22.5%\" /> \n",
    "<col style=\"width: 22.5%\" />\n",
    "</colgroup>\n",
    "    \n",
    "  <tr>\n",
    "    <th></th>\n",
    "    <th>Parkinson_AE</th>\n",
    "    <th>NBIA_GEO</th>  \n",
    "    <th>TiO2_ENM</th> \n",
    "    <th>Caffeine_ChEBI</th>\n",
    "  </tr>\n",
    "    \n",
    "  <tr>\n",
    "    <th>Research question</th>\n",
    "    <th>What are the differentially expressed genes between normal subjects and subjects with Parkinson’s diseases in the brain frontal lobe?</th>\n",
    "    <th>What is the function of mutation of WDR45 protein in the brain?</th>  \n",
    "    <th>What are the concentrations of titanium dioxide that kill cells?</th> \n",
    "    <th>What are the biological roles of caffeine?</th>\n",
    "  </tr>\n",
    "  \n",
    "  <tr>\n",
    "    <th>Dataset</th>\n",
    "    <th><a href=\"https://www.ebi.ac.uk/arrayexpress/experiments/E-MTAB-1194/?keywords=%22Parkinson%27s%20disease%22%20&organism=Homo%20sapiens&exptype%5B0%5D=&exptype%5B1%5D=%22array%20assay%22&array=&sortby=raw&sortorder=descending&page=1&pagesize=100\">E-MTAB-1194</a></th>\n",
    "    <th><a href=\"https://www.ncbi.nlm.nih.gov/geo/query/acc.cgi?acc=GSE70433\">GSE70433</a></th>  \n",
    "    <th><a href=\"https://data.enanomapper.net/substance/XLSX-7011cea0-1011-3f8b-9e8a-b3289fed836a/study\">NPO_1709 LDH Release Assay (1)</a></th> \n",
    "    <th><a href=\"https://www.ebi.ac.uk/chebi/searchId.do?chebiId=CHEBI:27732\">CHEBI:27732 - caffeine</a></th>\n",
    "  </tr>\n",
    "  \n",
    "  <tr>\n",
    "    <th>Database</th>\n",
    "    <th><a href=\"https://www.ebi.ac.uk/arrayexpress/\">ArrayExpress</a></th>\n",
    "    <th><a href=\"https://www.ncbi.nlm.nih.gov/geo/\">Gene Expression Omnibus</a></th>  \n",
    "    <th><a href=\"https://data.enanomapper.net\">data.eNanoMapper</a></th> \n",
    "    <th><a href=\"https://www.ebi.ac.uk/chebi/\">ChEBI</a></th> \n",
    "  </tr>\n",
    "\n",
    "</table>\n",
    "\n",
    "\n"
   ]
  },
  {
   "cell_type": "markdown",
   "metadata": {},
   "source": [
    "Information about databases:\n",
    "- **ArrayExpress**:\n",
    "  - API: \n",
    "    - Documentation at https://www.ebi.ac.uk/arrayexpress/help/programmatic_access.html  \n",
    "    - The API to query the database is a rest API: https://www.ebi.ac.uk/arrayexpress/xml/v3/experiments\n",
    "    - The API to get data is an FTP API: ftp://ftp.ebi.ac.uk/pub/databases/arrayexpress/data/  \n",
    "  - Data structure:\n",
    "    - Metadata are separated in two different layers, accessible via:\n",
    "      - Generic metadata: accessible via rest API  \n",
    "      - Specific metadata: accessible via FTP API  \n",
    "      \n",
    "      \n",
    "- **Gene Expression Omnibus**: \n",
    "  - API: \n",
    "    - Documentation at https://www.ncbi.nlm.nih.gov/geo/info/geo_paccess.html\n",
    "    - 5 possible queries are possible (https://www.ncbi.nlm.nih.gov/books/NBK25499/#chapter4):  \n",
    "      - eSearch: results of a search   \n",
    "        (base URL: https://eutils.ncbi.nlm.nih.gov/entrez/eutils/esearch.fcgi)  \n",
    "      - eSummary: document summary   \n",
    "        (base URL: https://eutils.ncbi.nlm.nih.gov/entrez/eutils/esummary.fcgi)   \n",
    "      - eFetch: formatted data records  \n",
    "        (base URL: https://eutils.ncbi.nlm.nih.gov/entrez/eutils/efetch.fcgi)\n",
    "      - eLink: links to same or different databases   \n",
    "        (base URL: https://eutils.ncbi.nlm.nih.gov/entrez/eutils/elink.fcgi)\n",
    "      - eInfo: statistics for a single database, including lists of indexing fields and available link names  \n",
    "        (base URL: https://eutils.ncbi.nlm.nih.gov/entrez/eutils/einfo.fcgi)\n",
    "        \n",
    "        \n",
    "- **ChEBI**\n",
    "  - API: \n",
    "    - Documentation at https://www.ebi.ac.uk/chebi/webServices.do\n",
    "    - It uses the SOAP protocol -> python libray to use is `zeep`\n",
    "    - It provides 8 possible operations for query:  \n",
    "      - getAllOntologyChildrenInPath  \n",
    "      - getCompleteEntity (input: `chebiId` of element)\n",
    "      - getCompleteEntityByList  \n",
    "      - getLiteEntity (input: `chebiAsciiName` of element) \n",
    "      - getOntologyChildren  \n",
    "      - getOntologyParents  \n",
    "      - getStructureSearch  \n",
    "      - getUpdatedPolymer  \n",
    " \n"
   ]
  },
  {
   "cell_type": "markdown",
   "metadata": {},
   "source": [
    "---"
   ]
  },
  {
   "cell_type": "markdown",
   "metadata": {},
   "source": [
    "### Calculating FAIR metrics"
   ]
  },
  {
   "cell_type": "markdown",
   "metadata": {},
   "source": [
    "[Imports](#imports)  \n",
    "[Variables](#variables)  \n",
    "[Functions](#functions)  \n",
    "\n",
    "[Retriving datasets:](#retrieval)  \n",
    "- [Case 1: Parkinson_AE](#Parkinson_AE)  \n",
    "- [Case 2: NBIA_GEO](#NBIA_GEO)  \n",
    "- [Case 3: TiO2_ENM](#TiO2_ENM)  \n",
    "- [Case 4: Caffeine_ChEBI](#Caffeine_ChEBI)\n",
    "\n",
    "[FAIR assessment:](#metrics) \n",
    "- [F1. (Meta)data are assigned a globally unique and persistent identifier](#F1) \n",
    "- [F2. Data are described with rich metadata](#F2) \n",
    "- [F3. Metadata clearly and explicitly include the identifier of the data it describes](#F3)  \n",
    "- [F4. (Meta)data are registered or indexed in a searchable resource](#F4) \n",
    "- [A1. (Meta)data are retrievable by their identifier using a standardized communications protocol](#A1)    \n",
    "- [A2. Metadata are accessible, even when the data are no longer available](#A2)  \n",
    "- [I1. (Meta)data use a formal, accessible, shared, and broadly applicable language for knowledge representation](#I1) \n",
    "- [I2. Metadata use vocabularies that follow FAIR principles](#I2)  \n",
    "- [I3. (Meta)data include qualified references to other (meta)data](#I3)   \n",
    "- [R1.1. (Meta)data are released with a clear and accessible data usage license](#R11)  \n",
    "- [R1.2. (Meta)data are associated with detailed provenance](#R12)  \n",
    "- [R1.3. (Meta)data meet domain-relevant community standards](#R13)\n",
    "\n",
    "[FAIR assessment visualization](#visualization)"
   ]
  },
  {
   "cell_type": "markdown",
   "metadata": {},
   "source": [
    "---"
   ]
  },
  {
   "cell_type": "markdown",
   "metadata": {},
   "source": [
    "<a name=\"imports\"></a>\n",
    "#### Imports:"
   ]
  },
  {
   "cell_type": "code",
   "execution_count": 1,
   "metadata": {},
   "outputs": [],
   "source": [
    "# import python packages\n",
    "import bs4\n",
    "import os\n",
    "import pandas as pd\n",
    "import requests\n",
    "import xml.etree.ElementTree as ET\n",
    "from io import StringIO"
   ]
  },
  {
   "cell_type": "code",
   "execution_count": 2,
   "metadata": {},
   "outputs": [],
   "source": [
    "# Import R for visualization using ggplot2: \n",
    "os.environ['R_HOME'] = '/Library/Frameworks/R.framework/Resources' # put here your own R directory\n",
    "%load_ext rpy2.ipython"
   ]
  },
  {
   "cell_type": "markdown",
   "metadata": {},
   "source": [
    "<a name=\"variables\"></a>\n",
    "#### Variables:"
   ]
  },
  {
   "cell_type": "code",
   "execution_count": 3,
   "metadata": {},
   "outputs": [],
   "source": [
    "# Google API   \n",
    "google_search    = \"https://www.google.com/search?q=\"\n",
    "# re3Data API\n",
    "re3data_repos    = \"https://www.re3data.org/api/v1/repositories\"\n",
    "re3data_repo     = \"https://www.re3data.org/api/v1/repository\"\n",
    "re3data_schema   = '{http://www.re3data.org/schema/2-2}' # in the metadata xml"
   ]
  },
  {
   "cell_type": "code",
   "execution_count": 4,
   "metadata": {},
   "outputs": [],
   "source": [
    "# repository variables\n",
    "repository_name  = []\n",
    "repository_api   = []\n",
    "dataset_download = []\n",
    "\n",
    "# ArrayExpress\n",
    "repository_name.append(\"ArrayExpress\")\n",
    "repository_api.append(\"https://www.ebi.ac.uk/arrayexpress/xml/v3/experiments\")\n",
    "dataset_download.append(\"https://www.ebi.ac.uk/arrayexpress/xml/v3/files/\")\n",
    "\n",
    "# GEO\n",
    "repository_name.append(\"Gene Expression Omnibus\")\n",
    "repository_api.append(\"https://eutils.ncbi.nlm.nih.gov/entrez/eutils/esearch.fcgi?\")\n",
    "metadata_api       = \"https://eutils.ncbi.nlm.nih.gov/entrez/eutils/esummary.fcgi?\"\n",
    "repository_acronym = \"gds\" # gene dataset\n",
    "\n",
    "# eNanoMapper\n",
    "repository_name.append(\"data.enanomapper\")\n",
    "\n",
    "# ChEBI\n",
    "repository_name.append(\"ChEBI\")"
   ]
  },
  {
   "cell_type": "code",
   "execution_count": 5,
   "metadata": {},
   "outputs": [],
   "source": [
    "# case names\n",
    "case_name        = []\n",
    "case_name.append(\"Parkinson_AE\")\n",
    "case_name.append(\"NBIA_GEO\")\n",
    "case_name.append(\"TiO2_ENM\")\n",
    "case_name.append(\"Caffeine_ChEBI\")"
   ]
  },
  {
   "cell_type": "code",
   "execution_count": 6,
   "metadata": {},
   "outputs": [],
   "source": [
    "# search keywords\n",
    "keywords = []\n",
    "\n",
    "# ArrayExpress\n",
    "kw = []\n",
    "kw.append(\"Parkinson's disease\")\n",
    "kw.append(\"transcription profiling by array\")\n",
    "kw.append(\"Homo sapiens\")\n",
    "kw.append(\"frontal lobe\")\n",
    "kw.append(\"male\")\n",
    "kw.append(\"female\")\n",
    "kw.append(\"normal\")\n",
    "kw.append(\"true\")\n",
    "keywords.append(kw)\n",
    "\n",
    "# GEO\n",
    "kw = []\n",
    "kw.append(\"nbia\")\n",
    "kw.append(\"homo sapiens\")\n",
    "kw.append(\"expression profiling by array\")\n",
    "keywords.append(kw)\n",
    "\n",
    "# eNanoMapper\n",
    "kw = []\n",
    "#keywords.append(kw)\n",
    "\n",
    "# ChEBI\n",
    "kw = []\n",
    "#keywords.append(kw)"
   ]
  },
  {
   "cell_type": "code",
   "execution_count": 7,
   "metadata": {},
   "outputs": [],
   "source": [
    "# output variables used for FAIR assessment\n",
    "\n",
    "request_status = []\n",
    "metadata       = []\n",
    "dataset_title  = []\n",
    "\n",
    "F1  = []\n",
    "F2  = []\n",
    "F3  = []\n",
    "F4  = []\n",
    "A1  = []\n",
    "A2  = []\n",
    "I1  = []\n",
    "I2  = []\n",
    "I3  = []\n",
    "R1  = []\n",
    "R11 = []\n",
    "R12 = []\n",
    "R13 = []"
   ]
  },
  {
   "cell_type": "markdown",
   "metadata": {},
   "source": [
    "<a name=\"functions\"></a>\n",
    "#### Functions:"
   ]
  },
  {
   "cell_type": "code",
   "execution_count": 8,
   "metadata": {},
   "outputs": [],
   "source": [
    "def find_repo_in_re3_data (repository_name):\n",
    "    \"\"\"\n",
    "    It retrieves metadata about the input repository in re3data.org\n",
    "    \"\"\"\n",
    "    \n",
    "    \n",
    "    # contact the registry\n",
    "    re3data_r = requests.get(re3data_repos)\n",
    "    # put output string in a structured xml tree\n",
    "    re3data_root = ET.fromstring(re3data_r.text)\n",
    "\n",
    "    # look for the wanted repository\n",
    "    flag = 0\n",
    "    for i in range (0, len(re3data_root)):\n",
    "        if re3data_root[i][1].text == repository_name: # first index is a <repository> group, \n",
    "                                                       # second index is for the tags inside (<id>, <name>, <link>)\n",
    "            flag = 1\n",
    "            repository_index = i\n",
    "\n",
    "    if flag == 1:   \n",
    "        \n",
    "        re3data_metadata_address = str(re3data_root[repository_index][2].attrib[\"href\"])\n",
    "        \n",
    "        #print (\"Index in list: \" + str(repository_index))\n",
    "        #print (\"Tag          : \" + str(re3data_root[repository_index][1].tag))\n",
    "        #print (\"Text         : \" + str(re3data_root[repository_index][1].text))\n",
    "        #print (\"Tag          : \" + str(re3data_root[repository_index][2].tag))\n",
    "        #print (\"Attribute    : \" + str(re3data_root[repository_index][2].attrib)) # attributes do not have a closing tag\n",
    "\n",
    "    else: \n",
    "        print (\"Repository not found\")\n",
    "        \n",
    "    return re3data_metadata_address"
   ]
  },
  {
   "cell_type": "code",
   "execution_count": 9,
   "metadata": {},
   "outputs": [],
   "source": [
    "def look_for_tag_re3data (root, schema, characteristic):\n",
    "    \n",
    "    \"\"\" \n",
    "    It extract text corresponding to provided tag in re3data\n",
    "    \"\"\"\n",
    "    \n",
    "    # look for content\n",
    "    text = []\n",
    "\n",
    "    for i in range (0, len(root[0])):\n",
    "\n",
    "        # tag\n",
    "        tag  = root[0][i].tag\n",
    "        tag  = tag.replace(schema, \"\")\n",
    "\n",
    "        if tag == characteristic:            \n",
    "            if len(root[0][i]) == 0:\n",
    "                text.append(root[0][i].text)\n",
    "            else:\n",
    "                for a in range (0, len(root[0][i])):\n",
    "                    tag  = root[0][i][a].tag\n",
    "                    tag  = tag.replace(schema, \"\") # to improve redeability\n",
    "                    text.append(root[0][i][a].text)\n",
    "\n",
    "    return text"
   ]
  },
  {
   "cell_type": "code",
   "execution_count": 10,
   "metadata": {},
   "outputs": [],
   "source": [
    "def pretty_print_xml (root): \n",
    "    \"\"\"\n",
    "    It prints xml with identations\n",
    "    \"\"\"\n",
    "    \n",
    "    count = 0\n",
    "    for i in range (0, len(root)):\n",
    "\n",
    "        if len(root[i]) == 0:\n",
    "            print (\"<\"  + str(root[i].tag) + \">\")\n",
    "            print (\"   \" + str(root[i].text))\n",
    "            count = count + 1\n",
    "        else: \n",
    "            for j in range(0, len(root[i])):\n",
    "                if len(root[i][j]) == 0:\n",
    "                    print (\"<\"  + str(root[i][j].tag) + \">\")\n",
    "                    print (\"   \" + str(root[i][j].text))\n",
    "                    print (\"<\"  + str(root[i][j].tag + \">\"))\n",
    "                    count = count + 1\n",
    "                else: \n",
    "                    for k in range (0, len(root[i][j])):\n",
    "                        print (\"  <\"  + str(root[i][j][k].tag + \">\"))\n",
    "                        print (\"      \" + str(root[i][j][k].text))\n",
    "                        count = count + 1\n",
    "    return count"
   ]
  },
  {
   "cell_type": "code",
   "execution_count": 11,
   "metadata": {},
   "outputs": [],
   "source": [
    "def find_id_in_metadata(id_tag, metadata, repository_name): \n",
    "    \"\"\"\n",
    "    Given id_tag and the metadata, finds the id in the metadata, an returns yes or no\n",
    "    repository_name is for print\n",
    "    metadata is in xml\n",
    "    \"\"\"\n",
    "    \n",
    "    for i in range (0, len(metadata)):\n",
    "        if metadata[i].tag == id_tag:\n",
    "            identifier = metadata[i].text\n",
    "            print (repository_name + \": dataset identifier = \" + str(identifier))\n",
    "    # assign value to F3\n",
    "    if identifier.isdigit():\n",
    "        output = 1\n",
    "    else:\n",
    "        output = 0\n",
    "    \n",
    "    return output\n",
    "    \n",
    "   "
   ]
  },
  {
   "cell_type": "markdown",
   "metadata": {},
   "source": [
    "---"
   ]
  },
  {
   "cell_type": "markdown",
   "metadata": {},
   "source": [
    "<a name=\"retrieval\"></a>\n",
    "### Retriving datasets "
   ]
  },
  {
   "cell_type": "markdown",
   "metadata": {},
   "source": [
    "<a name=\"Parkinson_AE\"></a>\n",
    "#### Case 1: Parkinson_AE"
   ]
  },
  {
   "cell_type": "code",
   "execution_count": 12,
   "metadata": {},
   "outputs": [],
   "source": [
    "case_id = 0"
   ]
  },
  {
   "cell_type": "code",
   "execution_count": 13,
   "metadata": {},
   "outputs": [
    {
     "name": "stdout",
     "output_type": "stream",
     "text": [
      "number of datasets found: 2\n"
     ]
    }
   ],
   "source": [
    "r_repo = requests.get(repository_api[case_id],\n",
    "                  params={\"keywords\"      :  keywords[case_id][0], # \"Parkinson's disease\"\n",
    "                          \"experimenttype\":  keywords[case_id][1], # \"transcription profiling by array\"\n",
    "                          \"organism\"      :  keywords[case_id][2], # \"Homo sapiens\" \n",
    "                          \"sa\"            : [keywords[case_id][0], keywords[case_id][3], keywords[case_id][4], keywords[case_id][5]],  # \"Parkinson's disease\", \"frontal lobe\", \"male\", \"female\"\n",
    "                          \"diseasestate\"  : [keywords[case_id][0], keywords[case_id][6]], # \"Parkinson's disease\",  \"normal\"\n",
    "                          \"raw\"           :  keywords[case_id][7]})\n",
    "\n",
    "request_status.append(r_repo.status_code)\n",
    "\n",
    "root = ET.fromstring(r_repo.text)\n",
    "print(\"number of datasets found: \" + str (len(root)))"
   ]
  },
  {
   "cell_type": "markdown",
   "metadata": {},
   "source": [
    "Because the query via API reports 2 results, we have to investigate a second layer of metadata that is not provided in the API but is part of the downloadable package.  \n",
    "We use this metadata only to to select the dataset to use, not to assess FAIRness"
   ]
  },
  {
   "cell_type": "code",
   "execution_count": 14,
   "metadata": {},
   "outputs": [
    {
     "name": "stdout",
     "output_type": "stream",
     "text": [
      "['E-MTAB-1194', 'E-GEOD-7307']\n"
     ]
    }
   ],
   "source": [
    "# look for experiment_id \n",
    "experiment_id = []\n",
    "\n",
    "for accession in root.iter('accession'):\n",
    "    if len(accession.text) == 11:\n",
    "        experiment_id.append(accession.text)\n",
    "print (experiment_id)"
   ]
  },
  {
   "cell_type": "code",
   "execution_count": 15,
   "metadata": {},
   "outputs": [],
   "source": [
    "# get metadata of dataset 1\n",
    "d1_url = dataset_download[0] + experiment_id[0] + \"/\"\n",
    "d1_r = requests.get(d1_url)\n",
    "# pass output to ET\n",
    "d1_root = ET.fromstring(d1_r.text)\n",
    "\n",
    "# look for urls of file names to download\n",
    "for url in d1_root.iter('url'):\n",
    "    if \"sdrf.txt\" in str(url.text):\n",
    "        d1_sdrf_name = url.text\n",
    "    \n",
    "# get file\n",
    "df1_r = requests.get(d1_sdrf_name)\n",
    "\n",
    "# convert string tabular text to pandas dataframe\n",
    "full_string = StringIO(df1_r.text)\n",
    "df1 = pd.read_csv(full_string, sep=\"\\t\")\n",
    "# df1\n",
    "\n",
    "# check how many columns with \"Parkinson's desease\" correspond to \"frontal lobe\"\n",
    "b = df1[ ( df1[\"Characteristics[DiseaseState]\"] == \"Parkinson's disease\" ) & (df1[\"Characteristics[OrganismPart]\"] == \"frontal lobe\")]\n",
    "df1_n_of_corresponding_rows = b.shape[0]\n",
    "#b"
   ]
  },
  {
   "cell_type": "code",
   "execution_count": 16,
   "metadata": {},
   "outputs": [],
   "source": [
    "# get metadata of the dataset 2\n",
    "d2_url = dataset_download[0] + experiment_id[1] + \"/\"\n",
    "d2_r = requests.get(d2_url)\n",
    "# pass output to ET\n",
    "d2_root = ET.fromstring(d2_r.text)\n",
    "\n",
    "# look for urls of file names to download\n",
    "for url in d2_root.iter('url'):\n",
    "    if \"sdrf.txt\" in str(url.text):\n",
    "        d2_sdrf_name = url.text\n",
    "    \n",
    "# get file\n",
    "df2_r = requests.get(d2_sdrf_name)\n",
    "\n",
    "# convert string tabular text to pandas dataframe\n",
    "full_string = StringIO(df2_r.text)\n",
    "df2 = pd.read_csv(full_string, sep=\"\\t\")\n",
    "\n",
    "# show all columns\n",
    "n_of_columns = df2.shape[1]\n",
    "pd.set_option(\"display.max_columns\",n_of_columns)\n",
    "pd.set_option(\"display.max_rows\",10)\n",
    "#df2\n",
    "\n",
    "# check if columns with \"Parkinson's desease\" correspond to \"frontal lobe\"\n",
    "b = df2[ ( df2[\"Characteristics [DiseaseState]\"] == \"Parkinson's disease\" ) & (df2[\"Characteristics [OrganismPart]\"] == \"frontal lobe\")]\n",
    "df2_n_of_corresponding_rows = b.shape[0]\n",
    "# b"
   ]
  },
  {
   "cell_type": "code",
   "execution_count": 17,
   "metadata": {},
   "outputs": [
    {
     "name": "stdout",
     "output_type": "stream",
     "text": [
      "Using dataset: E-MTAB-1194\n"
     ]
    }
   ],
   "source": [
    "# select the dataset \n",
    "if df1_n_of_corresponding_rows > df2_n_of_corresponding_rows:\n",
    "    metadata.append(root[0])\n",
    "    print (\"Using dataset: \" + str(experiment_id[0]))\n",
    "else: \n",
    "    metadata.append(root[1])\n",
    "    print (\"Using dataset: \" + str(experiment_id[0]))"
   ]
  },
  {
   "cell_type": "code",
   "execution_count": 18,
   "metadata": {},
   "outputs": [],
   "source": [
    "# print metadata\n",
    "# pretty_print_xml (metadata[case_id])"
   ]
  },
  {
   "cell_type": "markdown",
   "metadata": {},
   "source": [
    "<a name=\"NBIA_GEO\"></a>\n",
    "#### Case 2: NBIA_GEO"
   ]
  },
  {
   "cell_type": "code",
   "execution_count": 19,
   "metadata": {},
   "outputs": [],
   "source": [
    "case_id = 1"
   ]
  },
  {
   "cell_type": "code",
   "execution_count": 20,
   "metadata": {},
   "outputs": [],
   "source": [
    "# query repository\n",
    "query_string = keywords[case_id][0] +  \" AND \" + keywords[case_id][1] + \" AND \" + keywords[case_id][2]\n",
    "r_repo = requests.get(repository_api[case_id],\n",
    "                  params={\"db\"   : repository_acronym,\n",
    "                          \"term\" : query_string})\n",
    "request_status.append(r_repo.status_code)\n",
    "\n",
    "# convert answer from string to xml_tree\n",
    "root = ET.fromstring(r_repo.text)\n",
    "\n",
    "#pretty_print_xml (root)"
   ]
  },
  {
   "cell_type": "code",
   "execution_count": 21,
   "metadata": {},
   "outputs": [],
   "source": [
    "# get identifier\n",
    "for field in root.iter('Id'):\n",
    "    id = field.text\n",
    "\n",
    "# get metadata\n",
    "r_meta = requests.get(metadata_api,\n",
    "                  params={\"db\" : repository_acronym,\n",
    "                          \"id\" : id})\n",
    "root_meta = ET.fromstring(r_meta.text)\n",
    "metadata.append(root_meta[0])"
   ]
  },
  {
   "cell_type": "code",
   "execution_count": 22,
   "metadata": {},
   "outputs": [],
   "source": [
    "# print metadata\n",
    "# pretty_print_xml (metadata[case_id])"
   ]
  },
  {
   "cell_type": "markdown",
   "metadata": {},
   "source": [
    "<a name=\"TiO2_ENM\"></a>\n",
    "#### Case 3: TiO2_ENM"
   ]
  },
  {
   "cell_type": "code",
   "execution_count": 23,
   "metadata": {},
   "outputs": [],
   "source": [
    "case_id = 2"
   ]
  },
  {
   "cell_type": "markdown",
   "metadata": {},
   "source": [
    "<a name=\"Caffeine_ChEBI\"></a>\n",
    "#### Case 4: Caffeine_ChEBI"
   ]
  },
  {
   "cell_type": "code",
   "execution_count": 24,
   "metadata": {},
   "outputs": [],
   "source": [
    "case_id = 3\n",
    "\n"
   ]
  },
  {
   "cell_type": "markdown",
   "metadata": {},
   "source": [
    "---"
   ]
  },
  {
   "cell_type": "markdown",
   "metadata": {},
   "source": [
    "<a name=\"metrics\"></a>\n",
    "### FAIR assessment"
   ]
  },
  {
   "cell_type": "markdown",
   "metadata": {},
   "source": [
    "---"
   ]
  },
  {
   "cell_type": "markdown",
   "metadata": {},
   "source": [
    "<a name=\"F1\"></a>\n",
    "#### F1. (Meta)data are assigned a globally unique and persistent identifier\n",
    "We used www.re3data.org to check whether the repository provides a globally unique and persistent identifier.  \n",
    "Because it is not possible to retrieve this information via API, we manually checked the \"doi\" icon at the top-right of each repository page. \n",
    "We manually assigned: \n",
    "- `1` when the hovered icon stated: *The research data repository uses DOI to make its provided data persistent, unique and citable* \n",
    "- `0` when the hovered icon stated: *The research data repository does not use a persistent identifier system*  "
   ]
  },
  {
   "cell_type": "code",
   "execution_count": 25,
   "metadata": {},
   "outputs": [
    {
     "name": "stdout",
     "output_type": "stream",
     "text": [
      "--> F1 are: [0, 0, 0, 0]\n"
     ]
    }
   ],
   "source": [
    "# Parkinson_AE\n",
    "F1.append(0) # information retrieved at: https://www.re3data.org/repository/r3d100010222\n",
    "\n",
    "# NBIA_GEO\n",
    "F1.append(0) # information retrieved at: https://www.re3data.org/repository/r3d100010283\n",
    "\n",
    "# TiO2_ENM\n",
    "F1.append(0) # information retrieved at: https://www.re3data.org/repository/r3d100013052\n",
    "\n",
    "# Caffeine_ChEBI\n",
    "F1.append(0) # information retrieved at: https://www.re3data.org/repository/r3d100012626\n",
    "\n",
    "# Print out F1 values\n",
    "print (\"--> F1 are: \" + str(F1) )"
   ]
  },
  {
   "cell_type": "markdown",
   "metadata": {},
   "source": [
    "---"
   ]
  },
  {
   "cell_type": "markdown",
   "metadata": {},
   "source": [
    "<a name=\"F2\"></a>\n",
    "#### F2. Data are described with rich metadata \n",
    "\n",
    "Metadata contain the keywords used in the query"
   ]
  },
  {
   "cell_type": "code",
   "execution_count": 26,
   "metadata": {},
   "outputs": [
    {
     "name": "stdout",
     "output_type": "stream",
     "text": [
      "ArrayExpress\n",
      "Keyword *transcription profiling by array* found\n",
      "Keyword *Parkinson's disease* found\n",
      "Keyword *normal\n",
      "Keyword *Homo sapiens* found\n",
      "Keyword *frontal lobe* found\n",
      "Keyword *male* found\n",
      "Keyword *female* found\n",
      "Keyword: rawData\n",
      "Total number of keywords in search: 8\n",
      "Total number of keywords found in metadata: 8\n"
     ]
    }
   ],
   "source": [
    "# Parkinson_AE\n",
    "\n",
    "case_id = 0\n",
    "print (repository_name[case_id])\n",
    "\n",
    "# counter \n",
    "n_found_keywords = 0\n",
    "\n",
    "# look for publication authors, title, and email of corresponding author \n",
    "for i in range (0, len(metadata[case_id])):\n",
    "    \n",
    "    # disease - Parkinson's disease\n",
    "    if len(metadata[case_id][i]) > 2:\n",
    "        if str(metadata[case_id][i].tag) == \"samplecharacteristic\" and str(metadata[case_id][i][2].text).find(keywords[case_id][0]) != -1: # \"Parkinson's disease\":\n",
    "            print (\"Keyword *\" + str(metadata[case_id][i][2].text) + \"* found\")\n",
    "            n_found_keywords = n_found_keywords + 1\n",
    "    \n",
    "    # experiment type\n",
    "    if str(metadata[case_id][i].tag) == \"experimenttype\"           and str(metadata[case_id][i].text).find(keywords[case_id][1])    != -1: # \"transcription profiling by array\"\n",
    "        print (\"Keyword *\" + str(metadata[case_id][i].text) + \"* found\")\n",
    "        n_found_keywords = n_found_keywords + 1\n",
    "        \n",
    "    # homo sapiens\n",
    "    if str(metadata[case_id][i].tag) == \"samplecharacteristic\"     and str(metadata[case_id][i][1].text).find(keywords[case_id][2]) != -1: # \"Homo sapiens\":\n",
    "        print (\"Keyword *\" + str(metadata[case_id][i][1].text) + \"* found\")\n",
    "        n_found_keywords = n_found_keywords + 1\n",
    "\n",
    "    # frontal lobe\n",
    "    if str(metadata[case_id][i].tag) == \"samplecharacteristic\"     and str(metadata[case_id][i][1].text).find(keywords[case_id][3]) != -1: # \"frontal lobe\":\n",
    "        print (\"Keyword *\" + str(metadata[case_id][i][1].text) + \"* found\")\n",
    "        n_found_keywords = n_found_keywords + 1\n",
    "        \n",
    "    # sex - male\n",
    "    if len(metadata[case_id][i]) > 2:\n",
    "        if str(metadata[case_id][i].tag) == \"samplecharacteristic\" and str(metadata[case_id][i][2].text).find(keywords[case_id][4]) != -1: # \"male\":\n",
    "            print (\"Keyword *\" + str(metadata[case_id][i][2].text) + \"* found\")\n",
    "            n_found_keywords = n_found_keywords + 1\n",
    "            \n",
    "    # sex - female\n",
    "    if str(metadata[case_id][i].tag) == \"samplecharacteristic\"     and str(metadata[case_id][i][1].text).find(keywords[case_id][5]) != -1: # \"female\":\n",
    "        print (\"Keyword *\" + str(metadata[case_id][i][1].text) + \"* found\")\n",
    "        n_found_keywords = n_found_keywords + 1\n",
    "    \n",
    "    # disease - normal\n",
    "    if str(metadata[case_id][i].tag) == \"samplecharacteristic\"     and str(metadata[case_id][i][1].text).find(keywords[case_id][6]) != -1: # \"normal\":\n",
    "        print (\"Keyword *\" + str(metadata[case_id][i][1].text))\n",
    "        n_found_keywords = n_found_keywords + 1\n",
    "    \n",
    "    # raw data \n",
    "    if str(metadata[case_id][i].tag) == \"bioassaydatagroup\": #rawData\n",
    "        print (\"Keyword: \" + str(metadata[case_id][i][1].text))\n",
    "        n_found_keywords = n_found_keywords + 1\n",
    "\n",
    "# assign F2\n",
    "if n_found_keywords == 0:           # none of the search keywords are in the metafile data\n",
    "    F2.append(0)\n",
    "else:\n",
    "    F2.append(n_found_keywords/len(keywords[case_id]))\n",
    "    \n",
    "print (\"Total number of keywords in search: \" + str(len(keywords[case_id])))\n",
    "print (\"Total number of keywords found in metadata: \" + str(n_found_keywords))"
   ]
  },
  {
   "cell_type": "code",
   "execution_count": 27,
   "metadata": {},
   "outputs": [
    {
     "name": "stdout",
     "output_type": "stream",
     "text": [
      "Gene Expression Omnibus\n",
      "Keyword *Mus musculus; Homo sapiens* found\n",
      "Keyword *Expression profiling by array* found\n",
      "Total number of keywords in search: 3\n",
      "Total number of keywords found in metadata: 2\n"
     ]
    }
   ],
   "source": [
    "# NBIA_GEO\n",
    " \n",
    "case_id = 1\n",
    "print (repository_name[case_id])\n",
    "\n",
    "# counter \n",
    "n_found_keywords = 0\n",
    "\n",
    "# look for publication authors, title, and email of corresponding author \n",
    "for i in range (0, len(metadata[case_id])):\n",
    "    \n",
    "    # nbia\n",
    "    if str(metadata[case_id][i].text).lower().find(keywords[case_id][0]) != -1:\n",
    "        print (\"Keyword *\" + str(metadata[case_id][i].text) + \"* found\")\n",
    "        n_found_keywords = n_found_keywords + 1\n",
    "    \n",
    "    # homo sapiens\n",
    "    if str(metadata[case_id][i].text).lower().find(keywords[case_id][1]) != -1:\n",
    "        print (\"Keyword *\" + str(metadata[case_id][i].text) + \"* found\")\n",
    "        n_found_keywords = n_found_keywords + 1\n",
    "\n",
    "    \n",
    "    # experiment type\n",
    "    if str(metadata[case_id][i].text).lower().find(keywords[case_id][2]) != -1:\n",
    "        print (\"Keyword *\" + str(metadata[case_id][i].text) + \"* found\")\n",
    "        n_found_keywords = n_found_keywords + 1\n",
    "\n",
    "# assign F2\n",
    "if n_found_keywords == 0:           # none of the search keywords are in the metafile data\n",
    "    F2.append(0)\n",
    "else:\n",
    "    F2.append(n_found_keywords/len(keywords[case_id]))\n",
    "    \n",
    "print (\"Total number of keywords in search: \" + str(len(keywords[case_id])))\n",
    "print (\"Total number of keywords found in metadata: \" + str(n_found_keywords))\n"
   ]
  },
  {
   "cell_type": "code",
   "execution_count": 28,
   "metadata": {},
   "outputs": [
    {
     "name": "stdout",
     "output_type": "stream",
     "text": [
      "data.enanomapper\n"
     ]
    }
   ],
   "source": [
    "# TiO2_ENM\n",
    "case_id = 2\n",
    "print (repository_name[case_id])\n",
    "\n",
    "# counter \n",
    "n_found_keywords = 0\n",
    "\n",
    "# to be done\n",
    "\n",
    "F2.append(None)"
   ]
  },
  {
   "cell_type": "code",
   "execution_count": 29,
   "metadata": {},
   "outputs": [
    {
     "name": "stdout",
     "output_type": "stream",
     "text": [
      "ChEBI\n"
     ]
    }
   ],
   "source": [
    "# Caffeine_ChEBI\n",
    "case_id = 3\n",
    "print (repository_name[case_id])\n",
    "\n",
    "# counter \n",
    "n_found_keywords = 0\n",
    "\n",
    "# to be done\n",
    "\n",
    "F2.append(None)"
   ]
  },
  {
   "cell_type": "code",
   "execution_count": 30,
   "metadata": {},
   "outputs": [
    {
     "name": "stdout",
     "output_type": "stream",
     "text": [
      "--> F2: [1.0, 0.6666666666666666, None, None]\n"
     ]
    }
   ],
   "source": [
    "print (\"--> F2: \" + str(F2))"
   ]
  },
  {
   "cell_type": "markdown",
   "metadata": {},
   "source": [
    "---"
   ]
  },
  {
   "cell_type": "markdown",
   "metadata": {},
   "source": [
    "<a name=\"F3\"></a>\n",
    "#### F3. Metadata clearly and explicitly include the identifier of the data it describes  "
   ]
  },
  {
   "cell_type": "code",
   "execution_count": 31,
   "metadata": {},
   "outputs": [],
   "source": [
    "def find_id_in_metadata(id_tag, metadata, repository_name): \n",
    "    \"\"\"\n",
    "    Given id_tag and the metadata, finds the id in the metadata, an returns yes or no\n",
    "    repository_name is for print\n",
    "    metadata is in xml\n",
    "    \"\"\"\n",
    "    \n",
    "    for i in range (0, len(metadata)):\n",
    "        if metadata[i].tag == id_tag:\n",
    "            identifier = metadata[i].text\n",
    "            print (repository_name + \": dataset identifier = \" + str(identifier))\n",
    "    # assign value to F3\n",
    "    if identifier.isdigit():\n",
    "        output = 1\n",
    "    else:\n",
    "        output = 0\n",
    "    \n",
    "    return output\n",
    "    \n",
    "   "
   ]
  },
  {
   "cell_type": "code",
   "execution_count": 32,
   "metadata": {},
   "outputs": [
    {
     "name": "stdout",
     "output_type": "stream",
     "text": [
      "ArrayExpress: dataset identifier = 219251\n",
      "Gene Expression Omnibus: dataset identifier = 200070433\n",
      "--> F3: [1, 1, None, None]\n"
     ]
    }
   ],
   "source": [
    "# Parkinson_AE\n",
    "case_id = 0\n",
    "found_id = find_id_in_metadata(\"id\", metadata[case_id], repository_name[case_id])\n",
    "F3.append(found_id)\n",
    "\n",
    "# NBIA_GEO\n",
    "case_id = 1\n",
    "found_id = find_id_in_metadata(\"Id\", metadata[case_id], repository_name[case_id])\n",
    "F3.append(found_id)\n",
    "\n",
    "# TiO2_ENM\n",
    "case_id = 2\n",
    "# to be done\n",
    "F3.append(None)\n",
    "\n",
    "# Caffeine_ChEBI\n",
    "case_id = 3\n",
    "# to be done\n",
    "F3.append(None)\n",
    "\n",
    "print (\"--> F3: \" + str(F3) )"
   ]
  },
  {
   "cell_type": "markdown",
   "metadata": {},
   "source": [
    "---"
   ]
  },
  {
   "cell_type": "markdown",
   "metadata": {},
   "source": [
    "<a name=\"F4\"></a>\n",
    "#### F4. (Meta)data are registered or indexed in a searchable resource\n",
    "\n",
    "Search for the dataset title in www.google.com"
   ]
  },
  {
   "cell_type": "code",
   "execution_count": 33,
   "metadata": {},
   "outputs": [
    {
     "name": "stdout",
     "output_type": "stream",
     "text": [
      "Dataset titles\n",
      "['Transcription profiling by array of human frontal cortex (area 8) from Parkinson disease cases and controls', 'Gene expression in human or mouse brain with iron loading']\n",
      "--> F4: [None, None, None, None]\n"
     ]
    }
   ],
   "source": [
    "# Parkinson_AE\n",
    "case_id = 0\n",
    "\n",
    "# get dataset title\n",
    "for i in range(0, len(metadata[case_id])):\n",
    "    if str(metadata[case_id][i].tag) == \"name\":\n",
    "        dataset_title.append(metadata[case_id][i].text)\n",
    "# find dataset in google\n",
    "        \n",
    "# NBIA_GEO\n",
    "case_id = 1\n",
    "\n",
    "# get dataset title\n",
    "dataset_title.append(str(metadata[case_id][3].text))\n",
    "# find dataset in google\n",
    "\n",
    "print (\"Dataset titles\") \n",
    "print (dataset_title)\n",
    "\n",
    "# to be implemented\n",
    "F4.append(None)\n",
    "F4.append(None)\n",
    "F4.append(None)\n",
    "F4.append(None)\n",
    "\n",
    "print (\"--> F4: \" + str(F4) )\n"
   ]
  },
  {
   "cell_type": "code",
   "execution_count": 34,
   "metadata": {},
   "outputs": [],
   "source": [
    "# # query Google API for repository_url\n",
    "\n",
    "# string_to_find = repository_name[case_id] # dataset_title[case_id]\n",
    "\n",
    "# r = requests.get(google_search + string_to_find)\n",
    "# soup = bs4.BeautifulSoup(r.text, \"html.parser\")\n",
    "# link_elements = soup.select('.r a')\n",
    "# #soup = bs4.BeautifulSoup(r.text, \"lxml\")\n",
    "# for item in soup.select(\".r a\"): # .r is a class in html; a is a link\n",
    "#     print (item.text)\n",
    "\n",
    "\n",
    "# # find repository_url in the search output\n",
    "# counts = 0\n",
    "# for i in range(len(link_elements)):\n",
    "#     if (link_elements[i].find (string_to_find) != -1):     \n",
    "#         counts = counts + 1\n",
    "        \n",
    "\n",
    "# # assign F4: It is 0 if repository_url is not present  in the search output, it is 1 otherwise\n",
    "# if counts != 0:\n",
    "#     print (\"*\" + string_to_find + \"* found in \" + str(counts) + \" urls out of \" + str(len(link_elements)) )\n",
    "#     F4 = 1\n",
    "# else: \n",
    "#     print (\"*\" + string_to_find + \"* not found in the first \" + str(len(link_elements)) + \" urls\")\n",
    "#     F4 = 0\n",
    "    \n",
    "# print (\"F4: \" + str(F4))"
   ]
  },
  {
   "cell_type": "markdown",
   "metadata": {},
   "source": [
    "---"
   ]
  },
  {
   "cell_type": "markdown",
   "metadata": {},
   "source": [
    "<a name=\"A1\"></a>\n",
    "#### A1. Metadata are retrievable by their identifier using a standardized communications protocol   \n",
    "**A1.1 The protocol is open, free, and universally implementable**   \n",
    "**A1.2 The protocol allows for an authentication and authorization procedure, where necessary** \n",
    "\n",
    "In this implementation we retrieve information only via HTTP"
   ]
  },
  {
   "cell_type": "code",
   "execution_count": 35,
   "metadata": {},
   "outputs": [
    {
     "name": "stdout",
     "output_type": "stream",
     "text": [
      "--> A1: [0, 0]\n",
      "--> A1: [0, 0, None, None]\n"
     ]
    }
   ],
   "source": [
    "# for all use cases\n",
    "for i in range(0, len(request_status)):\n",
    "    if request_status == 200:\n",
    "        A1.append(1) \n",
    "    else:\n",
    "        A1.append(0) \n",
    "print (\"--> A1: \" + str(A1))  \n",
    "\n",
    "# for enanomapper and chebi\n",
    "A1.append(None)\n",
    "A1.append(None)\n",
    "print (\"--> A1: \" + str(A1)) "
   ]
  },
  {
   "cell_type": "markdown",
   "metadata": {},
   "source": [
    "<a name=\"A2\"></a>\n",
    "#### A2. Metadata are accessible, even when the data are no longer available  \n",
    "*Interpretation:* If metadata do not have a unique identifier, there is no guarantee that they are accessible in the future \n",
    "\n",
    "-> Look for policy"
   ]
  },
  {
   "cell_type": "code",
   "execution_count": 36,
   "metadata": {},
   "outputs": [
    {
     "name": "stdout",
     "output_type": "stream",
     "text": [
      "to be double-checked\n",
      "--> A2: [None, None, None, None]\n"
     ]
    }
   ],
   "source": [
    "print (\"to be double-checked\")\n",
    "A2.append(None)\n",
    "A2.append(None)\n",
    "A2.append(None)\n",
    "A2.append(None)\n",
    "\n",
    "print (\"--> A2: \" + str(A2) )\n"
   ]
  },
  {
   "cell_type": "markdown",
   "metadata": {},
   "source": [
    "---"
   ]
  },
  {
   "cell_type": "markdown",
   "metadata": {},
   "source": [
    "<a name=\"I1\"></a>\n",
    "#### I1. Metadata use a formal, accessible, shared, and broadly applicable language for knowledge representation \n",
    "\n",
    "ArrayExpress provides metadata in XLM format using its specific schema:   \n",
    "https://www.ebi.ac.uk/arrayexpress/help/programmatic_access.html#Format_XML_results  \n",
    "(https://www.ebi.ac.uk/arrayexpress/help/programmatic_access.html)  "
   ]
  },
  {
   "cell_type": "code",
   "execution_count": 37,
   "metadata": {},
   "outputs": [
    {
     "name": "stdout",
     "output_type": "stream",
     "text": [
      "to be double-checked\n",
      "--> I1: [0.5, None, None, None]\n"
     ]
    }
   ],
   "source": [
    "print (\"to be double-checked\")\n",
    "I1.append(0.5)   # manual assignment\n",
    "I1.append(None)\n",
    "I1.append(None)\n",
    "I1.append(None)\n",
    "\n",
    "print (\"--> I1: \" + str(I1) )    "
   ]
  },
  {
   "cell_type": "markdown",
   "metadata": {},
   "source": [
    "---"
   ]
  },
  {
   "cell_type": "markdown",
   "metadata": {},
   "source": [
    "<a name=\"I2\"></a>\n",
    "#### I2. Metadata use vocabularies that follow FAIR principles\n",
    "We did not assess this principle"
   ]
  },
  {
   "cell_type": "code",
   "execution_count": 38,
   "metadata": {},
   "outputs": [
    {
     "name": "stdout",
     "output_type": "stream",
     "text": [
      "--> I2: [None, None, None, None]\n"
     ]
    }
   ],
   "source": [
    "# Parkinson_AE\n",
    "I2.append(None) \n",
    "# NBIA_GEO\n",
    "I2.append(None) \n",
    "# TiO2_ENM\n",
    "I2.append(None) \n",
    "# Caffeine_ChEBI\n",
    "I2.append(None) \n",
    "\n",
    "print (\"--> I2: \" + str(I2))"
   ]
  },
  {
   "cell_type": "markdown",
   "metadata": {},
   "source": [
    "---"
   ]
  },
  {
   "cell_type": "markdown",
   "metadata": {},
   "source": [
    "<a name=\"I3\"></a>\n",
    "#### I3. (Meta)data include qualified references to other (meta)data  \n",
    "Manually checked if there are references in metadata"
   ]
  },
  {
   "cell_type": "code",
   "execution_count": 39,
   "metadata": {},
   "outputs": [
    {
     "name": "stdout",
     "output_type": "stream",
     "text": [
      "to be double-checked\n",
      "--> I3: [None, None, None, None]\n"
     ]
    }
   ],
   "source": [
    "print (\"to be double-checked\")\n",
    "# Parkinson_AE\n",
    "I3.append(None) \n",
    "# NBIA_GEO\n",
    "I3.append(None) \n",
    "# TiO2_ENM\n",
    "I3.append(None) \n",
    "# Caffeine_ChEBI\n",
    "I3.append(None) \n",
    "print (\"--> I3: \" + str(I3))"
   ]
  },
  {
   "cell_type": "markdown",
   "metadata": {},
   "source": [
    "---"
   ]
  },
  {
   "cell_type": "markdown",
   "metadata": {},
   "source": [
    "<a name=\"R1\"></a>\n",
    "#### R1 (meta)data are richly described with a plurality of accurate and relevant attributes \n",
    "Metadata contained other information (e.g. subject age), but this information was not relevant for this research question\n",
    "- To be changed: I will consider extra info in general"
   ]
  },
  {
   "cell_type": "code",
   "execution_count": 40,
   "metadata": {},
   "outputs": [
    {
     "name": "stdout",
     "output_type": "stream",
     "text": [
      "to be double-checked\n",
      "--> R1: [None, None, None, None]\n"
     ]
    }
   ],
   "source": [
    "print (\"to be double-checked\")\n",
    "# Parkinson_AE\n",
    "R1.append(None) \n",
    "# NBIA_GEO\n",
    "R1.append(None) \n",
    "# TiO2_ENM\n",
    "R1.append(None) \n",
    "# Caffeine_ChEBI\n",
    "R1.append(None) \n",
    "print (\"--> R1: \" + str(R1))"
   ]
  },
  {
   "cell_type": "markdown",
   "metadata": {},
   "source": [
    "---"
   ]
  },
  {
   "cell_type": "markdown",
   "metadata": {},
   "source": [
    "<a name=\"R11\"></a>\n",
    "#### R1.1. Metadata are released with a clear and accessible data usage license  "
   ]
  },
  {
   "cell_type": "markdown",
   "metadata": {},
   "source": [
    "Assumption: License stated in www.re3data.org"
   ]
  },
  {
   "cell_type": "code",
   "execution_count": 41,
   "metadata": {},
   "outputs": [
    {
     "name": "stdout",
     "output_type": "stream",
     "text": [
      "ArrayExpress\n",
      "['other', 'https://www.ebi.ac.uk/arrayexpress/help/data_availability.html']\n",
      "Gene Expression Omnibus\n",
      "['Copyrights', 'http://www.ncbi.nlm.nih.gov/geo/info/disclaimer.html']\n",
      "data.enanomapper\n",
      "['Copyrights', 'https://echa.europa.eu/web/guest/legal-notice', 'CC0', 'https://creativecommons.org/publicdomain/zero/1.0/']\n",
      "ChEBI\n",
      "['CC', 'http://www.ebi.ac.uk/chebi/aboutChebiForward.do', 'other', 'https://www.ebi.ac.uk/about/terms-of-use']\n",
      "--> R11: [1, 1, 1, 1]\n"
     ]
    }
   ],
   "source": [
    "for i in range (0, len(repository_name)): \n",
    "    \n",
    "    # extract repository metadata\n",
    "    re3data_metadata_address = find_repo_in_re3_data (repository_name[i])\n",
    "\n",
    "    # extract repository number \n",
    "    repository_number = re3data_metadata_address[re3data_metadata_address.rfind('/') : len(re3data_metadata_address)]\n",
    "\n",
    "    # metadata_url\n",
    "    metadata_url      = re3data_repo + str(repository_number)\n",
    "\n",
    "    # access the repository metadata \n",
    "    re3data_repo_r = requests.get(metadata_url)\n",
    "\n",
    "    # put the r_repo string in a structured xml tree\n",
    "    re3data_repo_root = ET.fromstring(re3data_repo_r.text)\n",
    "    \n",
    "    # get repository license\n",
    "    output = look_for_tag_re3data (re3data_repo_root, re3data_schema, 'dataLicense')\n",
    "    \n",
    "    print (repository_name[i])\n",
    "    print (output)\n",
    "    \n",
    "    if output[1] != []:\n",
    "        R11.append(1) \n",
    "    else: \n",
    "        R11.append(0)\n",
    "\n",
    "print (\"--> R11: \" + str(R11)) \n"
   ]
  },
  {
   "cell_type": "markdown",
   "metadata": {},
   "source": [
    "---"
   ]
  },
  {
   "cell_type": "markdown",
   "metadata": {},
   "source": [
    "<a name=\"R12\"></a>\n",
    "#### R1.2. (Meta)data are associated with detailed provenance  \n",
    "\n",
    "Metadata contain authors, email of at least one author, and title of related publication "
   ]
  },
  {
   "cell_type": "code",
   "execution_count": 55,
   "metadata": {},
   "outputs": [
    {
     "name": "stdout",
     "output_type": "stream",
     "text": [
      "Email  : aschluter@idibell.org\n",
      "Authors: Garcia-Esparcia P, Schlüter A, Carmona M, Moreno J, Ansoleaga B, Torrejón-Escribano B, Gustincich S, Pujol A, Ferrer I.\n",
      "Title  : Functional Genomics Reveals Dysregulation of Cortical Olfactory Receptors in Parkinson Disease: Novel Putative Chemoreceptors in the Human Brain.\n",
      "to be double-checked\n",
      "--> R12: [1, None, None, None]\n"
     ]
    }
   ],
   "source": [
    "# Parkinson_AE\n",
    "case_id = 0\n",
    "\n",
    "# counter \n",
    "provenance = 0\n",
    "\n",
    "# look for publication authors, title, and email of corresponding author \n",
    "for i in range (0, len(metadata[case_id])):\n",
    "    \n",
    "    # author email\n",
    "    if str(metadata[case_id][i].tag) == \"provider\":\n",
    "        print (\"Email  : \" + str(metadata[case_id][i][2].text))\n",
    "        provenance = provenance + 1\n",
    "\n",
    "    # author names\n",
    "    if str(metadata[case_id][i].tag) == \"bibliography\":\n",
    "        print (\"Authors: \" + str(metadata[case_id][i][1].text))\n",
    "        provenance = provenance + 1\n",
    "    \n",
    "    # paper title\n",
    "    if str(metadata[case_id][i].tag) == \"bibliography\":\n",
    "        print (\"Title  : \" + str(metadata[case_id][i][2].text))\n",
    "        provenance = provenance + 1\n",
    "        \n",
    "    \n",
    "# calculate R12\n",
    "if provenance == 3:\n",
    "    R12.append(1)\n",
    "elif provenance == 0: \n",
    "    R12.append(0)\n",
    "else:\n",
    "    R12.append(0.5) \n",
    "\n",
    "print (\"to be double-checked\")\n",
    "# NBIA_GEO\n",
    "R12.append(None) \n",
    "# TiO2_ENM\n",
    "R12.append(None) \n",
    "# Caffeine_ChEBI\n",
    "R12.append(None) \n",
    "print (\"--> R12: \" + str(R12))\n",
    "\n"
   ]
  },
  {
   "cell_type": "markdown",
   "metadata": {},
   "source": [
    "---"
   ]
  },
  {
   "cell_type": "markdown",
   "metadata": {},
   "source": [
    "<a name=\"R13\"></a>\n",
    "#### R1.3. (Meta)data meet domain-relevant community standards\n",
    "We did not evaluate this metric because of current lack of community standards"
   ]
  },
  {
   "cell_type": "code",
   "execution_count": 43,
   "metadata": {},
   "outputs": [
    {
     "name": "stdout",
     "output_type": "stream",
     "text": [
      "--> R13: [None, None, None, None]\n"
     ]
    }
   ],
   "source": [
    "# Parkinson_AE\n",
    "R13.append(None) \n",
    "# NBIA_GEO\n",
    "R13.append(None) \n",
    "# TiO2_ENM\n",
    "R13.append(None) \n",
    "# Caffeine_ChEBI\n",
    "R13.append(None) \n",
    "print (\"--> R13: \" + str(R13))"
   ]
  },
  {
   "cell_type": "markdown",
   "metadata": {},
   "source": [
    "--- "
   ]
  },
  {
   "cell_type": "markdown",
   "metadata": {},
   "source": [
    "<a name=\"visualization\"></a>\n",
    "### FAIR assessment visualization"
   ]
  },
  {
   "cell_type": "code",
   "execution_count": 57,
   "metadata": {},
   "outputs": [
    {
     "data": {
      "text/html": [
       "<div>\n",
       "<style scoped>\n",
       "    .dataframe tbody tr th:only-of-type {\n",
       "        vertical-align: middle;\n",
       "    }\n",
       "\n",
       "    .dataframe tbody tr th {\n",
       "        vertical-align: top;\n",
       "    }\n",
       "\n",
       "    .dataframe thead th {\n",
       "        text-align: right;\n",
       "    }\n",
       "</style>\n",
       "<table border=\"1\" class=\"dataframe\">\n",
       "  <thead>\n",
       "    <tr style=\"text-align: right;\">\n",
       "      <th></th>\n",
       "      <th>Parkinson_AE</th>\n",
       "      <th>NBIA_GEO</th>\n",
       "      <th>TiO2_ENM</th>\n",
       "      <th>Caffeine_ChEBI</th>\n",
       "    </tr>\n",
       "  </thead>\n",
       "  <tbody>\n",
       "    <tr>\n",
       "      <th>0</th>\n",
       "      <td>0.0</td>\n",
       "      <td>0.000000</td>\n",
       "      <td>0.0</td>\n",
       "      <td>0.0</td>\n",
       "    </tr>\n",
       "    <tr>\n",
       "      <th>1</th>\n",
       "      <td>1.0</td>\n",
       "      <td>0.666667</td>\n",
       "      <td>NaN</td>\n",
       "      <td>NaN</td>\n",
       "    </tr>\n",
       "    <tr>\n",
       "      <th>2</th>\n",
       "      <td>1.0</td>\n",
       "      <td>1.000000</td>\n",
       "      <td>NaN</td>\n",
       "      <td>NaN</td>\n",
       "    </tr>\n",
       "    <tr>\n",
       "      <th>3</th>\n",
       "      <td>NaN</td>\n",
       "      <td>NaN</td>\n",
       "      <td>NaN</td>\n",
       "      <td>NaN</td>\n",
       "    </tr>\n",
       "    <tr>\n",
       "      <th>4</th>\n",
       "      <td>0.0</td>\n",
       "      <td>0.000000</td>\n",
       "      <td>NaN</td>\n",
       "      <td>NaN</td>\n",
       "    </tr>\n",
       "    <tr>\n",
       "      <th>5</th>\n",
       "      <td>NaN</td>\n",
       "      <td>NaN</td>\n",
       "      <td>NaN</td>\n",
       "      <td>NaN</td>\n",
       "    </tr>\n",
       "    <tr>\n",
       "      <th>6</th>\n",
       "      <td>0.5</td>\n",
       "      <td>NaN</td>\n",
       "      <td>NaN</td>\n",
       "      <td>NaN</td>\n",
       "    </tr>\n",
       "    <tr>\n",
       "      <th>7</th>\n",
       "      <td>NaN</td>\n",
       "      <td>NaN</td>\n",
       "      <td>NaN</td>\n",
       "      <td>NaN</td>\n",
       "    </tr>\n",
       "    <tr>\n",
       "      <th>8</th>\n",
       "      <td>NaN</td>\n",
       "      <td>NaN</td>\n",
       "      <td>NaN</td>\n",
       "      <td>NaN</td>\n",
       "    </tr>\n",
       "    <tr>\n",
       "      <th>9</th>\n",
       "      <td>NaN</td>\n",
       "      <td>NaN</td>\n",
       "      <td>NaN</td>\n",
       "      <td>NaN</td>\n",
       "    </tr>\n",
       "    <tr>\n",
       "      <th>10</th>\n",
       "      <td>1.0</td>\n",
       "      <td>1.000000</td>\n",
       "      <td>1.0</td>\n",
       "      <td>1.0</td>\n",
       "    </tr>\n",
       "    <tr>\n",
       "      <th>11</th>\n",
       "      <td>1.0</td>\n",
       "      <td>NaN</td>\n",
       "      <td>NaN</td>\n",
       "      <td>NaN</td>\n",
       "    </tr>\n",
       "    <tr>\n",
       "      <th>12</th>\n",
       "      <td>NaN</td>\n",
       "      <td>NaN</td>\n",
       "      <td>NaN</td>\n",
       "      <td>NaN</td>\n",
       "    </tr>\n",
       "  </tbody>\n",
       "</table>\n",
       "</div>"
      ],
      "text/plain": [
       "    Parkinson_AE  NBIA_GEO  TiO2_ENM  Caffeine_ChEBI\n",
       "0            0.0  0.000000       0.0             0.0\n",
       "1            1.0  0.666667       NaN             NaN\n",
       "2            1.0  1.000000       NaN             NaN\n",
       "3            NaN       NaN       NaN             NaN\n",
       "4            0.0  0.000000       NaN             NaN\n",
       "5            NaN       NaN       NaN             NaN\n",
       "6            0.5       NaN       NaN             NaN\n",
       "7            NaN       NaN       NaN             NaN\n",
       "8            NaN       NaN       NaN             NaN\n",
       "9            NaN       NaN       NaN             NaN\n",
       "10           1.0  1.000000       1.0             1.0\n",
       "11           1.0       NaN       NaN             NaN\n",
       "12           NaN       NaN       NaN             NaN"
      ]
     },
     "execution_count": 57,
     "metadata": {},
     "output_type": "execute_result"
    }
   ],
   "source": [
    "# create empty dataframe \n",
    "df = pd.DataFrame()\n",
    "\n",
    "# fill out the dataframe \n",
    "for i in range(0, len(case_name)):\n",
    "   \n",
    "    # create list with scores per case\n",
    "    scores = []\n",
    "    scores.append(F1[i])\n",
    "    scores.append(F2[i])\n",
    "    scores.append(F3[i])\n",
    "    scores.append(F4[i])\n",
    "    scores.append(A1[i])\n",
    "    scores.append(A2[i])\n",
    "    scores.append(I1[i])\n",
    "    scores.append(I2[i])\n",
    "    scores.append(I3[i])\n",
    "    scores.append(R1[i])\n",
    "    scores.append(R11[i])\n",
    "    scores.append(R12[i])\n",
    "    scores.append(R13[i])\n",
    "\n",
    "    # assign to dataframe\n",
    "    df[case_name[i]] = scores\n",
    "\n",
    "# display\n",
    "pd.set_option(\"display.max_rows\",df.shape[0])\n",
    "df  "
   ]
  },
  {
   "cell_type": "code",
   "execution_count": 58,
   "metadata": {},
   "outputs": [
    {
     "data": {
      "image/png": "[encoded data removed]"
     },
     "metadata": {},
     "output_type": "display_data"
    }
   ],
   "source": [
    "%%R -i df -w 5.5 -h 2 --units in -r 300 #-i df \n",
    "\n",
    "library(ggplot2)\n",
    "\n",
    "title_text_size <- 12\n",
    "axis_text_size  <- 10\n",
    "tick_text_size  <- 8\n",
    "\n",
    "# variables\n",
    "metric_names  <- c(\"F1\", \"F2\", \"F3\", \"F4\", \"A1\", \"A2\", \"I1\", \"I2\", \"I3\", \"R1\", \"R11\", \"R12\", \"R13\" )\n",
    "x_values1     <- rep(1, length(metric_names))\n",
    "x_values2     <- rep(2, length(metric_names))\n",
    "x_values3     <- rep(3, length(metric_names))\n",
    "x_values4     <- rep(4, length(metric_names))\n",
    "\n",
    "y_values     <- seq(1, length(metric_names))\n",
    "y_values     <- sort(y_values, decreasing = TRUE)\n",
    "point_color  <- c(\"F\",  \"F\",  \"F\",  \"F\",  \"A\",  \"A\",  \"I\",  \"I\",  \"I\",  \"R\",  \"R\",   \"R\",   \"R\"  )\n",
    "\n",
    "pl <- ggplot (     data=df, aes(x=x_values1, y=y_values, color=point_color, size=Parkinson_AE))+\n",
    "        # points (all cases case)\n",
    "        geom_point(alpha=0.5) +\n",
    "        geom_point(data=df, aes(x=x_values2, y=y_values, color=point_color, size=NBIA_GEO), alpha=0.5)+\n",
    "        geom_point(data=df, aes(x=x_values3, y=y_values, color=point_color, size=TiO2_ENM), alpha=0.5)+\n",
    "        geom_point(data=df, aes(x=x_values4, y=y_values, color=point_color, size=Caffeine_ChEBI), alpha=0.5)+\n",
    "        scale_size_area() + \n",
    "        # background\n",
    "        theme_bw() +  \n",
    "        # flip x and y\n",
    "        coord_flip()  +\n",
    "        # axis ticks\n",
    "        scale_x_reverse(limits=c(4.5,0.5), breaks=seq(4,1,-1),  labels=rev(colnames(df))) + \n",
    "        scale_y_reverse(limits=c(13, 1),   breaks=seq(13,1,-1), labels=metric_names) + \n",
    "        theme(axis.text.x = element_text(size = tick_text_size)) + \n",
    "        theme(axis.text.y = element_text(size = tick_text_size)) +\n",
    "        # axis text\n",
    "        xlab (\"Use cases\") +\n",
    "        ylab (\"FAIR guidelines\") +\n",
    "        theme(text = element_text( size = axis_text_size )) + \n",
    "        # change colors\n",
    "        scale_color_manual(values=c(\"#e31a1c\", \"#1f78b4\", \"#33a02c\", \"#ff7f00\") ,\n",
    "                         labels = c(\"F\", \"A\", \"I\", \"R\"),\n",
    "                         breaks = c(\"F\", \"A\", \"I\", \"R\")\n",
    "                         ) +  \n",
    "        # title\n",
    "        ggtitle(\"FAIR indicators\") +\n",
    "        theme(plot.title = element_text(size = title_text_size, hjust = 0.5))  +\n",
    "        # legend - colors\n",
    "        theme(legend.text = element_text(size=tick_text_size),\n",
    "              legend.key.size = unit(0.2, \"cm\")) + \n",
    "        labs(color=\"\") +  # no legend title   \n",
    "        labs(size=\"\")  +   # no legend title \n",
    "        theme (legend.spacing.y = unit(0.05, \"cm\")) # reduce vertical space between legends\n",
    "       \n",
    "\n",
    "# display\n",
    "pl"
   ]
  },
  {
   "cell_type": "markdown",
   "metadata": {},
   "source": [
    "---\n"
   ]
  },
  {
   "cell_type": "markdown",
   "metadata": {},
   "source": [
    "## Dependencies "
   ]
  },
  {
   "cell_type": "code",
   "execution_count": 47,
   "metadata": {},
   "outputs": [
    {
     "name": "stdout",
     "output_type": "stream",
     "text": [
      "CPython 3.7.3\n",
      "IPython 7.4.0\n",
      "\n",
      "bs4 4.7.1\n",
      "os unknown\n",
      "pandas 0.24.2\n",
      "requests 2.21.0\n",
      "xml.etree.ElementTree unknown\n",
      "io unknown\n",
      "\n",
      "compiler   : Clang 4.0.1 (tags/RELEASE_401/final)\n",
      "system     : Darwin\n",
      "release    : 17.7.0\n",
      "machine    : x86_64\n",
      "processor  : i386\n",
      "CPU cores  : 4\n",
      "interpreter: 64bit\n",
      "\n",
      "last updated: Thu Jul 25 2019 17:15:06 CEST\n"
     ]
    }
   ],
   "source": [
    "%reload_ext watermark\n",
    "%watermark -v -m -p bs4,os,pandas,requests,xml.etree.ElementTree,io\n",
    "print (\"\")\n",
    "%watermark -u -n -t -z"
   ]
  },
  {
   "cell_type": "code",
   "execution_count": 48,
   "metadata": {},
   "outputs": [
    {
     "name": "stdout",
     "output_type": "stream",
     "text": [
      "R version 3.3.3 (2017-03-06)\n",
      "Platform: x86_64-apple-darwin13.4.0 (64-bit)\n",
      "Running under: macOS  10.13.6\n",
      "\n",
      "locale:\n",
      "[1] en_US.UTF-8/en_US.UTF-8/en_US.UTF-8/C/en_US.UTF-8/en_US.UTF-8\n",
      "\n",
      "attached base packages:\n",
      "[1] tools     stats     graphics  grDevices utils     datasets  methods  \n",
      "[8] base     \n",
      "\n",
      "other attached packages:\n",
      "[1] ggplot2_3.1.0\n",
      "\n",
      "loaded via a namespace (and not attached):\n",
      " [1] Rcpp_1.0.1       digest_0.6.18    withr_2.1.2      crayon_1.3.4    \n",
      " [5] dplyr_0.8.1      assertthat_0.2.1 grid_3.3.3       plyr_1.8.4      \n",
      " [9] R6_2.4.0         gtable_0.2.0     magrittr_1.5     scales_1.0.0    \n",
      "[13] pillar_1.4.0     rlang_0.3.4      lazyeval_0.2.1   labeling_0.3    \n",
      "[17] glue_1.3.1       purrr_0.3.2      munsell_0.5.0    pkgconfig_2.0.2 \n",
      "[21] colorspace_1.3-2 tidyselect_0.2.5 tibble_2.1.1    \n"
     ]
    }
   ],
   "source": [
    "%%R\n",
    "sessionInfo()"
   ]
  },
  {
   "cell_type": "code",
   "execution_count": 49,
   "metadata": {},
   "outputs": [
    {
     "name": "stdout",
     "output_type": "stream",
     "text": [
      "last updated: Thu Jul 25 2019 17:15:07 CEST\n"
     ]
    }
   ],
   "source": [
    "%watermark -u -n -t -z"
   ]
  }
 ],
 "metadata": {
  "kernelspec": {
   "display_name": "Python 3",
   "language": "python",
   "name": "python3"
  },
  "language_info": {
   "codemirror_mode": {
    "name": "ipython",
    "version": 3
   },
   "file_extension": ".py",
   "mimetype": "text/x-python",
   "name": "python",
   "nbconvert_exporter": "python",
   "pygments_lexer": "ipython3",
   "version": "3.7.3"
  },
  "toc-autonumbering": true,
  "toc-showcode": true,
  "toc-showmarkdowntxt": false,
  "toc-showtags": true
 },
 "nbformat": 4,
 "nbformat_minor": 2
}
