{
 "cells": [
  {
   "cell_type": "markdown",
   "metadata": {
    "toc-hr-collapsed": false
   },
   "source": [
    "# FAIR metrics - NBIA in Gene Express Omnibus (GEO)"
   ]
  },
  {
   "cell_type": "markdown",
   "metadata": {},
   "source": [
    "by [Serena Bonaretti](https://sbonaretti.github.io), Maastricht University"
   ]
  },
  {
   "cell_type": "markdown",
   "metadata": {},
   "source": [
    "**Use-case: A researcher wants to know the function of the protein WDR45 in the brain from Gene Expression Omnibus (GEO). Data searched are related to NBIA (neurodegeneration with brain iron accumulation)**  \n",
    "- *Data*:    \n",
    "- *Metadata*: \n",
    "- *Repository*: \n",
    "\n",
    "User interface for data and metadata: "
   ]
  },
  {
   "cell_type": "markdown",
   "metadata": {},
   "source": [
    "Characteristics of the GEO API: \n",
    "- Documentation at https://www.ncbi.nlm.nih.gov/geo/info/geo_paccess.html\n",
    "- The API to query the database is a rest API: \n",
    "  - Output format: ?\n",
    "- The API to get data is an FTP API: \n",
    "  - Output format: ? \n",
    "- It provides 5 possible operations for query (https://www.ncbi.nlm.nih.gov/books/NBK25499/#chapter4), which return:  \n",
    "  - eSearch: results of a search   \n",
    "    (base URL: https://eutils.ncbi.nlm.nih.gov/entrez/eutils/esearch.fcgi)  \n",
    "  - eSummary: document summary   \n",
    "    (base URL: https://eutils.ncbi.nlm.nih.gov/entrez/eutils/esummary.fcgi)   \n",
    "  - eFetch: formatted data records  \n",
    "    (base URL: https://eutils.ncbi.nlm.nih.gov/entrez/eutils/efetch.fcgi)\n",
    "  - eLink: links to same or different databases   \n",
    "    (base URL: https://eutils.ncbi.nlm.nih.gov/entrez/eutils/elink.fcgi)\n",
    "  - eInfo: statistics for a single database, including lists of indexing fields and available link names  \n",
    "    (base URL: https://eutils.ncbi.nlm.nih.gov/entrez/eutils/einfo.fcgi)\n"
   ]
  },
  {
   "cell_type": "markdown",
   "metadata": {},
   "source": [
    "Other characteristics:  \n",
    "- "
   ]
  },
  {
   "cell_type": "markdown",
   "metadata": {},
   "source": [
    "---"
   ]
  },
  {
   "cell_type": "markdown",
   "metadata": {},
   "source": [
    "### Calculating FAIR metrics"
   ]
  },
  {
   "cell_type": "markdown",
   "metadata": {},
   "source": [
    "[FAIR metrics:](#metrics) \n",
    "- [F1. (Meta)data are assigned a globally unique and persistent identifier](#F1) \n",
    "- [F2. Data are described with rich metadata](#F2) \n",
    "- [F3. Metadata clearly and explicitly include the identifier of the data it describes](#F3)  \n",
    "- [F4. (Meta)data are registered or indexed in a searchable resource](#F4) \n",
    "- [A1. (Meta)data are retrievable by their identifier using a standardized communications protocol](#A1)    \n",
    "- [A2. Metadata are accessible, even when the data are no longer available](#A2)  \n",
    "- [I1. (Meta)data use a formal, accessible, shared, and broadly applicable language for knowledge representation](#I1) \n",
    "- [I2. Metadata use vocabularies that follow FAIR principles](#I2)  \n",
    "- [I3. (Meta)data include qualified references to other (meta)data](#I3)   \n",
    "- [R1.1. (Meta)data are released with a clear and accessible data usage license](#R11)  \n",
    "- [R1.2. (Meta)data are associated with detailed provenance](#R12)  \n",
    "- [R1.3. (Meta)data meet domain-relevant community standards](#R13)\n",
    "\n",
    "[FAIR metric indicator](#indicator)"
   ]
  },
  {
   "cell_type": "markdown",
   "metadata": {},
   "source": [
    "---"
   ]
  },
  {
   "cell_type": "markdown",
   "metadata": {},
   "source": [
    "Imports:"
   ]
  },
  {
   "cell_type": "code",
   "execution_count": 1,
   "metadata": {},
   "outputs": [],
   "source": [
    "import os\n",
    "import pandas as pd\n",
    "import requests\n",
    "import xml.etree.ElementTree as ET"
   ]
  },
  {
   "cell_type": "markdown",
   "metadata": {},
   "source": [
    "Import R for graph:"
   ]
  },
  {
   "cell_type": "code",
   "execution_count": 2,
   "metadata": {},
   "outputs": [],
   "source": [
    "# use R to create the plot using ggplot2\n",
    "os.environ['R_HOME'] = '/Library/Frameworks/R.framework/Resources' # put here your own R directory\n",
    "%load_ext rpy2.ipython"
   ]
  },
  {
   "cell_type": "markdown",
   "metadata": {},
   "source": [
    "Variables:"
   ]
  },
  {
   "cell_type": "code",
   "execution_count": 3,
   "metadata": {},
   "outputs": [],
   "source": [
    "#query_string    = \"nbia AND homo sapiens AND expression profiling by array\"\n",
    "repository_name    = 'Gene Expression Omnibus' \n",
    "#repository_url  = 'https://www.ncbi.nlm.nih.gov/geo/'\n",
    "#repository_api  = 'ftp://ftp.ncbi.nlm.nih.gov/geo/'\n",
    "repository_api     = \"https://eutils.ncbi.nlm.nih.gov/entrez/eutils/esearch.fcgi?\"\n",
    "metadata_api       = \"https://eutils.ncbi.nlm.nih.gov/entrez/eutils/esummary.fcgi?\"\n",
    "repository_acronym = \"gds\" # gene dataset\n",
    "\n",
    "#google_search  = 'https://google.com/search?q='\n",
    "re3data_repos  = \"https://www.re3data.org/api/v1/repositories\"\n",
    "re3data_repo   = \"https://www.re3data.org/api/v1/repository\"\n",
    "re3data_schema = '{http://www.re3data.org/schema/2-2}' # in the metadata xml\n",
    "\n",
    "# keywords to search dataset\n",
    "keywords = []\n",
    "keywords.append(\"nbia\")\n",
    "keywords.append(\"homo sapiens\")\n",
    "keywords.append(\"expression profiling by array\")\n",
    "query_string = keywords[0] +  \" AND \" + keywords[1] + \" AND \" + keywords[2]\n",
    "\n"
   ]
  },
  {
   "cell_type": "markdown",
   "metadata": {},
   "source": [
    "Functions: "
   ]
  },
  {
   "cell_type": "code",
   "execution_count": 4,
   "metadata": {},
   "outputs": [],
   "source": [
    "def look_for_tag_re3data (root, schema, characteristic):\n",
    "    \n",
    "    ''' \n",
    "    It extract text corresponding to provided tag in re3data\n",
    "    '''\n",
    "    \n",
    "    # look for content\n",
    "    text = []\n",
    "\n",
    "    for i in range (0, len(root[0])):\n",
    "\n",
    "        # tag\n",
    "        tag  = root[0][i].tag\n",
    "        tag  = tag.replace(schema, \"\")\n",
    "\n",
    "        if tag == characteristic:            \n",
    "            if len(root[0][i]) == 0:\n",
    "                text.append(root[0][i].text)\n",
    "            else:\n",
    "                for a in range (0, len(root[0][i])):\n",
    "                    tag  = root[0][i][a].tag\n",
    "                    tag  = tag.replace(schema, \"\") # to improve redeability\n",
    "                    text.append(root[0][i][a].text)\n",
    "\n",
    "    return text"
   ]
  },
  {
   "cell_type": "code",
   "execution_count": 5,
   "metadata": {},
   "outputs": [],
   "source": [
    "def pretty_print_xml (root): \n",
    "    '''\n",
    "    It prints xml with identations\n",
    "    '''\n",
    "    \n",
    "    count = 0\n",
    "    for i in range (0, len(root)):\n",
    "\n",
    "        if len(root[i]) == 0:\n",
    "            print (\"<\"  + str(root[i].tag) + \">\")\n",
    "            print (\"   \" + str(root[i].text))\n",
    "            count = count + 1\n",
    "        else: \n",
    "            for j in range(0, len(root[i])):\n",
    "                if len(root[i][j]) == 0:\n",
    "                    print (\"<\"  + str(root[i][j].tag) + \">\")\n",
    "                    print (\"   \" + str(root[i][j].text))\n",
    "                    print (\"<\"  + str(root[i][j].tag + \">\"))\n",
    "                    count = count + 1\n",
    "                else: \n",
    "                    for k in range (0, len(root[i][j])):\n",
    "                        print (\"  <\"  + str(root[i][j][k].tag + \">\"))\n",
    "                        print (\"      \" + str(root[i][j][k].text))\n",
    "                        count = count + 1\n",
    "    return count\n"
   ]
  },
  {
   "cell_type": "markdown",
   "metadata": {},
   "source": [
    "Extract metadata from database:"
   ]
  },
  {
   "cell_type": "code",
   "execution_count": 31,
   "metadata": {},
   "outputs": [],
   "source": [
    "# query repository\n",
    "r_repo = requests.get(repository_api,\n",
    "                  params={\"db\"   : repository_acronym,\n",
    "                          \"term\" : query_string})\n",
    "#print (r_repo.text)\n",
    "\n",
    "# convert answer from string to xml_tree\n",
    "root = ET.fromstring(r_repo.text)\n",
    "\n",
    "#pretty_print_xml (root)"
   ]
  },
  {
   "cell_type": "code",
   "execution_count": 33,
   "metadata": {},
   "outputs": [],
   "source": [
    "# get identifier\n",
    "for field in root.iter('Id'):\n",
    "    id = field.text\n",
    "\n",
    "# get metadata\n",
    "r_meta = requests.get(metadata_api,\n",
    "                  params={\"db\" : repository_acronym,\n",
    "                          \"id\" : id})\n",
    "root_meta = ET.fromstring(r_meta.text)\n",
    "metadata  = root_meta[0]\n",
    "# pretty_print_xml (metadata)"
   ]
  },
  {
   "cell_type": "markdown",
   "metadata": {},
   "source": [
    "---"
   ]
  },
  {
   "cell_type": "markdown",
   "metadata": {},
   "source": [
    "<a name=\"metrics\"></a>\n",
    "### FAIR metrics"
   ]
  },
  {
   "cell_type": "markdown",
   "metadata": {},
   "source": [
    "---"
   ]
  },
  {
   "cell_type": "markdown",
   "metadata": {},
   "source": [
    "<a name=\"F1\"></a>\n",
    "#### F1. (Meta)data are assigned a globally unique and persistent identifier\n",
    "*Assumption*: Data and metadata have the same identifier"
   ]
  },
  {
   "cell_type": "code",
   "execution_count": 8,
   "metadata": {},
   "outputs": [
    {
     "name": "stdout",
     "output_type": "stream",
     "text": [
      "id: 200070433\n",
      "--> F1: 0.5\n"
     ]
    }
   ],
   "source": [
    "print (\"id: \" + str(id))\n",
    "\n",
    "if id == None:\n",
    "    # there is no identifier \n",
    "    F1 = 0\n",
    "elif id.find(\"doi\") != -1:\n",
    "    # doi is a globally unique and persistent identifier \n",
    "    F1 = 1\n",
    "else:\n",
    "    # indentifiers exist but it is not globally unique and persistent\n",
    "    F1 = 0.5\n",
    "\n",
    "print (\"--> F1: \" + str(F1) )"
   ]
  },
  {
   "cell_type": "markdown",
   "metadata": {},
   "source": [
    "---"
   ]
  },
  {
   "cell_type": "markdown",
   "metadata": {},
   "source": [
    "<a name=\"F2\"></a>\n",
    "#### F2. Data are described with rich metadata \n",
    "\n",
    "The metadata related to findability are the keywords used in the query:   \n",
    "\n",
    "```\n",
    "<Item Name=\"taxon\" Type=\"String\">Homo sapiens; Mus musculus</Item>\n",
    "<Item Name=\"gdsType\" Type=\"String\">Expression profiling by array</Item>\n",
    "\n",
    "```"
   ]
  },
  {
   "cell_type": "code",
   "execution_count": 9,
   "metadata": {},
   "outputs": [
    {
     "name": "stdout",
     "output_type": "stream",
     "text": [
      "Keyword: Homo sapiens; Mus musculus\n",
      "Keyword: Expression profiling by array\n",
      "\n",
      "Total number of keywords in search: 3\n",
      "Total number of keywords found in metadata: 2\n",
      "--> F2: 0.67\n"
     ]
    }
   ],
   "source": [
    "# counter \n",
    "findability = 0\n",
    "\n",
    "# look for publication authors, title, and email of corresponding author \n",
    "for i in range (0, len(metadata)):\n",
    "    \n",
    "    # nbia\n",
    "    if str(metadata[i].text).lower().find(keywords[0]) != -1:\n",
    "        print (\"Keyword: \" + str(metadata[i].text))\n",
    "        findability = findability + 1\n",
    "    \n",
    "    # homo sapiens\n",
    "    if str(metadata[i].text).lower().find(keywords[1]) != -1:\n",
    "        print (\"Keyword: \" + str(metadata[i].text))\n",
    "        findability = findability + 1\n",
    "\n",
    "    \n",
    "    # experiment type\n",
    "    if str(metadata[i].text).lower().find(keywords[2]) != -1:\n",
    "        print (\"Keyword: \" + str(metadata[i].text))\n",
    "        findability = findability + 1\n",
    "\n",
    "# assign F2\n",
    "if findability == 0:           # none of the search keywords are in the metafile data\n",
    "    F2 = 0\n",
    "else:\n",
    "    F2 = findability/len(keywords)\n",
    "\n",
    "print (\"\")\n",
    "print (\"Total number of keywords in search: \" + str(len(keywords)))\n",
    "print (\"Total number of keywords found in metadata: \" + str(findability))\n",
    "print (\"--> F2: \" + \"{:.2f}\".format(F2))"
   ]
  },
  {
   "cell_type": "markdown",
   "metadata": {},
   "source": [
    "---"
   ]
  },
  {
   "cell_type": "markdown",
   "metadata": {},
   "source": [
    "<a name=\"F3\"></a>\n",
    "#### F3. Metadata clearly and explicitly include the identifier of the data it describes   "
   ]
  },
  {
   "cell_type": "code",
   "execution_count": 10,
   "metadata": {},
   "outputs": [
    {
     "name": "stdout",
     "output_type": "stream",
     "text": [
      "identifier: 200070433\n",
      "--> F3: 1\n"
     ]
    }
   ],
   "source": [
    "# find unique identifier\n",
    "for i in range (0, len(metadata)):\n",
    "    if metadata[i].tag == \"Id\":\n",
    "        identifier = metadata[i].text\n",
    "        print (\"identifier: \" + str(identifier))\n",
    "\n",
    "# assign value to F1\n",
    "if identifier.isdigit():\n",
    "    F3 = 1\n",
    "else:\n",
    "    F3 = 0\n",
    "print (\"--> F3: \" + str(F3) )"
   ]
  },
  {
   "cell_type": "markdown",
   "metadata": {},
   "source": [
    "---"
   ]
  },
  {
   "cell_type": "markdown",
   "metadata": {},
   "source": [
    "<a name=\"F4\"></a>\n",
    "#### F4. (Meta)data are registered or indexed in a searchable resource"
   ]
  },
  {
   "cell_type": "markdown",
   "metadata": {},
   "source": [
    "Search for repository in the registry www.re3data.org "
   ]
  },
  {
   "cell_type": "code",
   "execution_count": 11,
   "metadata": {},
   "outputs": [
    {
     "name": "stdout",
     "output_type": "stream",
     "text": [
      "Index in list: 249\n",
      "Tag          : name\n",
      "Text         : Gene Expression Omnibus\n",
      "Tag          : link\n",
      "Attribute    : {'href': '/api/v1/repository/r3d100010283', 'rel': 'self'}\n",
      "Database metadata are in: /api/v1/repository/r3d100010283\n",
      "--> F4: 1\n"
     ]
    }
   ],
   "source": [
    "# contact the registry\n",
    "re3data_r = requests.get(re3data_repos)\n",
    "# put output string in a structured xml tree\n",
    "re3data_root = ET.fromstring(re3data_r.text)\n",
    "\n",
    "# look for the wanted repository\n",
    "flag = 0\n",
    "for i in range (0, len(re3data_root)):\n",
    "    if re3data_root[i][1].text == repository_name: # first index is a <repository> group, \n",
    "                                           # second index is for the tags inside (<id>, <name>, <link>)\n",
    "        flag = 1\n",
    "        repository_index = i\n",
    "        \n",
    "if flag == 1:        \n",
    "    F4 = 1\n",
    "    print (\"Index in list: \" + str(repository_index))\n",
    "    print (\"Tag          : \" + str(re3data_root[repository_index][1].tag))\n",
    "    print (\"Text         : \" + str(re3data_root[repository_index][1].text))\n",
    "    print (\"Tag          : \" + str(re3data_root[repository_index][2].tag))\n",
    "    print (\"Attribute    : \" + str(re3data_root[repository_index][2].attrib)) # attributes do not have a closing tag\n",
    "\n",
    "    re3data_metadata = str(re3data_root[repository_index][2].attrib[\"href\"])\n",
    "    print (\"Database metadata are in: \" + str(re3data_metadata))\n",
    "else: \n",
    "    F4 = 0\n",
    "    print (\"Repository not found\")\n",
    "\n",
    "print (\"--> F4: \" + str(F4))"
   ]
  },
  {
   "cell_type": "markdown",
   "metadata": {},
   "source": [
    "---"
   ]
  },
  {
   "cell_type": "markdown",
   "metadata": {},
   "source": [
    "<a name=\"A1\"></a>\n",
    "#### A1. Metadata are retrievable by their identifier using a standardized communications protocol   \n",
    "**A1.1 the protocol is open, free, and universally implementable**   \n",
    "**A1.2 the protocol allows for an authentication and authorization procedure, where necessary**  "
   ]
  },
  {
   "cell_type": "code",
   "execution_count": 12,
   "metadata": {},
   "outputs": [
    {
     "name": "stdout",
     "output_type": "stream",
     "text": [
      "--> A1: 1\n"
     ]
    }
   ],
   "source": [
    "if r_repo.status_code == 200:\n",
    "    A1 = 1 \n",
    "else:\n",
    "    print (\"protocols different from HTTP not evaluated yet\")\n",
    "print (\"--> A1: \" + str(A1))     "
   ]
  },
  {
   "cell_type": "markdown",
   "metadata": {},
   "source": [
    "---"
   ]
  },
  {
   "cell_type": "markdown",
   "metadata": {},
   "source": [
    "<a name=\"A2\"></a>\n",
    "#### A2. Metadata are accessible, even when the data are no longer available  \n",
    "*Interpretation:* If metadata do not have a unique identifier, there is no guarantee that they are accessible in the future "
   ]
  },
  {
   "cell_type": "code",
   "execution_count": 13,
   "metadata": {},
   "outputs": [
    {
     "name": "stdout",
     "output_type": "stream",
     "text": [
      "TBD\n",
      "--> A2: 1\n"
     ]
    }
   ],
   "source": [
    "print (\"TBD\")\n",
    "if identifier != []:\n",
    "    A2 = 1\n",
    "else:\n",
    "    A2 = 0\n",
    "print (\"--> A2: \" + str(A2))    "
   ]
  },
  {
   "cell_type": "markdown",
   "metadata": {},
   "source": [
    "---"
   ]
  },
  {
   "cell_type": "markdown",
   "metadata": {},
   "source": [
    "<a name=\"I1\"></a>\n",
    "#### I1. Metadata use a formal, accessible, shared, and broadly applicable language for knowledge representation  "
   ]
  },
  {
   "cell_type": "code",
   "execution_count": 14,
   "metadata": {},
   "outputs": [
    {
     "name": "stdout",
     "output_type": "stream",
     "text": [
      "TBD\n",
      "--> I1: 0.5\n"
     ]
    }
   ],
   "source": [
    "# GE0 provides metadata in XLM format using its specific schema: \n",
    "# https://www.ebi.ac.uk/arrayexpress/help/programmatic_access.html#Format_XML_results\n",
    "# (https://www.ebi.ac.uk/arrayexpress/help/programmatic_access.html)\n",
    "print (\"TBD\")\n",
    "I1 = 0.5 # manual assignment\n",
    "print (\"--> I1: \" + str(I1))   "
   ]
  },
  {
   "cell_type": "markdown",
   "metadata": {},
   "source": [
    "---"
   ]
  },
  {
   "cell_type": "markdown",
   "metadata": {},
   "source": [
    "<a name=\"I2\"></a>\n",
    "#### I2. Metadata use vocabularies that follow FAIR principles"
   ]
  },
  {
   "cell_type": "code",
   "execution_count": 15,
   "metadata": {},
   "outputs": [],
   "source": [
    "I2 = None"
   ]
  },
  {
   "cell_type": "markdown",
   "metadata": {},
   "source": [
    "---"
   ]
  },
  {
   "cell_type": "markdown",
   "metadata": {},
   "source": [
    "<a name=\"I3\"></a>\n",
    "#### I3. (Meta)data include qualified references to other (meta)data  \n",
    "*Interpretation for this user-case*: (for enano mapper "
   ]
  },
  {
   "cell_type": "code",
   "execution_count": 29,
   "metadata": {},
   "outputs": [
    {
     "name": "stdout",
     "output_type": "stream",
     "text": [
      "<?xml version=\"1.0\" encoding=\"UTF-8\" ?>\n",
      "<!DOCTYPE eSearchResult PUBLIC \"-//NLM//DTD esearch 20060628//EN\" \"https://eutils.ncbi.nlm.nih.gov/eutils/dtd/20060628/esearch.dtd\">\n",
      "<eSearchResult>\n",
      "\t<ERROR>Empty term and query_key - nothing todo</ERROR>\n",
      "</eSearchResult>\n",
      "\n"
     ]
    }
   ],
   "source": [
    "I3 = None\n",
    "\n",
    "link_api       = \"https://eutils.ncbi.nlm.nih.gov/entrez/eutils/esearch.fcgi?\"\n",
    "r_link = requests.get(link_api,\n",
    "                  params={\"db\" : repository_acronym,\n",
    "                          \"id\" : id})\n",
    "print (r_link.text)\n",
    "# root_link = ET.fromstring(r_link.text)\n",
    "# link  = root_link[0]\n",
    "# pretty_print_xml (root_link)\n",
    "\n",
    "\n"
   ]
  },
  {
   "cell_type": "markdown",
   "metadata": {},
   "source": [
    "---"
   ]
  },
  {
   "cell_type": "markdown",
   "metadata": {},
   "source": [
    "<a name=\"R1\"></a>\n",
    "#### R1 (meta)data are richly described with a plurality of accurate adn relevant attributes"
   ]
  },
  {
   "cell_type": "code",
   "execution_count": 17,
   "metadata": {},
   "outputs": [],
   "source": [
    "R1 = None"
   ]
  },
  {
   "cell_type": "markdown",
   "metadata": {},
   "source": [
    "---"
   ]
  },
  {
   "cell_type": "markdown",
   "metadata": {},
   "source": [
    "<a name=\"R11\"></a>\n",
    "#### R1.1. Metadata are released with a clear and accessible data usage license  "
   ]
  },
  {
   "cell_type": "markdown",
   "metadata": {},
   "source": [
    "Assumption: License stated in re3data.org"
   ]
  },
  {
   "cell_type": "code",
   "execution_count": 18,
   "metadata": {},
   "outputs": [],
   "source": [
    "# extract repository number \n",
    "repository_number = re3data_metadata[re3data_metadata.rfind('/') : len(re3data_metadata)]\n",
    "\n",
    "# metadata_url\n",
    "metadata_url      = re3data_repo + str(repository_number)\n",
    "\n",
    "# access the repository metadata \n",
    "re3data_repo_r = requests.get(metadata_url)\n",
    "\n",
    "# put the r_repo string in a structured xml tree\n",
    "re3data_repo_root = ET.fromstring(re3data_repo_r.text)"
   ]
  },
  {
   "cell_type": "code",
   "execution_count": 19,
   "metadata": {},
   "outputs": [
    {
     "name": "stdout",
     "output_type": "stream",
     "text": [
      "['Copyrights', 'http://www.ncbi.nlm.nih.gov/geo/info/disclaimer.html']\n",
      "R11: 1\n"
     ]
    }
   ],
   "source": [
    "output = look_for_tag_re3data (re3data_repo_root, re3data_schema, 'dataLicense')\n",
    "print (output)\n",
    "if output[1] != []:\n",
    "    R11 = 1 \n",
    "else: \n",
    "    R11 = 0\n",
    "print (\"R11: \" + str(R11)) "
   ]
  },
  {
   "cell_type": "markdown",
   "metadata": {},
   "source": [
    "<a name=\"R12\"></a>\n",
    "#### R1.2. (Meta)data are associated with detailed provenance  \n",
    "See https://blog.datacite.org/exposing-doi-metadata-provenance/ with DOI https://doi.org/10.5438/wy92-xj57"
   ]
  },
  {
   "cell_type": "code",
   "execution_count": 20,
   "metadata": {},
   "outputs": [],
   "source": [
    "# find author name and publication and email address"
   ]
  },
  {
   "cell_type": "code",
   "execution_count": 21,
   "metadata": {},
   "outputs": [],
   "source": [
    "R12 = 1 # to be improved"
   ]
  },
  {
   "cell_type": "markdown",
   "metadata": {},
   "source": [
    "<a name=\"R13\"></a>\n",
    "#### R1.3. (Meta)data meet domain-relevant community standards"
   ]
  },
  {
   "cell_type": "code",
   "execution_count": 22,
   "metadata": {},
   "outputs": [],
   "source": [
    "R13 = None"
   ]
  },
  {
   "cell_type": "markdown",
   "metadata": {},
   "source": [
    "---\n",
    "---"
   ]
  },
  {
   "cell_type": "markdown",
   "metadata": {},
   "source": [
    "<a name=\"indicator\"></a>\n",
    "### FAIR indicator - Visualization"
   ]
  },
  {
   "cell_type": "code",
   "execution_count": 23,
   "metadata": {},
   "outputs": [
    {
     "data": {
      "text/html": [
       "<div>\n",
       "<style scoped>\n",
       "    .dataframe tbody tr th:only-of-type {\n",
       "        vertical-align: middle;\n",
       "    }\n",
       "\n",
       "    .dataframe tbody tr th {\n",
       "        vertical-align: top;\n",
       "    }\n",
       "\n",
       "    .dataframe thead th {\n",
       "        text-align: right;\n",
       "    }\n",
       "</style>\n",
       "<table border=\"1\" class=\"dataframe\">\n",
       "  <thead>\n",
       "    <tr style=\"text-align: right;\">\n",
       "      <th></th>\n",
       "      <th>metric_values</th>\n",
       "    </tr>\n",
       "  </thead>\n",
       "  <tbody>\n",
       "    <tr>\n",
       "      <th>0</th>\n",
       "      <td>0.500000</td>\n",
       "    </tr>\n",
       "    <tr>\n",
       "      <th>1</th>\n",
       "      <td>0.666667</td>\n",
       "    </tr>\n",
       "    <tr>\n",
       "      <th>2</th>\n",
       "      <td>1.000000</td>\n",
       "    </tr>\n",
       "    <tr>\n",
       "      <th>3</th>\n",
       "      <td>1.000000</td>\n",
       "    </tr>\n",
       "    <tr>\n",
       "      <th>4</th>\n",
       "      <td>1.000000</td>\n",
       "    </tr>\n",
       "    <tr>\n",
       "      <th>5</th>\n",
       "      <td>1.000000</td>\n",
       "    </tr>\n",
       "    <tr>\n",
       "      <th>6</th>\n",
       "      <td>0.500000</td>\n",
       "    </tr>\n",
       "    <tr>\n",
       "      <th>7</th>\n",
       "      <td>NaN</td>\n",
       "    </tr>\n",
       "    <tr>\n",
       "      <th>8</th>\n",
       "      <td>NaN</td>\n",
       "    </tr>\n",
       "    <tr>\n",
       "      <th>9</th>\n",
       "      <td>NaN</td>\n",
       "    </tr>\n",
       "    <tr>\n",
       "      <th>10</th>\n",
       "      <td>1.000000</td>\n",
       "    </tr>\n",
       "    <tr>\n",
       "      <th>11</th>\n",
       "      <td>1.000000</td>\n",
       "    </tr>\n",
       "    <tr>\n",
       "      <th>12</th>\n",
       "      <td>NaN</td>\n",
       "    </tr>\n",
       "  </tbody>\n",
       "</table>\n",
       "</div>"
      ],
      "text/plain": [
       "    metric_values\n",
       "0        0.500000\n",
       "1        0.666667\n",
       "2        1.000000\n",
       "3        1.000000\n",
       "4        1.000000\n",
       "5        1.000000\n",
       "6        0.500000\n",
       "7             NaN\n",
       "8             NaN\n",
       "9             NaN\n",
       "10       1.000000\n",
       "11       1.000000\n",
       "12            NaN"
      ]
     },
     "execution_count": 23,
     "metadata": {},
     "output_type": "execute_result"
    }
   ],
   "source": [
    "metric_values = [ F1,   F2,   F3,   F4,   A1,   A2,   I1,   I2,   I3,   R1,   R11,   R12,   R13 ]\n",
    "data = {\n",
    "        \"metric_values\": metric_values,\n",
    "       }\n",
    "df = pd.DataFrame (data)\n",
    "\n",
    "# display\n",
    "pd.set_option(\"display.max_rows\",df.shape[0])\n",
    "df"
   ]
  },
  {
   "cell_type": "code",
   "execution_count": 28,
   "metadata": {},
   "outputs": [
    {
     "data": {
      "image/png": "[encoded data removed]"
     },
     "metadata": {},
     "output_type": "display_data"
    }
   ],
   "source": [
    "%%R -i df -w 5.5 -h 1.5 --units in -r 300 \n",
    "\n",
    "library(ggplot2)\n",
    "\n",
    "title_text_size <- 12\n",
    "axis_text_size  <- 10\n",
    "tick_text_size  <- 8\n",
    "\n",
    "# variables\n",
    "metric_names <- c(\"F1\", \"F2\", \"F3\", \"F4\", \"A1\", \"A2\", \"I1\", \"I2\", \"I3\", \"R1\", \"R11\", \"R12\", \"R13\" )\n",
    "x_values     <- rep(1, length(metric_names))\n",
    "y_values     <- seq(1, length(metric_names))\n",
    "y_values     <- sort(y_values, decreasing = TRUE)\n",
    "point_color  <- c(\"F\",  \"F\",  \"F\",  \"F\",  \"A\",  \"A\",  \"I\",  \"I\",  \"I\",  \"R\",  \"R\",   \"R\",   \"R\"  )\n",
    "\n",
    "pl <- ggplot(data=df, aes(x=x_values, y=y_values, color=point_color, size=metric_values))+\n",
    "        # points\n",
    "        geom_point(alpha=0.5) +\n",
    "        scale_size_area() + \n",
    "        # background\n",
    "        theme_bw() + \n",
    "        # flip x and y\n",
    "        coord_flip()  +\n",
    "        # axis ticks (x and y flipped)\n",
    "        scale_x_continuous(limits=c(0,2),   breaks=seq(1,1,0),   labels=\"\") + \n",
    "        scale_y_reverse   (limits=c(13, 1), breaks=seq(13,1,-1), labels=metric_names) + \n",
    "        theme(axis.text.x = element_text(size = tick_text_size)) + \n",
    "        theme(axis.text.y = element_text(size = tick_text_size)) +\n",
    "        # axis text\n",
    "        xlab (\"\") +\n",
    "        ylab (\"\") +\n",
    "        theme(text = element_text( size = axis_text_size )) + \n",
    "        # change colors\n",
    "        scale_color_manual(values=c(\"#e31a1c\", \"#1f78b4\", \"#33a02c\", \"#ff7f00\"),\n",
    "                         labels = c(\"F\", \"A\", \"I\", \"R\"),\n",
    "                         breaks = c(\"F\", \"A\", \"I\", \"R\")\n",
    "                         ) +  \n",
    "        # title\n",
    "        ggtitle(\"FAIR indicators\") +\n",
    "        theme(plot.title = element_text(size = title_text_size, hjust = 0.5))  +\n",
    "        # legend - colors\n",
    "        theme(legend.text = element_text(size=tick_text_size),\n",
    "              legend.key.size = unit(0.2, \"cm\")) + \n",
    "        labs(color=\"\") +  # no legend title   \n",
    "        labs(size=\"\")  +  # no legend title\n",
    "        theme(legend.box = \"horizontal\") \n",
    "        \n",
    "\n",
    "# display\n",
    "pl"
   ]
  },
  {
   "cell_type": "markdown",
   "metadata": {},
   "source": [
    "---\n"
   ]
  },
  {
   "cell_type": "markdown",
   "metadata": {},
   "source": [
    "## Dependencies "
   ]
  },
  {
   "cell_type": "code",
   "execution_count": 25,
   "metadata": {},
   "outputs": [
    {
     "name": "stdout",
     "output_type": "stream",
     "text": [
      "CPython 3.7.3\n",
      "IPython 7.4.0\n",
      "\n",
      "zeep 3.3.1\n",
      "\n",
      "compiler   : Clang 4.0.1 (tags/RELEASE_401/final)\n",
      "system     : Darwin\n",
      "release    : 17.7.0\n",
      "machine    : x86_64\n",
      "processor  : i386\n",
      "CPU cores  : 4\n",
      "interpreter: 64bit\n"
     ]
    }
   ],
   "source": [
    "%reload_ext watermark\n",
    "%watermark -v -m -p zeep"
   ]
  },
  {
   "cell_type": "code",
   "execution_count": 27,
   "metadata": {},
   "outputs": [
    {
     "name": "stdout",
     "output_type": "stream",
     "text": [
      "R version 3.3.3 (2017-03-06)\n",
      "Platform: x86_64-apple-darwin13.4.0 (64-bit)\n",
      "Running under: macOS  10.13.6\n",
      "\n",
      "locale:\n",
      "[1] en_US.UTF-8/en_US.UTF-8/en_US.UTF-8/C/en_US.UTF-8/en_US.UTF-8\n",
      "\n",
      "attached base packages:\n",
      "[1] tools     stats     graphics  grDevices utils     datasets  methods  \n",
      "[8] base     \n",
      "\n",
      "other attached packages:\n",
      "[1] ggplot2_3.1.0\n",
      "\n",
      "loaded via a namespace (and not attached):\n",
      " [1] Rcpp_1.0.1       digest_0.6.18    withr_2.1.2      crayon_1.3.4    \n",
      " [5] dplyr_0.8.1      assertthat_0.2.1 grid_3.3.3       plyr_1.8.4      \n",
      " [9] R6_2.4.0         gtable_0.2.0     magrittr_1.5     scales_1.0.0    \n",
      "[13] pillar_1.4.0     rlang_0.3.4      lazyeval_0.2.1   labeling_0.3    \n",
      "[17] glue_1.3.1       purrr_0.3.2      munsell_0.5.0    pkgconfig_2.0.2 \n",
      "[21] colorspace_1.3-2 tidyselect_0.2.5 tibble_2.1.1    \n"
     ]
    }
   ],
   "source": [
    "%%R\n",
    "sessionInfo()"
   ]
  },
  {
   "cell_type": "code",
   "execution_count": 26,
   "metadata": {},
   "outputs": [
    {
     "name": "stdout",
     "output_type": "stream",
     "text": [
      "Date: 24 6 2019\n"
     ]
    }
   ],
   "source": [
    "import datetime\n",
    "now = datetime.datetime.now()\n",
    "print (\"Date: \" + str(now.day) + \" \" + str(now.month) + \" \" + str(now.year))"
   ]
  },
  {
   "cell_type": "markdown",
   "metadata": {},
   "source": [
    "---"
   ]
  }
 ],
 "metadata": {
  "kernelspec": {
   "display_name": "Python 3",
   "language": "python",
   "name": "python3"
  },
  "language_info": {
   "codemirror_mode": {
    "name": "ipython",
    "version": 3
   },
   "file_extension": ".py",
   "mimetype": "text/x-python",
   "name": "python",
   "nbconvert_exporter": "python",
   "pygments_lexer": "ipython3",
   "version": "3.7.3"
  }
 },
 "nbformat": 4,
 "nbformat_minor": 2
}
