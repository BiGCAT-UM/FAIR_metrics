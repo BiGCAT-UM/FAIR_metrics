{
 "cells": [
  {
   "cell_type": "markdown",
   "metadata": {
    "toc-hr-collapsed": false
   },
   "source": [
    "# FAIR metrics - Parkinson's disease in ArrayExpress"
   ]
  },
  {
   "cell_type": "markdown",
   "metadata": {},
   "source": [
    "by [Serena Bonaretti](https://sbonaretti.github.io), Maastricht University"
   ]
  },
  {
   "cell_type": "markdown",
   "metadata": {},
   "source": [
    "**Use-case: A researcher filters datasets in ArrayExpress to find the differentially expressed genes in the brain frontal lobe between normal subjects and subjects with Parkinson's disease**   \n",
    "- *Data*: List of gene name with expression profiles  \n",
    "- *Metadata*: Parkinson's disease, Organism (homo sapiens), experiment type (transcription profiling by array), type of data (raw data available), anatomy (frontal lobe), sex (male, female)\n",
    "- *Repository*: https://www.ebi.ac.uk/arrayexpress/ \n",
    "\n",
    "User interface for data and metadata: https://www.ebi.ac.uk/arrayexpress/experiments/E-MTAB-1194/?keywords=%22Parkinson%27s%20disease%22%20&organism=Homo%20sapiens&exptype%5B0%5D=&exptype%5B1%5D=%22array%20assay%22&array=&sortby=raw&sortorder=descending&page=1&pagesize=100"
   ]
  },
  {
   "cell_type": "markdown",
   "metadata": {},
   "source": [
    "Characteristics of the ArrayExpress API: \n",
    "- Documentation at https://www.ebi.ac.uk/arrayexpress/help/programmatic_access.html  \n",
    "- The API to query the database is a rest API: https://www.ebi.ac.uk/arrayexpress/xml/v3/experiments\n",
    "  - Output format: XML\n",
    "- The API to get data is an FTP API: ftp://ftp.ebi.ac.uk/pub/databases/arrayexpress/data/  \n",
    "  - Output format: csv?"
   ]
  },
  {
   "cell_type": "markdown",
   "metadata": {},
   "source": [
    "Other characteristics:\n",
    "- Metadata are separated in two different layers: accessible via:\n",
    "  - Generic metadata: accessible via rest API  \n",
    "  - Specific metadata: accessible via FTP API  \n",
    "\n",
    "In this example querying the generic metadata provides two datasets. We have to query also the specific metadata to select our dataset\n"
   ]
  },
  {
   "cell_type": "markdown",
   "metadata": {},
   "source": [
    "---"
   ]
  },
  {
   "cell_type": "markdown",
   "metadata": {},
   "source": [
    "### Calculating FAIR metrics"
   ]
  },
  {
   "cell_type": "markdown",
   "metadata": {},
   "source": [
    "[FAIR metrics:](#metrics) \n",
    "- [F1. (Meta)data are assigned a globally unique and persistent identifier](#F1) \n",
    "- [F2. Data are described with rich metadata](#F2) \n",
    "- [F3. Metadata clearly and explicitly include the identifier of the data it describes](#F3)  \n",
    "- [F4. (Meta)data are registered or indexed in a searchable resource](#F4) \n",
    "- [A1. (Meta)data are retrievable by their identifier using a standardized communications protocol](#A1)    \n",
    "- [A2. Metadata are accessible, even when the data are no longer available](#A2)  \n",
    "- [I1. (Meta)data use a formal, accessible, shared, and broadly applicable language for knowledge representation](#I1) \n",
    "- [I2. Metadata use vocabularies that follow FAIR principles](#I2)  \n",
    "- [I3. (Meta)data include qualified references to other (meta)data](#I3)   \n",
    "- [R1.1. (Meta)data are released with a clear and accessible data usage license](#R11)  \n",
    "- [R1.2. (Meta)data are associated with detailed provenance](#R12)  \n",
    "- [R1.3. (Meta)data meet domain-relevant community standards](#R13)\n",
    "\n",
    "[FAIR metric indicator](#indicator)"
   ]
  },
  {
   "cell_type": "markdown",
   "metadata": {},
   "source": [
    "---"
   ]
  },
  {
   "cell_type": "markdown",
   "metadata": {},
   "source": [
    "Imports:"
   ]
  },
  {
   "cell_type": "code",
   "execution_count": 1,
   "metadata": {},
   "outputs": [],
   "source": [
    "import bs4\n",
    "import os\n",
    "import pandas as pd\n",
    "import requests\n",
    "import xml.etree.ElementTree as ET\n",
    "from io import StringIO"
   ]
  },
  {
   "cell_type": "markdown",
   "metadata": {},
   "source": [
    "Variables:"
   ]
  },
  {
   "cell_type": "code",
   "execution_count": 2,
   "metadata": {},
   "outputs": [],
   "source": [
    "repository_name  = \"ArrayExpress\"\n",
    "repository_api   = \"https://www.ebi.ac.uk/arrayexpress/xml/v3/experiments\"             # to query the database (1st layer metadata)\n",
    "#repository_ftp   = \"ftp://ftp.ebi.ac.uk/pub/databases/arrayexpress/data/experiment/\"  # to download the data  (2nd layer metadata)\n",
    "dataset_download = \"https://www.ebi.ac.uk/arrayexpress/xml/v3/files/\"\n",
    "    \n",
    "google_search  = \"https://www.google.com/search?q=\"\n",
    "re3data_repos  = \"https://www.re3data.org/api/v1/repositories\"\n",
    "re3data_repo   = \"https://www.re3data.org/api/v1/repository\"\n",
    "re3data_schema = '{http://www.re3data.org/schema/2-2}' # in the metadata xml\n",
    "\n",
    "# keywords to search dataset\n",
    "keywords = []\n",
    "keywords.append(\"Parkinson's disease\")\n",
    "keywords.append(\"transcription profiling by array\")\n",
    "keywords.append(\"Homo sapiens\")\n",
    "keywords.append(\"frontal lobe\")\n",
    "keywords.append(\"male\")\n",
    "keywords.append(\"female\")\n",
    "keywords.append(\"normal\")\n",
    "keywords.append(\"true\")\n"
   ]
  },
  {
   "cell_type": "markdown",
   "metadata": {},
   "source": [
    "Import R for graph:"
   ]
  },
  {
   "cell_type": "code",
   "execution_count": 3,
   "metadata": {},
   "outputs": [],
   "source": [
    "# use R to create the plot using ggplot2\n",
    "os.environ['R_HOME'] = '/Library/Frameworks/R.framework/Resources' # put here your own R directory\n",
    "%load_ext rpy2.ipython"
   ]
  },
  {
   "cell_type": "markdown",
   "metadata": {},
   "source": [
    "Functions:"
   ]
  },
  {
   "cell_type": "code",
   "execution_count": 4,
   "metadata": {},
   "outputs": [],
   "source": [
    "def look_for_tag_re3data (root, schema, characteristic):\n",
    "    \n",
    "    ''' \n",
    "    It extract text corresponding to provided tag in re3data\n",
    "    '''\n",
    "    \n",
    "    # look for content\n",
    "    text = []\n",
    "\n",
    "    for i in range (0, len(root[0])):\n",
    "\n",
    "        # tag\n",
    "        tag  = root[0][i].tag\n",
    "        tag  = tag.replace(schema, \"\")\n",
    "\n",
    "        if tag == characteristic:            \n",
    "            if len(root[0][i]) == 0:\n",
    "                text.append(root[0][i].text)\n",
    "            else:\n",
    "                for a in range (0, len(root[0][i])):\n",
    "                    tag  = root[0][i][a].tag\n",
    "                    tag  = tag.replace(schema, \"\") # to improve redeability\n",
    "                    text.append(root[0][i][a].text)\n",
    "\n",
    "    return text"
   ]
  },
  {
   "cell_type": "code",
   "execution_count": 5,
   "metadata": {},
   "outputs": [],
   "source": [
    "def pretty_print_xml (root): \n",
    "    '''\n",
    "    It prints xml with identations\n",
    "    '''\n",
    "    \n",
    "    count = 0\n",
    "    for i in range (0, len(root)):\n",
    "\n",
    "        if len(root[i]) == 0:\n",
    "            print (\"<\"  + str(root[i].tag) + \">\")\n",
    "            print (\"   \" + str(root[i].text))\n",
    "            count = count + 1\n",
    "        else: \n",
    "            for j in range(0, len(root[i])):\n",
    "                if len(root[i][j]) == 0:\n",
    "                    print (\"<\"  + str(root[i][j].tag) + \">\")\n",
    "                    print (\"   \" + str(root[i][j].text))\n",
    "                    print (\"<\"  + str(root[i][j].tag + \">\"))\n",
    "                    count = count + 1\n",
    "                else: \n",
    "                    for k in range (0, len(root[i][j])):\n",
    "                        print (\"  <\"  + str(root[i][j][k].tag + \">\"))\n",
    "                        print (\"      \" + str(root[i][j][k].text))\n",
    "                        count = count + 1\n",
    "    return count\n",
    "\n",
    "\n",
    "# for i in range (0, len(metadata)):\n",
    "#     if len(metadata[i]) == 0:\n",
    "#         print (\"<\"  + str(metadata[i].tag) + \">\")\n",
    "#         print (\"   \" + str(metadata[i].text))\n",
    "#         count_metadata = count_metadata + 1\n",
    "#     else: \n",
    "#         print (\"<\"  + str(metadata[i].tag + \">\"))\n",
    "#         for j in range (0, len(metadata[i])):\n",
    "#             print (\"  <\"  + str(metadata[j].tag + \">\"))\n",
    "#             print (\"      \" + str(metadata[i][j].text))\n",
    "#             count_metadata = count_metadata + 1\n",
    "#             #print (\"      Len  : \" + str(len(root_detailed_metadata[0][i][j])))\n",
    "\n"
   ]
  },
  {
   "cell_type": "markdown",
   "metadata": {},
   "source": [
    "### Find the repository in re3data.org to extract information for F1, A2, R1.1"
   ]
  },
  {
   "cell_type": "code",
   "execution_count": 6,
   "metadata": {},
   "outputs": [
    {
     "name": "stdout",
     "output_type": "stream",
     "text": [
      "Index in list: 195\n",
      "Tag          : name\n",
      "Text         : ArrayExpress\n",
      "Tag          : link\n",
      "Attribute    : {'href': '/api/v1/repository/r3d100010222', 'rel': 'self'}\n",
      "Database metadata are in: /api/v1/repository/r3d100010222\n"
     ]
    }
   ],
   "source": [
    "# contact the registry\n",
    "re3data_r = requests.get(re3data_repos)\n",
    "# put output string in a structured xml tree\n",
    "re3data_root = ET.fromstring(re3data_r.text)\n",
    "\n",
    "# look for the wanted repository\n",
    "flag = 0\n",
    "for i in range (0, len(re3data_root)):\n",
    "    if re3data_root[i][1].text == repository_name: # first index is a <repository> group, \n",
    "                                           # second index is for the tags inside (<id>, <name>, <link>)\n",
    "        flag = 1\n",
    "        repository_index = i\n",
    "        \n",
    "if flag == 1:        \n",
    "    F4 = 1\n",
    "    print (\"Index in list: \" + str(repository_index))\n",
    "    print (\"Tag          : \" + str(re3data_root[repository_index][1].tag))\n",
    "    print (\"Text         : \" + str(re3data_root[repository_index][1].text))\n",
    "    print (\"Tag          : \" + str(re3data_root[repository_index][2].tag))\n",
    "    print (\"Attribute    : \" + str(re3data_root[repository_index][2].attrib)) # attributes do not have a closing tag\n",
    "\n",
    "    re3data_metadata = str(re3data_root[repository_index][2].attrib[\"href\"])\n",
    "    print (\"Database metadata are in: \" + str(re3data_metadata))\n",
    "else: \n",
    "    F4 = 0\n",
    "    print (\"Repository not found\")"
   ]
  },
  {
   "cell_type": "markdown",
   "metadata": {},
   "source": [
    "### Extract metadata from repository"
   ]
  },
  {
   "cell_type": "code",
   "execution_count": 7,
   "metadata": {},
   "outputs": [
    {
     "name": "stdout",
     "output_type": "stream",
     "text": [
      "number of datasets found: 2\n"
     ]
    }
   ],
   "source": [
    "# using API (it might take a few seconds)\n",
    "r_repo = requests.get(repository_api,\n",
    "                  params={\"keywords\"      :  keywords[0], # \"Parkinson's disease\"\n",
    "                          \"experimenttype\":  keywords[1], # \"transcription profiling by array\"\n",
    "                          \"organism\"      :  keywords[2], # \"Homo sapiens\" \n",
    "                          \"sa\"            : [keywords[0], keywords[3], keywords[4], keywords[5]],  # \"Parkinson's disease\", \"frontal lobe\", \"male\", \"female\"\n",
    "                          \"diseasestate\"  : [keywords[0], keywords[6]], # \"Parkinson's disease\",  \"normal\"\n",
    "                          \"raw\"           :  keywords[7]})\n",
    "\n",
    "\n",
    "root = ET.fromstring(r_repo.text)\n",
    "print(\"number of datasets found: \" + str (len(root)))"
   ]
  },
  {
   "cell_type": "markdown",
   "metadata": {},
   "source": [
    "Because the query via API reports 2 results, we have to investigate a second layer of metadata that is not provided in the API but is part of the downloadable package.  \n",
    "We use this metadata only to to select the dataset to use, not to run the FAIR metrics"
   ]
  },
  {
   "cell_type": "code",
   "execution_count": 8,
   "metadata": {},
   "outputs": [
    {
     "name": "stdout",
     "output_type": "stream",
     "text": [
      "['E-MTAB-1194', 'E-GEOD-7307']\n"
     ]
    }
   ],
   "source": [
    "# look for experiment_id \n",
    "experiment_id = []\n",
    "\n",
    "for accession in root.iter('accession'):\n",
    "    if len(accession.text) == 11:\n",
    "        experiment_id.append(accession.text)\n",
    "print (experiment_id)"
   ]
  },
  {
   "cell_type": "code",
   "execution_count": 9,
   "metadata": {},
   "outputs": [],
   "source": [
    "# get metadata of dataset 1\n",
    "d1_url = dataset_download + experiment_id[0] + \"/\"\n",
    "d1_r = requests.get(d1_url)\n",
    "# pass output to ET\n",
    "d1_root = ET.fromstring(d1_r.text)\n",
    "\n",
    "# look for urls of file names to download\n",
    "for url in d1_root.iter('url'):\n",
    "    if \"sdrf.txt\" in str(url.text):\n",
    "        d1_sdrf_name = url.text\n",
    "    \n",
    "# get file\n",
    "df1_r = requests.get(d1_sdrf_name)\n",
    "\n",
    "# convert string tabular text to pandas dataframe\n",
    "full_string = StringIO(df1_r.text)\n",
    "df1 = pd.read_csv(full_string, sep=\"\\t\")\n",
    "# df1\n",
    "\n",
    "# check how many columns with \"Parkinson's desease\" correspond to \"frontal lobe\"\n",
    "b = df1[ ( df1[\"Characteristics[DiseaseState]\"] == \"Parkinson's disease\" ) & (df1[\"Characteristics[OrganismPart]\"] == \"frontal lobe\")]\n",
    "df1_n_of_corresponding_rows = b.shape[0]\n",
    "#b"
   ]
  },
  {
   "cell_type": "code",
   "execution_count": 10,
   "metadata": {},
   "outputs": [],
   "source": [
    "# get metadata of the dataset 2\n",
    "d2_url = dataset_download + experiment_id[1] + \"/\"\n",
    "d2_r = requests.get(d2_url)\n",
    "# pass output to ET\n",
    "d2_root = ET.fromstring(d2_r.text)\n",
    "\n",
    "# look for urls of file names to download\n",
    "for url in d2_root.iter('url'):\n",
    "    if \"sdrf.txt\" in str(url.text):\n",
    "        d2_sdrf_name = url.text\n",
    "    \n",
    "# get file\n",
    "df2_r = requests.get(d2_sdrf_name)\n",
    "\n",
    "# convert string tabular text to pandas dataframe\n",
    "full_string = StringIO(df2_r.text)\n",
    "df2 = pd.read_csv(full_string, sep=\"\\t\")\n",
    "\n",
    "# show all columns\n",
    "n_of_columns = df2.shape[1]\n",
    "pd.set_option(\"display.max_columns\",n_of_columns)\n",
    "pd.set_option(\"display.max_rows\",10)\n",
    "#df2\n",
    "\n",
    "# check if columns with \"Parkinson's desease\" correspond to \"frontal lobe\"\n",
    "b = df2[ ( df2[\"Characteristics [DiseaseState]\"] == \"Parkinson's disease\" ) & (df2[\"Characteristics [OrganismPart]\"] == \"frontal lobe\")]\n",
    "df2_n_of_corresponding_rows = b.shape[0]\n",
    "# b"
   ]
  },
  {
   "cell_type": "code",
   "execution_count": 11,
   "metadata": {},
   "outputs": [
    {
     "name": "stdout",
     "output_type": "stream",
     "text": [
      "Using dataset: E-MTAB-1194\n"
     ]
    }
   ],
   "source": [
    "# select the dataset \n",
    "if df1_n_of_corresponding_rows > df2_n_of_corresponding_rows:\n",
    "    metadata = root[0]\n",
    "    print (\"Using dataset: \" + str(experiment_id[0]))\n",
    "else: \n",
    "    metadata = root[1]\n",
    "    print (\"Using dataset: \" + str(experiment_id[0]))"
   ]
  },
  {
   "cell_type": "code",
   "execution_count": 12,
   "metadata": {},
   "outputs": [],
   "source": [
    "# pretty_print_xml (metadata)"
   ]
  },
  {
   "cell_type": "markdown",
   "metadata": {},
   "source": [
    "---"
   ]
  },
  {
   "cell_type": "markdown",
   "metadata": {},
   "source": [
    "<a name=\"metrics\"></a>\n",
    "### FAIR indicators"
   ]
  },
  {
   "cell_type": "markdown",
   "metadata": {},
   "source": [
    "---"
   ]
  },
  {
   "cell_type": "markdown",
   "metadata": {},
   "source": [
    "<a name=\"F1\"></a>\n",
    "#### F1. (Meta)data are assigned a globally unique and persistent identifier\n",
    "According to www.re3data.org, the repository does not provide a globally unique and persistent identifier - see the fourth icon in the top-right of the webpage: https://www.re3data.org/repository/r3d100010222, meaning \"The research data repository does not use a persistent identifier system\" )"
   ]
  },
  {
   "cell_type": "code",
   "execution_count": 13,
   "metadata": {},
   "outputs": [
    {
     "name": "stdout",
     "output_type": "stream",
     "text": [
      "--> F1: 0\n"
     ]
    }
   ],
   "source": [
    "F1 = 0\n",
    "print (\"--> F1: \" + str(F1) )"
   ]
  },
  {
   "cell_type": "code",
   "execution_count": 14,
   "metadata": {},
   "outputs": [],
   "source": [
    "# find unique identifier\n",
    "# for i in range (0, len(metadata)):\n",
    "#     if metadata[i].tag == \"id\":\n",
    "#         identifier = metadata[i].text\n",
    "#         print (\"id: \" + str(identifier))\n",
    "\n",
    "# # assign value to F1\n",
    "# if id != None:\n",
    "#     F1 = 1\n",
    "# else:\n",
    "#     F1 = 0\n",
    "# print (\"--> F1: \" + str(F1) )\n",
    "# print (type(str(id)))\n",
    "# id = str(id)\n",
    "\n",
    "# for i in range (0, len(metadata)):\n",
    "#     if metadata[i].tag == \"id\":\n",
    "#         id = metadata[i].text\n",
    "#         print (\"id: \" + str(id))\n",
    "\n",
    "# if id == None:\n",
    "#     # there is no identifier \n",
    "#     F1 = 0\n",
    "# elif id.find(\"doi\") != -1:\n",
    "#     # doi is a globally unique and persistent identifier \n",
    "#     F1 = 1\n",
    "# else:\n",
    "#     # indentifiers exist but it is not globally unique and persistent\n",
    "#     F1 = 0.5\n",
    "# print (\"--> F1: \" + str(F1) )"
   ]
  },
  {
   "cell_type": "markdown",
   "metadata": {},
   "source": [
    "---"
   ]
  },
  {
   "cell_type": "markdown",
   "metadata": {},
   "source": [
    "<a name=\"F2\"></a>\n",
    "#### F2. Data are described with rich metadata \n",
    "\n",
    "Metadata contain the keywords used in the query: \n",
    "```\n",
    "<experimenttype>\n",
    "   transcription profiling by array\n",
    "<samplecharacteristic>\n",
    "  <id>\n",
    "      DiseaseState\n",
    "  <accession>\n",
    "      normal\n",
    "  <name>\n",
    "      Parkinson's disease\n",
    "<samplecharacteristic>\n",
    "  <id>\n",
    "      Organism\n",
    "  <accession>\n",
    "      Homo sapiens\n",
    "<samplecharacteristic>\n",
    "  <id>\n",
    "      OrganismPart\n",
    "  <accession>\n",
    "      frontal lobe\n",
    "<samplecharacteristic>\n",
    "  <id>\n",
    "      Sex\n",
    "  <accession>\n",
    "      female\n",
    "  <name>\n",
    "      male\n",
    "<bioassaydatagroup>\n",
    "  <id>\n",
    "      None\n",
    "  <accession>\n",
    "      rawData\n",
    "```    "
   ]
  },
  {
   "cell_type": "code",
   "execution_count": 15,
   "metadata": {},
   "outputs": [
    {
     "name": "stdout",
     "output_type": "stream",
     "text": [
      "Keyword: transcription profiling by array\n",
      "Keyword: Parkinson's disease\n",
      "Keyword: normal\n",
      "Keyword: Homo sapiens\n",
      "Keyword: frontal lobe\n",
      "Keyword: male\n",
      "Keyword: female\n",
      "Keyword: rawData\n",
      "\n",
      "Total number of keywords in search: 8\n",
      "Total number of keywords found in metadata: 8\n",
      "--> F2: 1.00\n"
     ]
    }
   ],
   "source": [
    "# counter \n",
    "findability = 0\n",
    "\n",
    "# look for publication authors, title, and email of corresponding author \n",
    "for i in range (0, len(metadata)):\n",
    "    \n",
    "    # disease - Parkinson's disease\n",
    "    if len(metadata[i]) > 2:\n",
    "        if str(metadata[i].tag) == \"samplecharacteristic\" and str(metadata[i][2].text).find(keywords[0]) != -1: # \"Parkinson's disease\":\n",
    "            print (\"Keyword: \" + str(metadata[i][2].text))\n",
    "            findability = findability + 1\n",
    "    \n",
    "    # experiment type\n",
    "    if str(metadata[i].tag) == \"experimenttype\"           and str(metadata[i].text).find(keywords[1])    != -1: # \"transcription profiling by array\"\n",
    "        print (\"Keyword: \" + str(metadata[i].text))\n",
    "        findability = findability + 1\n",
    "        \n",
    "    # homo sapiens\n",
    "    if str(metadata[i].tag) == \"samplecharacteristic\"     and str(metadata[i][1].text).find(keywords[2]) != -1: # \"Homo sapiens\":\n",
    "        print (\"Keyword: \" + str(metadata[i][1].text))\n",
    "        findability = findability + 1\n",
    "\n",
    "    # frontal lobe\n",
    "    if str(metadata[i].tag) == \"samplecharacteristic\"     and str(metadata[i][1].text).find(keywords[3]) != -1: # \"frontal lobe\":\n",
    "        print (\"Keyword: \" + str(metadata[i][1].text))\n",
    "        findability = findability + 1\n",
    "        \n",
    "    # sex - male\n",
    "    if len(metadata[i]) > 2:\n",
    "        if str(metadata[i].tag) == \"samplecharacteristic\" and str(metadata[i][2].text).find(keywords[4]) != -1: # \"male\":\n",
    "            print (\"Keyword: \" + str(metadata[i][2].text))\n",
    "            findability = findability + 1\n",
    "            \n",
    "    # sex - female\n",
    "    if str(metadata[i].tag) == \"samplecharacteristic\"     and str(metadata[i][1].text).find(keywords[5]) != -1: # \"female\":\n",
    "        print (\"Keyword: \" + str(metadata[i][1].text))\n",
    "        findability = findability + 1\n",
    "    \n",
    "    # disease - normal\n",
    "    if str(metadata[i].tag) == \"samplecharacteristic\"     and str(metadata[i][1].text).find(keywords[6]) != -1: # \"normal\":\n",
    "        print (\"Keyword: \" + str(metadata[i][1].text))\n",
    "        findability = findability + 1\n",
    "    \n",
    "    # raw data \n",
    "    if str(metadata[i].tag) == \"bioassaydatagroup\": #rawData\n",
    "        print (\"Keyword: \" + str(metadata[i][1].text))\n",
    "        findability = findability + 1\n",
    "\n",
    "# assign F2\n",
    "if findability == 0:           # none of the search keywords are in the metafile data\n",
    "    F2 = 0\n",
    "else:\n",
    "    F2 = findability/len(keywords)\n",
    "    \n",
    "print (\"\")\n",
    "print (\"Total number of keywords in search: \" + str(len(keywords)))\n",
    "print (\"Total number of keywords found in metadata: \" + str(findability))\n",
    "print (\"--> F2: \" + \"{:.2f}\".format(F2))"
   ]
  },
  {
   "cell_type": "markdown",
   "metadata": {},
   "source": [
    "---"
   ]
  },
  {
   "cell_type": "markdown",
   "metadata": {},
   "source": [
    "<a name=\"F3\"></a>\n",
    "#### F3. Metadata clearly and explicitly include the identifier of the data it describes  \n",
    "\n",
    "```\n",
    "<id>\n",
    "   219251\n",
    "```"
   ]
  },
  {
   "cell_type": "code",
   "execution_count": 16,
   "metadata": {},
   "outputs": [
    {
     "name": "stdout",
     "output_type": "stream",
     "text": [
      "identifier: 219251\n",
      "--> F3: 1\n"
     ]
    }
   ],
   "source": [
    "# find unique identifier\n",
    "for i in range (0, len(metadata)):\n",
    "    if metadata[i].tag == \"id\":\n",
    "        identifier = metadata[i].text\n",
    "        print (\"identifier: \" + str(identifier))\n",
    "\n",
    "# assign value to F1\n",
    "if identifier.isdigit():\n",
    "    F3 = 1\n",
    "else:\n",
    "    F3 = 0\n",
    "print (\"--> F3: \" + str(F3) )"
   ]
  },
  {
   "cell_type": "markdown",
   "metadata": {},
   "source": [
    "---"
   ]
  },
  {
   "cell_type": "markdown",
   "metadata": {},
   "source": [
    "<a name=\"F4\"></a>\n",
    "#### F4. (Meta)data are registered or indexed in a searchable resource\n",
    "\n",
    "Search for the dataset name in Google Dataset Search"
   ]
  },
  {
   "cell_type": "code",
   "execution_count": 17,
   "metadata": {},
   "outputs": [
    {
     "name": "stdout",
     "output_type": "stream",
     "text": [
      "--> F4: 1\n"
     ]
    }
   ],
   "source": [
    "# get title of the dataset\n",
    "# for i in range (0, len(metadata)):\n",
    "#     if metadata[i].tag == \"name\":\n",
    "#         name = metadata[i].text\n",
    "#         print (\"name: \" + str(name))\n",
    "F4 = 1   \n",
    "print (\"--> F4: \" + str(F4) )\n"
   ]
  },
  {
   "cell_type": "markdown",
   "metadata": {},
   "source": [
    "---"
   ]
  },
  {
   "cell_type": "markdown",
   "metadata": {},
   "source": [
    "<a name=\"A1\"></a>\n",
    "#### A1. Metadata are retrievable by their identifier using a standardized communications protocol   \n",
    "**A1.1 The protocol is open, free, and universally implementable**   \n",
    "**A1.2 The protocol allows for an authentication and authorization procedure, where necessary**  "
   ]
  },
  {
   "cell_type": "code",
   "execution_count": 18,
   "metadata": {},
   "outputs": [
    {
     "name": "stdout",
     "output_type": "stream",
     "text": [
      "--> A1: 1\n"
     ]
    }
   ],
   "source": [
    "if r_repo.status_code == 200:\n",
    "    A1 = 1 \n",
    "else:\n",
    "    print (\"protocols different from HTTP not evaluated yet\")\n",
    "print (\"--> A1: \" + str(A1))     "
   ]
  },
  {
   "cell_type": "markdown",
   "metadata": {},
   "source": [
    "---"
   ]
  },
  {
   "cell_type": "markdown",
   "metadata": {},
   "source": [
    "<a name=\"A2\"></a>\n",
    "#### A2. Metadata are accessible, even when the data are no longer available  \n",
    "*Interpretation:* If metadata do not have a unique identifier, there is no guarantee that they are accessible in the future \n",
    "\n",
    "-> Look for policy"
   ]
  },
  {
   "cell_type": "code",
   "execution_count": 19,
   "metadata": {},
   "outputs": [],
   "source": [
    "A2 = 0\n",
    "# if identifier != []:\n",
    "#     A2 = 1\n",
    "# else:\n",
    "#     A2 = 0\n",
    "# print (\"--> A2: \" + str(A2))    "
   ]
  },
  {
   "cell_type": "markdown",
   "metadata": {},
   "source": [
    "---"
   ]
  },
  {
   "cell_type": "markdown",
   "metadata": {},
   "source": [
    "<a name=\"I1\"></a>\n",
    "#### I1. Metadata use a formal, accessible, shared, and broadly applicable language for knowledge representation \n",
    "\n",
    "ArrayExpress provides metadata in XLM format using its specific schema:   \n",
    "https://www.ebi.ac.uk/arrayexpress/help/programmatic_access.html#Format_XML_results  \n",
    "(https://www.ebi.ac.uk/arrayexpress/help/programmatic_access.html)  "
   ]
  },
  {
   "cell_type": "code",
   "execution_count": 20,
   "metadata": {},
   "outputs": [
    {
     "name": "stdout",
     "output_type": "stream",
     "text": [
      "--> I1: 0.5\n"
     ]
    }
   ],
   "source": [
    "I1 = 0.5 # manual assignment\n",
    "print (\"--> I1: \" + str(I1))    "
   ]
  },
  {
   "cell_type": "markdown",
   "metadata": {},
   "source": [
    "---"
   ]
  },
  {
   "cell_type": "markdown",
   "metadata": {},
   "source": [
    "<a name=\"I2\"></a>\n",
    "#### I2. Metadata use vocabularies that follow FAIR principles"
   ]
  },
  {
   "cell_type": "code",
   "execution_count": 21,
   "metadata": {},
   "outputs": [],
   "source": [
    "I2 = None"
   ]
  },
  {
   "cell_type": "markdown",
   "metadata": {},
   "source": [
    "---"
   ]
  },
  {
   "cell_type": "markdown",
   "metadata": {},
   "source": [
    "<a name=\"I3\"></a>\n",
    "#### I3. (Meta)data include qualified references to other (meta)data  \n",
    "*Interpretation for this user-case*: (for enano mapper "
   ]
  },
  {
   "cell_type": "code",
   "execution_count": 22,
   "metadata": {},
   "outputs": [],
   "source": [
    "I3 = None"
   ]
  },
  {
   "cell_type": "markdown",
   "metadata": {},
   "source": [
    "---"
   ]
  },
  {
   "cell_type": "markdown",
   "metadata": {},
   "source": [
    "<a name=\"R1\"></a>\n",
    "#### R1 (meta)data are richly described with a plurality of accurate and relevant attributes \n",
    "Metadata contained other information (e.g. subject age), but this information was not relevant for this research question\n",
    "- To be changed: I will consider extra info in general"
   ]
  },
  {
   "cell_type": "code",
   "execution_count": 23,
   "metadata": {},
   "outputs": [],
   "source": [
    "R1 = None"
   ]
  },
  {
   "cell_type": "markdown",
   "metadata": {},
   "source": [
    "---"
   ]
  },
  {
   "cell_type": "markdown",
   "metadata": {},
   "source": [
    "<a name=\"R11\"></a>\n",
    "#### R1.1. Metadata are released with a clear and accessible data usage license  "
   ]
  },
  {
   "cell_type": "markdown",
   "metadata": {},
   "source": [
    "Assumption: License stated in re3data.org"
   ]
  },
  {
   "cell_type": "code",
   "execution_count": 24,
   "metadata": {},
   "outputs": [],
   "source": [
    "# extract repository number \n",
    "repository_number = re3data_metadata[re3data_metadata.rfind('/') : len(re3data_metadata)]\n",
    "\n",
    "# metadata_url\n",
    "metadata_url      = re3data_repo + str(repository_number)\n",
    "\n",
    "# access the repository metadata \n",
    "re3data_repo_r = requests.get(metadata_url)\n",
    "\n",
    "# put the r_repo string in a structured xml tree\n",
    "re3data_repo_root = ET.fromstring(re3data_repo_r.text)"
   ]
  },
  {
   "cell_type": "code",
   "execution_count": 25,
   "metadata": {},
   "outputs": [
    {
     "name": "stdout",
     "output_type": "stream",
     "text": [
      "['other', 'https://www.ebi.ac.uk/arrayexpress/help/data_availability.html']\n",
      "--> R11: 1\n"
     ]
    }
   ],
   "source": [
    "output = look_for_tag_re3data (re3data_repo_root, re3data_schema, 'dataLicense')\n",
    "print (output)\n",
    "if output[1] != []:\n",
    "    R11 = 1 \n",
    "else: \n",
    "    R11 = 0\n",
    "print (\"--> R11: \" + str(R11)) "
   ]
  },
  {
   "cell_type": "markdown",
   "metadata": {},
   "source": [
    "---"
   ]
  },
  {
   "cell_type": "markdown",
   "metadata": {},
   "source": [
    "<a name=\"R12\"></a>\n",
    "#### R1.2. (Meta)data are associated with detailed provenance  \n",
    "\n",
    "The metadata related to provenance are: \n",
    "```\n",
    "<provider>\n",
    "  <id>\n",
    "      Agatha Schluter\n",
    "  <accession>\n",
    "      submitter\n",
    "  <name>\n",
    "      aschluter@idibell.org\n",
    "<bibliography>\n",
    "  <id>\n",
    "      23656994\n",
    "  <accession>\n",
    "      Garcia-Esparcia P, Schlüter A, Carmona M, Moreno J, Ansoleaga B, Torrejón-Escribano B, Gustincich S, Pujol A, Ferrer I.\n",
    "  <name>\n",
    "      Functional Genomics Reveals Dysregulation of Cortical Olfactory Receptors in Parkinson Disease: Novel Putative Chemoreceptors in the Human Brain.\n",
    "  <releasedate>\n",
    "      Journal of Neuropathology & Experimental Neurology\n",
    "  <lastupdatedate>\n",
    "      2013\n",
    "```    "
   ]
  },
  {
   "cell_type": "code",
   "execution_count": 26,
   "metadata": {},
   "outputs": [
    {
     "name": "stdout",
     "output_type": "stream",
     "text": [
      "Email  : aschluter@idibell.org\n",
      "Authors: Garcia-Esparcia P, Schlüter A, Carmona M, Moreno J, Ansoleaga B, Torrejón-Escribano B, Gustincich S, Pujol A, Ferrer I.\n",
      "Title  : Functional Genomics Reveals Dysregulation of Cortical Olfactory Receptors in Parkinson Disease: Novel Putative Chemoreceptors in the Human Brain.\n",
      "--> R12: 1\n"
     ]
    }
   ],
   "source": [
    "# counter \n",
    "provenance = 0\n",
    "\n",
    "# look for publication authors, title, and email of corresponding author \n",
    "for i in range (0, len(metadata)):\n",
    "    \n",
    "    # author email\n",
    "    if str(metadata[i].tag) == \"provider\":\n",
    "        print (\"Email  : \" + str(metadata[i][2].text))\n",
    "        provenance = provenance + 1\n",
    "\n",
    "    # author names\n",
    "    if str(metadata[i].tag) == \"bibliography\":\n",
    "        print (\"Authors: \" + str(metadata[i][1].text))\n",
    "        provenance = provenance + 1\n",
    "    \n",
    "    # paper title\n",
    "    if str(metadata[i].tag) == \"bibliography\":\n",
    "        print (\"Title  : \" + str(metadata[i][2].text))\n",
    "        provenance = provenance + 1\n",
    "        \n",
    "    \n",
    "# calculate R12\n",
    "if provenance == 3:\n",
    "    R12 = 1\n",
    "elif provenance == 0: \n",
    "    R12 = 1\n",
    "else:\n",
    "    R12 = 0.5\n",
    "\n",
    "print (\"--> R12: \" + str(R11))"
   ]
  },
  {
   "cell_type": "markdown",
   "metadata": {},
   "source": [
    "---"
   ]
  },
  {
   "cell_type": "markdown",
   "metadata": {},
   "source": [
    "<a name=\"R13\"></a>\n",
    "#### R1.3. (Meta)data meet domain-relevant community standards"
   ]
  },
  {
   "cell_type": "code",
   "execution_count": 27,
   "metadata": {},
   "outputs": [],
   "source": [
    "R13 = None"
   ]
  },
  {
   "cell_type": "markdown",
   "metadata": {},
   "source": [
    "---\n",
    "---"
   ]
  },
  {
   "cell_type": "markdown",
   "metadata": {},
   "source": [
    "<a name=\"indicator\"></a>\n",
    "### FAIR indicator - Visualization"
   ]
  },
  {
   "cell_type": "code",
   "execution_count": 28,
   "metadata": {},
   "outputs": [
    {
     "data": {
      "text/html": [
       "<div>\n",
       "<style scoped>\n",
       "    .dataframe tbody tr th:only-of-type {\n",
       "        vertical-align: middle;\n",
       "    }\n",
       "\n",
       "    .dataframe tbody tr th {\n",
       "        vertical-align: top;\n",
       "    }\n",
       "\n",
       "    .dataframe thead th {\n",
       "        text-align: right;\n",
       "    }\n",
       "</style>\n",
       "<table border=\"1\" class=\"dataframe\">\n",
       "  <thead>\n",
       "    <tr style=\"text-align: right;\">\n",
       "      <th></th>\n",
       "      <th>metric_values</th>\n",
       "    </tr>\n",
       "  </thead>\n",
       "  <tbody>\n",
       "    <tr>\n",
       "      <th>0</th>\n",
       "      <td>0.0</td>\n",
       "    </tr>\n",
       "    <tr>\n",
       "      <th>1</th>\n",
       "      <td>1.0</td>\n",
       "    </tr>\n",
       "    <tr>\n",
       "      <th>2</th>\n",
       "      <td>1.0</td>\n",
       "    </tr>\n",
       "    <tr>\n",
       "      <th>3</th>\n",
       "      <td>1.0</td>\n",
       "    </tr>\n",
       "    <tr>\n",
       "      <th>4</th>\n",
       "      <td>1.0</td>\n",
       "    </tr>\n",
       "    <tr>\n",
       "      <th>5</th>\n",
       "      <td>0.0</td>\n",
       "    </tr>\n",
       "    <tr>\n",
       "      <th>6</th>\n",
       "      <td>0.5</td>\n",
       "    </tr>\n",
       "    <tr>\n",
       "      <th>7</th>\n",
       "      <td>NaN</td>\n",
       "    </tr>\n",
       "    <tr>\n",
       "      <th>8</th>\n",
       "      <td>NaN</td>\n",
       "    </tr>\n",
       "    <tr>\n",
       "      <th>9</th>\n",
       "      <td>NaN</td>\n",
       "    </tr>\n",
       "    <tr>\n",
       "      <th>10</th>\n",
       "      <td>1.0</td>\n",
       "    </tr>\n",
       "    <tr>\n",
       "      <th>11</th>\n",
       "      <td>1.0</td>\n",
       "    </tr>\n",
       "    <tr>\n",
       "      <th>12</th>\n",
       "      <td>NaN</td>\n",
       "    </tr>\n",
       "  </tbody>\n",
       "</table>\n",
       "</div>"
      ],
      "text/plain": [
       "    metric_values\n",
       "0             0.0\n",
       "1             1.0\n",
       "2             1.0\n",
       "3             1.0\n",
       "4             1.0\n",
       "5             0.0\n",
       "6             0.5\n",
       "7             NaN\n",
       "8             NaN\n",
       "9             NaN\n",
       "10            1.0\n",
       "11            1.0\n",
       "12            NaN"
      ]
     },
     "execution_count": 28,
     "metadata": {},
     "output_type": "execute_result"
    }
   ],
   "source": [
    "metric_values = [ F1,   F2,   F3,   F4,   A1,   A2,   I1,   I2,   I3,   R1,   R11,   R12,   R13 ]\n",
    "data = {\n",
    "        \"metric_values\": metric_values,\n",
    "       }\n",
    "df = pd.DataFrame (data)\n",
    "\n",
    "# display\n",
    "pd.set_option(\"display.max_rows\",df.shape[0])\n",
    "df"
   ]
  },
  {
   "cell_type": "code",
   "execution_count": 29,
   "metadata": {},
   "outputs": [
    {
     "data": {
      "image/png": "[encoded data removed]"
     },
     "metadata": {},
     "output_type": "display_data"
    }
   ],
   "source": [
    "%%R -i df -w 5.5 -h 1.5 --units in -r 300 \n",
    "\n",
    "library(ggplot2)\n",
    "\n",
    "title_text_size <- 12\n",
    "axis_text_size  <- 10\n",
    "tick_text_size  <- 8\n",
    "\n",
    "# variables\n",
    "metric_names <- c(\"F1\", \"F2\", \"F3\", \"F4\", \"A1\", \"A2\", \"I1\", \"I2\", \"I3\", \"R1\", \"R11\", \"R12\", \"R13\" )\n",
    "x_values     <- rep(1, length(metric_names))\n",
    "y_values     <- seq(1, length(metric_names))\n",
    "y_values     <- sort(y_values, decreasing = TRUE)\n",
    "point_color  <- c(\"F\",  \"F\",  \"F\",  \"F\",  \"A\",  \"A\",  \"I\",  \"I\",  \"I\",  \"R\",  \"R\",   \"R\",   \"R\"  )\n",
    "\n",
    "pl <- ggplot(data=df, aes(x=x_values, y=y_values, color=point_color, size=metric_values))+\n",
    "        # points\n",
    "        geom_point(alpha=0.5) +\n",
    "        scale_size(range = c(0, 8)) + \n",
    "        #scale_size_area(max_size = 6) + \n",
    "        # background\n",
    "        theme_bw() + \n",
    "        # flip x and y\n",
    "        coord_flip()  +\n",
    "        # axis ticks (x and y flipped)\n",
    "        scale_x_continuous(limits=c(0,2),   breaks=seq(1,1,0),   labels=\"\") + \n",
    "        scale_y_reverse   (limits=c(13, 1), breaks=seq(13,1,-1), labels=metric_names) + \n",
    "        theme(axis.text.x = element_text(size = tick_text_size)) + \n",
    "        theme(axis.text.y = element_text(size = tick_text_size)) +\n",
    "        # axis text\n",
    "        xlab (\"\") +\n",
    "        ylab (\"\") +\n",
    "        theme(text = element_text( size = axis_text_size )) + \n",
    "        # change colors\n",
    "        scale_color_manual(values=c(\"#e31a1c\", \"#1f78b4\", \"#33a02c\", \"#ff7f00\"),\n",
    "                         labels = c(\"F\", \"A\", \"I\", \"R\"),\n",
    "                         breaks = c(\"F\", \"A\", \"I\", \"R\")\n",
    "                         ) +  \n",
    "        # title\n",
    "        ggtitle(\"FAIR indicators\") +\n",
    "        theme(plot.title = element_text(size = title_text_size, hjust = 0.5))  +\n",
    "        # legend - colors\n",
    "        theme(legend.text = element_text(size=tick_text_size),\n",
    "              legend.key.size = unit(0.2, \"cm\")) + \n",
    "        labs(color=\"\") +  # no legend title   \n",
    "        labs(size=\"\")  +  # no legend title\n",
    "        theme(legend.box = \"horizontal\") \n",
    "        \n",
    "\n",
    "# display\n",
    "pl"
   ]
  },
  {
   "cell_type": "markdown",
   "metadata": {},
   "source": [
    "---\n"
   ]
  },
  {
   "cell_type": "markdown",
   "metadata": {},
   "source": [
    "## Dependencies "
   ]
  },
  {
   "cell_type": "code",
   "execution_count": 30,
   "metadata": {},
   "outputs": [
    {
     "name": "stdout",
     "output_type": "stream",
     "text": [
      "CPython 3.7.3\n",
      "IPython 7.4.0\n",
      "\n",
      "bs4 4.7.1\n",
      "os unknown\n",
      "pandas 0.24.2\n",
      "requests 2.21.0\n",
      "xml.etree.ElementTree unknown\n",
      "io unknown\n",
      "\n",
      "compiler   : Clang 4.0.1 (tags/RELEASE_401/final)\n",
      "system     : Darwin\n",
      "release    : 17.7.0\n",
      "machine    : x86_64\n",
      "processor  : i386\n",
      "CPU cores  : 4\n",
      "interpreter: 64bit\n"
     ]
    }
   ],
   "source": [
    "%reload_ext watermark\n",
    "%watermark -v -m -p bs4,os,pandas,requests,xml.etree.ElementTree,io"
   ]
  },
  {
   "cell_type": "code",
   "execution_count": 31,
   "metadata": {},
   "outputs": [
    {
     "name": "stdout",
     "output_type": "stream",
     "text": [
      "R version 3.3.3 (2017-03-06)\n",
      "Platform: x86_64-apple-darwin13.4.0 (64-bit)\n",
      "Running under: macOS  10.13.6\n",
      "\n",
      "locale:\n",
      "[1] en_US.UTF-8/en_US.UTF-8/en_US.UTF-8/C/en_US.UTF-8/en_US.UTF-8\n",
      "\n",
      "attached base packages:\n",
      "[1] tools     stats     graphics  grDevices utils     datasets  methods  \n",
      "[8] base     \n",
      "\n",
      "other attached packages:\n",
      "[1] ggplot2_3.1.0\n",
      "\n",
      "loaded via a namespace (and not attached):\n",
      " [1] Rcpp_1.0.1       digest_0.6.18    withr_2.1.2      crayon_1.3.4    \n",
      " [5] dplyr_0.8.1      assertthat_0.2.1 grid_3.3.3       plyr_1.8.4      \n",
      " [9] R6_2.4.0         gtable_0.2.0     magrittr_1.5     scales_1.0.0    \n",
      "[13] pillar_1.4.0     rlang_0.3.4      lazyeval_0.2.1   labeling_0.3    \n",
      "[17] glue_1.3.1       purrr_0.3.2      munsell_0.5.0    pkgconfig_2.0.2 \n",
      "[21] colorspace_1.3-2 tidyselect_0.2.5 tibble_2.1.1    \n"
     ]
    }
   ],
   "source": [
    "%%R\n",
    "sessionInfo()"
   ]
  },
  {
   "cell_type": "code",
   "execution_count": 32,
   "metadata": {},
   "outputs": [
    {
     "name": "stdout",
     "output_type": "stream",
     "text": [
      "Date: 3 7 2019\n"
     ]
    }
   ],
   "source": [
    "# import datetime\n",
    "# now = datetime.datetime.now()\n",
    "# print (\"Date: \" + str(now.day) + \" \" + str(now.month) + \" \" + str(now.year))\n",
    "%watermark -u -n -t -z"
   ]
  }
 ],
 "metadata": {
  "kernelspec": {
   "display_name": "Python 3",
   "language": "python",
   "name": "python3"
  },
  "language_info": {
   "codemirror_mode": {
    "name": "ipython",
    "version": 3
   },
   "file_extension": ".py",
   "mimetype": "text/x-python",
   "name": "python",
   "nbconvert_exporter": "python",
   "pygments_lexer": "ipython3",
   "version": "3.7.3"
  }
 },
 "nbformat": 4,
 "nbformat_minor": 2
}
