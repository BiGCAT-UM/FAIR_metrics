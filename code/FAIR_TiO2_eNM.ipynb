{
 "cells": [
  {
   "cell_type": "markdown",
   "metadata": {
    "toc-hr-collapsed": false
   },
   "source": [
    "# FAIR metrics for Titanium Dioxide (TiO2)"
   ]
  },
  {
   "cell_type": "markdown",
   "metadata": {},
   "source": [
    "by [Serena Bonaretti](https://sbonaretti.github.io), Maastricht University"
   ]
  },
  {
   "cell_type": "markdown",
   "metadata": {},
   "source": [
    "**Use-case: A researcher wants to collect information about Titanium Dioxide from eNanoMapper**   "
   ]
  },
  {
   "cell_type": "markdown",
   "metadata": {},
   "source": [
    "- *Repository*: https://data.enanomapper.net/  \n",
    "- *Data*: Endpoint, Results, Consentration, and Time point  \n",
    "- *Metadata*: Publication and protocol  \n",
    "e.g. https://data.enanomapper.net/substance/XLSX-7011cea0-1011-3f8b-9e8a-b3289fed836a/study\n",
    "\n",
    "Assumption: Data and metadata are in the same repository"
   ]
  },
  {
   "cell_type": "markdown",
   "metadata": {},
   "source": [
    "Characteristics of the eNanoMapper API:  \n",
    "- GitHub repository: [eNanoMapper](https://github.com/enanomapper/API) \n",
    "- Documentation at http://enanomapper.github.io/API/#!/algorithm\n",
    "- It uses REST API -> python libray to use is `requests`\n",
    "- Output data format is .json -> python library to use is `requests`"
   ]
  },
  {
   "cell_type": "markdown",
   "metadata": {},
   "source": [
    "---"
   ]
  },
  {
   "cell_type": "markdown",
   "metadata": {},
   "source": [
    "### Calculating FAIR metrics"
   ]
  },
  {
   "cell_type": "markdown",
   "metadata": {},
   "source": [
    "[FAIR metrics:](#metrics) \n",
    "- [F1. (Meta)data are assigned a globally unique and persistent identifier](#F1) \n",
    "- [F2. Data are described with rich metadata](#F2) \n",
    "- [F3. Metadata clearly and explicitly include the identifier of the data it describes](#F3)  \n",
    "- [F4. (Meta)data are registered or indexed in a searchable resource](#F4) \n",
    "- [A1. (Meta)data are retrievable by their identifier using a standardized communications protocol](#A1)    \n",
    "- [A2. Metadata are accessible, even when the data are no longer available](#A2)  \n",
    "- [I1. (Meta)data use a formal, accessible, shared, and broadly applicable language for knowledge representation](#I1) \n",
    "- [I2. Metadata use vocabularies that follow FAIR principles](#I2)  \n",
    "- [I3. (Meta)data include qualified references to other (meta)data](#I3)   \n",
    "- [R1.1. (Meta)data are released with a clear and accessible data usage license](#R11)  \n",
    "- [R1.2. (Meta)data are associated with detailed provenance](#R12)  \n",
    "- [R1.3. (Meta)data meet domain-relevant community standards](#R13)\n",
    "\n",
    "[FAIR metric indicator](#indicator)"
   ]
  },
  {
   "cell_type": "markdown",
   "metadata": {},
   "source": [
    "---"
   ]
  },
  {
   "cell_type": "markdown",
   "metadata": {},
   "source": [
    "Imports:"
   ]
  },
  {
   "cell_type": "code",
   "execution_count": 2,
   "metadata": {},
   "outputs": [],
   "source": [
    "import bs4\n",
    "import requests\n",
    "import xml.etree.ElementTree as ET\n",
    "import urllib\n",
    "import rdflib\n",
    "#import zeep"
   ]
  },
  {
   "cell_type": "markdown",
   "metadata": {},
   "source": [
    "Variables:"
   ]
  },
  {
   "cell_type": "code",
   "execution_count": 2,
   "metadata": {},
   "outputs": [],
   "source": [
    "chemical        = 'titanium dioxide'\n",
    "repository_name = 'enanomapper' \n",
    "repository_url  = 'data.enanomapper.net'\n",
    "repository_api  = 'https://data.enanomapper.net/api-docs/'\n",
    "# repository_api_interface = http://enanomapper.github.io/API/\n",
    "\n",
    "google_search    = 'https://google.com/search?q='\n",
    "registry_api_url = 'https://www.re3data.org/api/v1/repositories'\n",
    "\n",
    "rich_metadata_threshold = 5"
   ]
  },
  {
   "cell_type": "markdown",
   "metadata": {},
   "source": [
    "Extract metadata from database:"
   ]
  },
  {
   "cell_type": "code",
   "execution_count": 42,
   "metadata": {},
   "outputs": [
    {
     "name": "stdout",
     "output_type": "stream",
     "text": [
      "<?xml version=\"1.0\"?>\n",
      "<!DOCTYPE rdf:RDF [\n",
      "  <!ENTITY this 'https://data.enanomapper.net/'>\n",
      "  <!ENTITY qudt 'http://qudt.org/schema/qudt#'>\n",
      "  <!ENTITY owl 'http://www.w3.org/2002/07/owl#'>\n",
      "  <!ENTITY xsd 'http://www.w3.org/2001/XMLSchema#'>\n",
      "  <!ENTITY rdfs 'http://www.w3.org/2000/01/rdf-schema#'>\n",
      "  <!ENTITY sso 'http://semanticscience.org/resource/'>\n",
      "  <!ENTITY bao 'http://www.bioassayontology.org/bao#'>\n",
      "  <!ENTITY ref 'https://data.enanomapper.net/reference/'>\n",
      "  <!ENTITY mgroup 'https://data.enanomapper.net/measuregroup/'>\n",
      "  <!ENTITY bx 'http://purl.org/net/nknouf/ns/bibtex#'>\n",
      "  <!ENTITY sio 'http://semanticscience.org/resource/'>\n",
      "  <!ENTITY dcterms 'http://purl.org/dc/terms/'>\n",
      "  <!ENTITY ota 'http://www.opentox.org/algorithmTypes.owl#'>\n",
      "  <!ENTITY foaf 'http://xmlns.com/foaf/0.1/'>\n",
      "  <!ENTITY owner 'https://data.enanomapper.net/owner/'>\n",
      "  <!ENTITY ac 'https://data.enanomapper.net/compound/'>\n",
      "  <!ENTITY ad 'https://data.enanomapper.net/dataset/'>\n",
      "  <!ENTITY void 'http://rdfs.org/ns/void#'>\n",
      "  <!ENTITY ot 'http://www.opentox.org/api/1.1#'>\n",
      "  <!ENTITY enm 'http://purl.enanomapper.org/onto/'>\n",
      "  <!ENTITY af 'https://data.enanomapper.net/feature/'>\n",
      "  <!ENTITY ag 'https://data.enanomapper.net/algorithm/'>\n",
      "  <!ENTITY substance 'https://data.enanomapper.net/substance/'>\n",
      "  <!ENTITY ep 'https://data.enanomapper.net/endpoint/'>\n",
      "  <!ENTITY npo 'http://purl.bioontology.org/ontology/npo#'>\n",
      "  <!ENTITY am 'https://data.enanomapper.net/model/'>\n",
      "  <!ENTITY ap 'https://data.enanomapper.net/protocol/'>\n",
      "  <!ENTITY otee 'http://www.opentox.org/echaEndpoints.owl#'>\n",
      "  <!ENTITY as 'https://data.enanomapper.net/assay/'>\n",
      "  <!ENTITY unit 'http://qudt.org/vocab/unit#'>\n",
      "  <!ENTITY ops 'http://FIXME/'>\n",
      "  <!ENTITY rdf 'http://www.w3.org/1999/02/22-rdf-syntax-ns#'>\n",
      "  <!ENTITY amb 'http://purl.enanomapper.net/'>\n",
      "  <!ENTITY opsUnit 'http://www.openphacts.org/units/'>\n",
      "  <!ENTITY obo 'http://purl.obolibrary.org/obo/'>\n",
      "  <!ENTITY uniprot 'http://purl.uniprot.org/uniprot/'>\n",
      "  <!ENTITY dc 'http://purl.org/dc/elements/1.1/'>]>\n",
      "<rdf:RDF\n",
      "    xmlns:mgroup=\"&mgroup;\"\n",
      "    xmlns:npo=\"&npo;\"\n",
      "    xmlns:amb=\"&amb;\"\n",
      "    xmlns:substance=\"&substance;\"\n",
      "    xmlns:bx=\"&bx;\"\n",
      "    xmlns:j.0=\"http://purl.bioontology.org/ontology/bao#\"\n",
      "    xmlns:ota=\"&ota;\"\n",
      "    xmlns:ap=\"&ap;\"\n",
      "    xmlns:dcterms=\"&dcterms;\"\n",
      "    xmlns:dc=\"&dc;\"\n",
      "    xmlns:obo=\"&obo;\"\n",
      "    xmlns:ep=\"&ep;\"\n",
      "    xmlns:otee=\"&otee;\"\n",
      "    xmlns:as=\"&as;\"\n",
      "    xmlns:sso=\"&sso;\"\n",
      "    xmlns:bao=\"&bao;\"\n",
      "    xmlns:ad=\"&ad;\"\n",
      "    xmlns:ref=\"&ref;\"\n",
      "    xmlns:af=\"&af;\"\n",
      "    xmlns:xsd=\"&xsd;\"\n",
      "    xmlns:ag=\"&ag;\"\n",
      "    xmlns:rdf=\"&rdf;\"\n",
      "    xmlns:am=\"&am;\"\n",
      "    xmlns:uniprot=\"&uniprot;\"\n",
      "    xmlns:opsUnit=\"&opsUnit;\"\n",
      "    xmlns:rdfs=\"&rdfs;\"\n",
      "    xmlns=\"&this;\"\n",
      "    xmlns:ops=\"&ops;\"\n",
      "    xmlns:void=\"&void;\"\n",
      "    xmlns:enm=\"&enm;\"\n",
      "    xmlns:qudt=\"&qudt;\"\n",
      "    xmlns:owl=\"&owl;\"\n",
      "    xmlns:owner=\"&owner;\"\n",
      "    xmlns:ot=\"&ot;\"\n",
      "    xmlns:ac=\"&ac;\"\n",
      "    xmlns:unit=\"&unit;\"\n",
      "    xmlns:foaf=\"&foaf;\"\n",
      "  xml:base=\"&this;\">\n",
      "  <npo:NPO_1302 rdf:about=\"assay/NWKI-489b9193-95bd-4fb2-b03b-c87665f4a34f\">\n",
      "    <bao:BAO_0000209>\n",
      "      <bao:BAO_0000040 rdf:about=\"measuregroup/NWKI-489b9193-95bd-4fb2-b03b-c87665f4a34f\">\n",
      "        <obo:OBI_0000299>\n",
      "          <bao:BAO_0000179 rdf:about=\"endpoint/ID18716\">\n",
      "            <sso:has-unit>mV</sso:has-unit>\n",
      "            <obo:STATO_0000035 rdf:datatype=\"&xsd;string\">86.8 ± 9.83</obo:STATO_0000035>\n",
      "            <rdfs:label>ZETA POTENTIAL</rdfs:label>\n",
      "            <obo:IAO_0000136>\n",
      "              <obo:CHEBI_59999 rdf:about=\"substance/NWKI-6b4d33a5-b573-3dbe-9\n"
     ]
    }
   ],
   "source": [
    "query = 'https://data.enanomapper.net/substance?' + urllib.parse.quote('search=titanium dioxide') # search%3Dtitanium%20dioxide\n",
    "r_repo = requests.get(query)\n",
    "print (r_repo.text[0:3500])\n",
    "#r_repo = requests.get('https://data.enanomapper.net/substance?' + urllib.parse.quote('search=titanium dioxide'))\n",
    "#r_repo = requests.get('https://data.enanomapper.net/api-docs/substance/',\n",
    "#                  params={'search': 'titanium dioxide'})\n",
    "#r_repo.text\n",
    "\n",
    "#root = ET.fromstring(r_repo.text)"
   ]
  },
  {
   "cell_type": "code",
   "execution_count": 3,
   "metadata": {},
   "outputs": [
    {
     "name": "stderr",
     "output_type": "stream",
     "text": [
      "https://data.enanomapper.net/owner/P32 - KI does not look like a valid URI, trying to serialize this will break.\n"
     ]
    },
    {
     "name": "stdout",
     "output_type": "stream",
     "text": [
      "graph has 74657 statements\n"
     ]
    }
   ],
   "source": [
    "# --> this returns the schema (ignores titanium dioxide)\n",
    "#r_repo = requests.get('https://data.enanomapper.net/api-docs/substance/',\n",
    "                  #params={'search': 'titanium dioxide'})\n",
    "#r_repo.json()\n",
    "\n",
    "# --> this returns error 400 \n",
    "\n",
    "# r_repo = requests.get('https://data.enanomapper.net/substance/titanium dioxide')\n",
    "# r_repo.status_code\n",
    "\n",
    "# --> This works and returns an rdf in xml:\n",
    "# r_repo = requests.get('https://data.enanomapper.net/substance?' + urllib.parse.quote('search=titanium dioxide')), # urllib.parse.quote('search=titanium dioxide') = search%3Dtitanium%20dioxide\n",
    "# --> This does not work  \n",
    "# r_repo.json()\n",
    "\n",
    "# --------------------------------------------------------------------\n",
    "\n",
    "# This works and parses the rdf\n",
    "g = rdflib.Graph()\n",
    "g = g.parse('https://data.enanomapper.net/substance?' + urllib.parse.quote('search=titanium dioxide'))\n",
    "\n",
    "# Number of statements present\n",
    "print (\"graph has %s statements\" %(len(g)))"
   ]
  },
  {
   "cell_type": "code",
   "execution_count": 4,
   "metadata": {},
   "outputs": [
    {
     "name": "stdout",
     "output_type": "stream",
     "text": [
      "s: https://data.enanomapper.net/endpoint/ID2971\n",
      "p: http://www.w3.org/2000/01/rdf-schema#label\n",
      "o: ZETA POTENTIAL\n",
      "ZETA POTENTIAL\n",
      " \n",
      "s: https://data.enanomapper.net/endpoint/ID18854C1\n",
      "p: http://semanticscience.org/resource/has-value\n",
      "o: 5.0\n",
      "5.0\n",
      " \n",
      "s: https://data.enanomapper.net/endpoint/ID1131C1\n",
      "p: http://semanticscience.org/resource/has-value\n",
      "o:  \n",
      " \n",
      " \n",
      "s: https://data.enanomapper.net/endpoint/ID1873\n",
      "p: http://purl.enanomapper.net/has-condition\n",
      "o: https://data.enanomapper.net/endpoint/ID1873C1\n",
      "https://data.enanomapper.net/endpoint/ID1873C1\n",
      " \n",
      "s: https://data.enanomapper.net/assay/NWKI-b5888475-803c-4098-8faf-d43d23172692\n",
      "p: http://purl.org/dc/terms/source\n",
      "o: https://data.enanomapper.net/reference/CD09A4A8\n",
      "https://data.enanomapper.net/reference/CD09A4A8\n",
      " \n"
     ]
    }
   ],
   "source": [
    "# Print out the rdf ()\n",
    "\n",
    "count = 0 # trick to stop the print out\n",
    "\n",
    "for subj, pred, obj in g:\n",
    "    \n",
    "    if count < 5 : # trick to stop the print out\n",
    "        \n",
    "        print (\"s: \" + str(subj))\n",
    "        print (\"p: \" + str(pred))\n",
    "        print (\"o: \" + str(obj))\n",
    "        print (g.value(subj,pred, None))\n",
    "        print (\" \")\n",
    "        count = count + 1 "
   ]
  },
  {
   "cell_type": "code",
   "execution_count": 10,
   "metadata": {},
   "outputs": [
    {
     "name": "stdout",
     "output_type": "stream",
     "text": [
      "('xml', rdflib.term.URIRef('http://www.w3.org/XML/1998/namespace'))\n",
      "('rdf', rdflib.term.URIRef('http://www.w3.org/1999/02/22-rdf-syntax-ns#'))\n",
      "('rdfs', rdflib.term.URIRef('http://www.w3.org/2000/01/rdf-schema#'))\n",
      "('xsd', rdflib.term.URIRef('http://www.w3.org/2001/XMLSchema#'))\n",
      "('mgroup', rdflib.term.URIRef('https://data.enanomapper.net/measuregroup/'))\n",
      "('npo', rdflib.term.URIRef('http://purl.bioontology.org/ontology/npo#'))\n",
      "('amb', rdflib.term.URIRef('http://purl.enanomapper.net/'))\n",
      "('substance', rdflib.term.URIRef('https://data.enanomapper.net/substance/'))\n",
      "('bx', rdflib.term.URIRef('http://purl.org/net/nknouf/ns/bibtex#'))\n",
      "('j.0', rdflib.term.URIRef('http://purl.bioontology.org/ontology/bao#'))\n",
      "('ota', rdflib.term.URIRef('http://www.opentox.org/algorithmTypes.owl#'))\n",
      "('ap', rdflib.term.URIRef('https://data.enanomapper.net/protocol/'))\n",
      "('dcterms', rdflib.term.URIRef('http://purl.org/dc/terms/'))\n",
      "('dc', rdflib.term.URIRef('http://purl.org/dc/elements/1.1/'))\n",
      "('obo', rdflib.term.URIRef('http://purl.obolibrary.org/obo/'))\n",
      "('ep', rdflib.term.URIRef('https://data.enanomapper.net/endpoint/'))\n",
      "('otee', rdflib.term.URIRef('http://www.opentox.org/echaEndpoints.owl#'))\n",
      "('as', rdflib.term.URIRef('https://data.enanomapper.net/assay/'))\n",
      "('sso', rdflib.term.URIRef('http://semanticscience.org/resource/'))\n",
      "('bao', rdflib.term.URIRef('http://www.bioassayontology.org/bao#'))\n",
      "('ad', rdflib.term.URIRef('https://data.enanomapper.net/dataset/'))\n",
      "('ref', rdflib.term.URIRef('https://data.enanomapper.net/reference/'))\n",
      "('af', rdflib.term.URIRef('https://data.enanomapper.net/feature/'))\n",
      "('ag', rdflib.term.URIRef('https://data.enanomapper.net/algorithm/'))\n",
      "('am', rdflib.term.URIRef('https://data.enanomapper.net/model/'))\n",
      "('uniprot', rdflib.term.URIRef('http://purl.uniprot.org/uniprot/'))\n",
      "('opsUnit', rdflib.term.URIRef('http://www.openphacts.org/units/'))\n",
      "('', rdflib.term.URIRef('https://data.enanomapper.net/'))\n",
      "('ops', rdflib.term.URIRef('http://FIXME/'))\n",
      "('void', rdflib.term.URIRef('http://rdfs.org/ns/void#'))\n",
      "('enm', rdflib.term.URIRef('http://purl.enanomapper.org/onto/'))\n",
      "('qudt', rdflib.term.URIRef('http://qudt.org/schema/qudt#'))\n",
      "('owl', rdflib.term.URIRef('http://www.w3.org/2002/07/owl#'))\n",
      "('owner', rdflib.term.URIRef('https://data.enanomapper.net/owner/'))\n",
      "('ot', rdflib.term.URIRef('http://www.opentox.org/api/1.1#'))\n",
      "('ac', rdflib.term.URIRef('https://data.enanomapper.net/compound/'))\n",
      "('unit', rdflib.term.URIRef('http://qudt.org/vocab/unit#'))\n",
      "('foaf', rdflib.term.URIRef('http://xmlns.com/foaf/0.1/'))\n"
     ]
    }
   ],
   "source": [
    "# print namespaces\n",
    "for nm in g.namespaces():\n",
    "    print (nm)"
   ]
  },
  {
   "cell_type": "code",
   "execution_count": null,
   "metadata": {},
   "outputs": [],
   "source": [
    "# Make the triples human readable by substituting addresses with terms"
   ]
  },
  {
   "cell_type": "code",
   "execution_count": 11,
   "metadata": {},
   "outputs": [
    {
     "ename": "JSONDecodeError",
     "evalue": "Expecting value: line 1 column 1 (char 0)",
     "output_type": "error",
     "traceback": [
      "\u001b[0;31m---------------------------------------------------------------------------\u001b[0m",
      "\u001b[0;31mJSONDecodeError\u001b[0m                           Traceback (most recent call last)",
      "\u001b[0;32m<ipython-input-11-541937339f00>\u001b[0m in \u001b[0;36m<module>\u001b[0;34m\u001b[0m\n\u001b[1;32m      3\u001b[0m \u001b[0;34m\u001b[0m\u001b[0m\n\u001b[1;32m      4\u001b[0m \u001b[0;31m#a = g.serialize(format='json-ld', indent=4)\u001b[0m\u001b[0;34m\u001b[0m\u001b[0;34m\u001b[0m\u001b[0;34m\u001b[0m\u001b[0m\n\u001b[0;32m----> 5\u001b[0;31m \u001b[0mr_repo\u001b[0m\u001b[0;34m.\u001b[0m\u001b[0mjson\u001b[0m\u001b[0;34m(\u001b[0m\u001b[0;34m)\u001b[0m\u001b[0;34m\u001b[0m\u001b[0;34m\u001b[0m\u001b[0m\n\u001b[0m",
      "\u001b[0;32m/anaconda3/lib/python3.7/site-packages/requests/models.py\u001b[0m in \u001b[0;36mjson\u001b[0;34m(self, **kwargs)\u001b[0m\n\u001b[1;32m    895\u001b[0m                     \u001b[0;31m# used.\u001b[0m\u001b[0;34m\u001b[0m\u001b[0;34m\u001b[0m\u001b[0;34m\u001b[0m\u001b[0m\n\u001b[1;32m    896\u001b[0m                     \u001b[0;32mpass\u001b[0m\u001b[0;34m\u001b[0m\u001b[0;34m\u001b[0m\u001b[0m\n\u001b[0;32m--> 897\u001b[0;31m         \u001b[0;32mreturn\u001b[0m \u001b[0mcomplexjson\u001b[0m\u001b[0;34m.\u001b[0m\u001b[0mloads\u001b[0m\u001b[0;34m(\u001b[0m\u001b[0mself\u001b[0m\u001b[0;34m.\u001b[0m\u001b[0mtext\u001b[0m\u001b[0;34m,\u001b[0m \u001b[0;34m**\u001b[0m\u001b[0mkwargs\u001b[0m\u001b[0;34m)\u001b[0m\u001b[0;34m\u001b[0m\u001b[0;34m\u001b[0m\u001b[0m\n\u001b[0m\u001b[1;32m    898\u001b[0m \u001b[0;34m\u001b[0m\u001b[0m\n\u001b[1;32m    899\u001b[0m     \u001b[0;34m@\u001b[0m\u001b[0mproperty\u001b[0m\u001b[0;34m\u001b[0m\u001b[0;34m\u001b[0m\u001b[0m\n",
      "\u001b[0;32m/anaconda3/lib/python3.7/json/__init__.py\u001b[0m in \u001b[0;36mloads\u001b[0;34m(s, encoding, cls, object_hook, parse_float, parse_int, parse_constant, object_pairs_hook, **kw)\u001b[0m\n\u001b[1;32m    346\u001b[0m             \u001b[0mparse_int\u001b[0m \u001b[0;32mis\u001b[0m \u001b[0;32mNone\u001b[0m \u001b[0;32mand\u001b[0m \u001b[0mparse_float\u001b[0m \u001b[0;32mis\u001b[0m \u001b[0;32mNone\u001b[0m \u001b[0;32mand\u001b[0m\u001b[0;34m\u001b[0m\u001b[0;34m\u001b[0m\u001b[0m\n\u001b[1;32m    347\u001b[0m             parse_constant is None and object_pairs_hook is None and not kw):\n\u001b[0;32m--> 348\u001b[0;31m         \u001b[0;32mreturn\u001b[0m \u001b[0m_default_decoder\u001b[0m\u001b[0;34m.\u001b[0m\u001b[0mdecode\u001b[0m\u001b[0;34m(\u001b[0m\u001b[0ms\u001b[0m\u001b[0;34m)\u001b[0m\u001b[0;34m\u001b[0m\u001b[0;34m\u001b[0m\u001b[0m\n\u001b[0m\u001b[1;32m    349\u001b[0m     \u001b[0;32mif\u001b[0m \u001b[0mcls\u001b[0m \u001b[0;32mis\u001b[0m \u001b[0;32mNone\u001b[0m\u001b[0;34m:\u001b[0m\u001b[0;34m\u001b[0m\u001b[0;34m\u001b[0m\u001b[0m\n\u001b[1;32m    350\u001b[0m         \u001b[0mcls\u001b[0m \u001b[0;34m=\u001b[0m \u001b[0mJSONDecoder\u001b[0m\u001b[0;34m\u001b[0m\u001b[0;34m\u001b[0m\u001b[0m\n",
      "\u001b[0;32m/anaconda3/lib/python3.7/json/decoder.py\u001b[0m in \u001b[0;36mdecode\u001b[0;34m(self, s, _w)\u001b[0m\n\u001b[1;32m    335\u001b[0m \u001b[0;34m\u001b[0m\u001b[0m\n\u001b[1;32m    336\u001b[0m         \"\"\"\n\u001b[0;32m--> 337\u001b[0;31m         \u001b[0mobj\u001b[0m\u001b[0;34m,\u001b[0m \u001b[0mend\u001b[0m \u001b[0;34m=\u001b[0m \u001b[0mself\u001b[0m\u001b[0;34m.\u001b[0m\u001b[0mraw_decode\u001b[0m\u001b[0;34m(\u001b[0m\u001b[0ms\u001b[0m\u001b[0;34m,\u001b[0m \u001b[0midx\u001b[0m\u001b[0;34m=\u001b[0m\u001b[0m_w\u001b[0m\u001b[0;34m(\u001b[0m\u001b[0ms\u001b[0m\u001b[0;34m,\u001b[0m \u001b[0;36m0\u001b[0m\u001b[0;34m)\u001b[0m\u001b[0;34m.\u001b[0m\u001b[0mend\u001b[0m\u001b[0;34m(\u001b[0m\u001b[0;34m)\u001b[0m\u001b[0;34m)\u001b[0m\u001b[0;34m\u001b[0m\u001b[0;34m\u001b[0m\u001b[0m\n\u001b[0m\u001b[1;32m    338\u001b[0m         \u001b[0mend\u001b[0m \u001b[0;34m=\u001b[0m \u001b[0m_w\u001b[0m\u001b[0;34m(\u001b[0m\u001b[0ms\u001b[0m\u001b[0;34m,\u001b[0m \u001b[0mend\u001b[0m\u001b[0;34m)\u001b[0m\u001b[0;34m.\u001b[0m\u001b[0mend\u001b[0m\u001b[0;34m(\u001b[0m\u001b[0;34m)\u001b[0m\u001b[0;34m\u001b[0m\u001b[0;34m\u001b[0m\u001b[0m\n\u001b[1;32m    339\u001b[0m         \u001b[0;32mif\u001b[0m \u001b[0mend\u001b[0m \u001b[0;34m!=\u001b[0m \u001b[0mlen\u001b[0m\u001b[0;34m(\u001b[0m\u001b[0ms\u001b[0m\u001b[0;34m)\u001b[0m\u001b[0;34m:\u001b[0m\u001b[0;34m\u001b[0m\u001b[0;34m\u001b[0m\u001b[0m\n",
      "\u001b[0;32m/anaconda3/lib/python3.7/json/decoder.py\u001b[0m in \u001b[0;36mraw_decode\u001b[0;34m(self, s, idx)\u001b[0m\n\u001b[1;32m    353\u001b[0m             \u001b[0mobj\u001b[0m\u001b[0;34m,\u001b[0m \u001b[0mend\u001b[0m \u001b[0;34m=\u001b[0m \u001b[0mself\u001b[0m\u001b[0;34m.\u001b[0m\u001b[0mscan_once\u001b[0m\u001b[0;34m(\u001b[0m\u001b[0ms\u001b[0m\u001b[0;34m,\u001b[0m \u001b[0midx\u001b[0m\u001b[0;34m)\u001b[0m\u001b[0;34m\u001b[0m\u001b[0;34m\u001b[0m\u001b[0m\n\u001b[1;32m    354\u001b[0m         \u001b[0;32mexcept\u001b[0m \u001b[0mStopIteration\u001b[0m \u001b[0;32mas\u001b[0m \u001b[0merr\u001b[0m\u001b[0;34m:\u001b[0m\u001b[0;34m\u001b[0m\u001b[0;34m\u001b[0m\u001b[0m\n\u001b[0;32m--> 355\u001b[0;31m             \u001b[0;32mraise\u001b[0m \u001b[0mJSONDecodeError\u001b[0m\u001b[0;34m(\u001b[0m\u001b[0;34m\"Expecting value\"\u001b[0m\u001b[0;34m,\u001b[0m \u001b[0ms\u001b[0m\u001b[0;34m,\u001b[0m \u001b[0merr\u001b[0m\u001b[0;34m.\u001b[0m\u001b[0mvalue\u001b[0m\u001b[0;34m)\u001b[0m \u001b[0;32mfrom\u001b[0m \u001b[0;32mNone\u001b[0m\u001b[0;34m\u001b[0m\u001b[0;34m\u001b[0m\u001b[0m\n\u001b[0m\u001b[1;32m    356\u001b[0m         \u001b[0;32mreturn\u001b[0m \u001b[0mobj\u001b[0m\u001b[0;34m,\u001b[0m \u001b[0mend\u001b[0m\u001b[0;34m\u001b[0m\u001b[0;34m\u001b[0m\u001b[0m\n",
      "\u001b[0;31mJSONDecodeError\u001b[0m: Expecting value: line 1 column 1 (char 0)"
     ]
    }
   ],
   "source": [
    "from rdflib import plugin\n",
    "from rdflib.serializer import Serializer\n",
    "\n",
    "#a = g.serialize(format='json-ld', indent=4)\n",
    "r_repo.json()"
   ]
  },
  {
   "cell_type": "code",
   "execution_count": 4,
   "metadata": {},
   "outputs": [
    {
     "name": "stderr",
     "output_type": "stream",
     "text": [
      "https://data.enanomapper.net/owner/P32 - KI does not look like a valid URI, trying to serialize this will break.\n"
     ]
    }
   ],
   "source": [
    "# create the graph (= object containing triples)\n",
    "g = rdflib.Graph()\n",
    "\n",
    "# parse the db and assign it to the graph (\"g = \" not necessary) \n",
    "g = g.parse(query) # can specify the format: e.g. format = \"nt\""
   ]
  },
  {
   "cell_type": "code",
   "execution_count": 5,
   "metadata": {},
   "outputs": [
    {
     "name": "stdout",
     "output_type": "stream",
     "text": [
      "graph has 74657 statements\n"
     ]
    }
   ],
   "source": [
    "print (\"graph has %s statements\" %(len(g)))"
   ]
  },
  {
   "cell_type": "code",
   "execution_count": 32,
   "metadata": {},
   "outputs": [
    {
     "name": "stdout",
     "output_type": "stream",
     "text": [
      "<generator object Graph.predicates at 0x115107048>\n"
     ]
    }
   ],
   "source": [
    "#for i in range (0,2):\n",
    "#    print (g[i])\n",
    "predicates = g.predicates(subject=None, object=None)\n",
    "print(predicates)\n",
    "for p in predicates:\n",
    "    if len(p) < 28:\n",
    "        print (p)\n",
    "        print (\" \")"
   ]
  },
  {
   "cell_type": "code",
   "execution_count": 21,
   "metadata": {},
   "outputs": [],
   "source": [
    "#count = 0\n",
    "# for subj, pred, obj in g:\n",
    "#     #if \"titanium\" in str(obj):\n",
    "#     if len(pred) > 40 and len(pred) < 50:\n",
    "#         count = count + 1\n",
    "#         print (count)\n",
    "#         print (\"s: \" + str(subj))\n",
    "#         print (\"p: \" + str(pred))\n",
    "#         print (\"o: \" + str(obj))\n",
    "#         print (\" \")\n"
   ]
  },
  {
   "cell_type": "code",
   "execution_count": 40,
   "metadata": {},
   "outputs": [
    {
     "data": {
      "text/plain": [
       "'<?xml version=\"1.0\"?>\\n<!DOCTYPE rdf:RDF [\\n  <!ENTITY this \\'https://data.enanomapper.net/\\'>\\n  <!ENTITY qudt \\'http://qudt.org/schema/qudt#\\'>\\n  <!ENTITY owl \\'http://www.w3.org/2002/07/owl#\\'>\\n  <!ENTITY xsd \\'http://www.w3.org/2001/XMLSchema#\\'>\\n  <!ENTITY rdfs \\'http://www.w3.org/2000/01/rdf-schema#\\'>\\n  <!ENTITY sso \\'http://semanticscience.org/resource/\\'>\\n  <!ENTITY bao \\'http://www.bioassayontology.org/bao#\\'>\\n  <!ENTITY ref \\'https://data.enanomapper.net/reference/\\'>\\n  <!ENTITY mgroup \\'https://data.ena'"
      ]
     },
     "execution_count": 40,
     "metadata": {},
     "output_type": "execute_result"
    }
   ],
   "source": [
    "#print (len(r_repo.text)) # 8,711,876\n",
    "#r_repo.text[7000000: 7500000]\n",
    "r_repo.text[0: 500]"
   ]
  },
  {
   "cell_type": "code",
   "execution_count": null,
   "metadata": {},
   "outputs": [],
   "source": [
    "for j in range(0,len(root)):\n",
    "    \n",
    "    \n",
    "    for i in range(0, len(root[j])):\n",
    "        if str(root[j][i].text).find(\"Zeta\") != -1:\n",
    "           \n",
    "            print (\"--> \" + str(j))\n",
    "            print (root[j][i].tag)\n",
    "            print (\"   \" + str(root[j][i].text))\n",
    "            print (\" \")\n",
    "\n",
    "\n",
    "# for i in range(0, len(all_metadata)):\n",
    "#     print (all_metadata[i].tag)\n",
    "#     print (\"   \" + str(all_metadata[i].text))\n",
    "\n",
    "\n",
    "\n",
    "# #r_repo = requests.get('https://www.ebi.ac.uk/arrayexpress/xml/v3/experiments?keywords=insulin')\n",
    "# r_repo = requests.get(repository_api,\n",
    "#                   params={'keywords'      : 'Parkinson''s disease',\n",
    "#                           'organism'      : 'Homo sapiens',\n",
    "#                           'experimenttype': 'transcription profiling by array',\n",
    "#                           'raw'           : 'true',\n",
    "#                           'diseasestate'  : 'Parkinson''s disease',\n",
    "#                           'sa'            : ['frontal lobe', 'male', 'female']})\n",
    "# print (r_repo.status_code)\n",
    "\n",
    "# root = ET.fromstring(r_repo.text)\n",
    "# print(len(root))\n",
    "\n",
    "\n",
    "# # to be improved\n",
    "# all_metadata = root[0]"
   ]
  },
  {
   "cell_type": "markdown",
   "metadata": {},
   "source": [
    "---"
   ]
  },
  {
   "cell_type": "markdown",
   "metadata": {},
   "source": [
    "<a name=\"metrics\"></a>\n",
    "### FAIR metrics"
   ]
  },
  {
   "cell_type": "markdown",
   "metadata": {},
   "source": [
    "<a name=\"F4\"></a>\n",
    "#### F4. (Meta)data are registered or indexed in a searchable resource\n",
    "*Interpretation for this user-case*: Data and metadata are in the same repository, which can be searched either in generic search engines  or in database registries"
   ]
  },
  {
   "cell_type": "markdown",
   "metadata": {},
   "source": [
    "a. Search for repository in the generic search engine www.google.com"
   ]
  },
  {
   "cell_type": "code",
   "execution_count": 3,
   "metadata": {},
   "outputs": [
    {
     "name": "stdout",
     "output_type": "stream",
     "text": [
      "data.enanomapper.net found in 10 urls out of 10\n",
      "F4: 1\n"
     ]
    }
   ],
   "source": [
    "# query Google API for repository_url\n",
    "r = requests.get(google_search + repository_url)\n",
    "soup = bs4.BeautifulSoup(r.text, \"html.parser\")\n",
    "link_elements = soup.select('.r a')\n",
    "\n",
    "# find repository_url in the search output\n",
    "counts = 0\n",
    "for i in range(len(link_elements)):\n",
    "    if (link_elements[i].find (repository_url) != -1):     \n",
    "        counts = counts + 1\n",
    "        \n",
    "\n",
    "# assign F4: It is 0 if repository_url is not present  in the search output, it is 1 otherwise\n",
    "if counts != 0:\n",
    "    print (repository_url + \" found in \" + str(counts) + \" urls out of \" + str(len(link_elements)) )\n",
    "    F4 = 1\n",
    "else: \n",
    "    print (repository_url + \" not found in the first \" + str(len(link_elements)) + \" urls\")\n",
    "    F4 = 0\n",
    "    \n",
    "print (\"F4: \" + str(F4))"
   ]
  },
  {
   "cell_type": "markdown",
   "metadata": {},
   "source": [
    "b. Search for repository in the database registry www.re3data.org "
   ]
  },
  {
   "cell_type": "code",
   "execution_count": 4,
   "metadata": {},
   "outputs": [
    {
     "name": "stdout",
     "output_type": "stream",
     "text": [
      "Repository not found\n",
      "F4: 0\n"
     ]
    }
   ],
   "source": [
    "# contact the registry\n",
    "r_registry = requests.get(registry_api_url)\n",
    "# put output string in a structured xml tree\n",
    "root = ET.fromstring(r_registry.text)\n",
    "\n",
    "# look for the wanted repository\n",
    "flag = 0\n",
    "for i in range (0, len(root)):\n",
    "    if root[i][1].text == repository_name: # first index is a <repository> group, \n",
    "                                           # second index is for the tags inside (<id>, <name>, <link>)\n",
    "        flag = 1\n",
    "        repository_index = i\n",
    "        \n",
    "if flag == 1:        \n",
    "    F4 = 1\n",
    "    print (\"F4: \" + str(F4))\n",
    "    print (\"  Index in list: \" + str(repository_index))\n",
    "    print (\"  Tag          : \" + str(root[repository_index][1].tag))\n",
    "    print (\"  Text         : \" + str(root[repository_index][1].text))\n",
    "    print (\"  Tag          : \" + str(root[repository_index][2].tag))\n",
    "    print (\"  Attribute    : \" + str(root[repository_index][2].attrib)) # attributes do not have a closing tag\n",
    "\n",
    "    metadata_str = str(root[repository_index][2].attrib[\"href\"])\n",
    "    print (\"  Database metadata are in: \" + str(metadata_str))\n",
    "else: \n",
    "    F4 = 0\n",
    "    print (\"Repository not found\")\n",
    "    print (\"F4: \" + str(F4))"
   ]
  },
  {
   "cell_type": "markdown",
   "metadata": {},
   "source": [
    "---"
   ]
  },
  {
   "cell_type": "markdown",
   "metadata": {},
   "source": [
    "<a name=\"F2\"></a>\n",
    "#### F2. Data are described with rich metadata  \n",
    "Metric name: *Machine-readibility of metadata*"
   ]
  },
  {
   "cell_type": "code",
   "execution_count": 7,
   "metadata": {},
   "outputs": [],
   "source": [
    "# if repository_name  == 'ChEBI':\n",
    "    \n",
    "#     client = zeep.Client(wsdl=repository_wsdl)\n",
    "#     element_list = client.service.getLiteEntity(chemical,'CHEBI NAME',0,'ALL') \n",
    "#     # Parameters are: string, SearchCategory, maximumResults, stars\n",
    "#     # To know possible parameter values: \n",
    "#     # - Type: Print (requests.get(wsdl).text)\n",
    "#     # - Search for keyword (e.g. crt+F SearchCategory)\n",
    "     \n",
    "#     # extract the ID of the chemical (the query provides all items with one and/or two keywords, see: print (answer))\n",
    "#     for i in range (0, len(element_list)):   \n",
    "#         if element_list[i].chebiAsciiName == chemical:\n",
    "#             # get the ID\n",
    "#             chemical_ID = element_list[i].chebiId #(e.g. CHEBI:50825)\n",
    "            \n",
    "#     # extract the metadata\n",
    "#     all_metadata = client.service.getCompleteEntity(chemical_ID)\n",
    "#     print (\"number of elements in complete metadata: \" + str(len(all_metadata)))\n",
    "#     print (all_metadata)\n",
    "    \n",
    "#     if len(all_metadata) > rich_metadata_threshold:\n",
    "#         F2 = 1\n",
    "#     else: \n",
    "#         F2 = 0\n",
    "#     print (\"F2: \" + str(F2))"
   ]
  },
  {
   "cell_type": "code",
   "execution_count": 17,
   "metadata": {},
   "outputs": [
    {
     "name": "stdout",
     "output_type": "stream",
     "text": [
      "https://data.enanomapper.net/api/search/?substance&titanium dioxide\n",
      "F2: 0\n",
      "  access status code: 405\n"
     ]
    }
   ],
   "source": [
    "# extract repository number \n",
    "# repository_number = metadata_str[metadata_str.rfind('/') : len(metadata_str)]\n",
    "# metadata_url\n",
    "metadata_url      = repository_api \n",
    "#metadata_url      = \"https://data.enanomapper.net/api-docs/substance/titanium dioxide\"\n",
    "print (metadata_url) \n",
    "# access the repository metadata \n",
    "r_repo = requests.get(metadata_url, \n",
    "                     param: )\n",
    "\n",
    "if r_repo.status_code == 200:\n",
    "    F2 = 1\n",
    "else:\n",
    "    F2 = 0\n",
    "print (\"F2: \" + str(F2) )\n",
    "print (\"  access status code: \" + str(r_repo.status_code))"
   ]
  },
  {
   "cell_type": "code",
   "execution_count": 15,
   "metadata": {},
   "outputs": [
    {
     "data": {
      "text/plain": [
       "<Response [200]>"
      ]
     },
     "execution_count": 15,
     "metadata": {},
     "output_type": "execute_result"
    }
   ],
   "source": [
    "import urllib\n",
    "\n",
    "r_repo = requests.get('https://data.enanomapper.net/substance?' + urllib.parse.quote('search=titanium dioxide'))\n",
    "r_repo"
   ]
  },
  {
   "cell_type": "code",
   "execution_count": 17,
   "metadata": {},
   "outputs": [],
   "source": [
    "#r_repo.text"
   ]
  },
  {
   "cell_type": "code",
   "execution_count": 3,
   "metadata": {},
   "outputs": [
    {
     "name": "stdout",
     "output_type": "stream",
     "text": [
      "400\n",
      "<html>\n",
      "<head>\n",
      "   <title>Status page</title>\n",
      "</head>\n",
      "<body style=\"font-family: sans-serif;\">\n",
      "<h3>The request could not be understood by the server due to malformed syntax</h3><p>You can get technical details <a href=\"http://www.w3.org/Protocols/rfc2616/rfc2616-sec10.html#sec10.4.1\">here</a>.<br>\n",
      "Please continue your visit at our <a href=\"/\">home page</a>.\n",
      "</p>\n",
      "</body>\n",
      "</html>\n",
      "\n"
     ]
    }
   ],
   "source": [
    "#r_repo = requests.get('https://data.enanomapper.net/api-docs/substance/',\n",
    "#                  params={'search': 'titanium dioxide'})\n",
    "#r_repo = requests.get('https://data.enanomapper.net/substance/XLSX-7011cea0-1011-3f8b-9e8a-b3289fed836a') # this works\n",
    "r_repo = requests.get('https://data.enanomapper.net/substance/titanium+dioxide') # this does NOT work \n",
    "#r_repo = requests.get('https://data.enanomapper.net/query/compound/search/all?search=titanium dioxide')\n",
    "\n",
    "\n",
    "print (r_repo.status_code)\n",
    "print (r_repo.text)"
   ]
  },
  {
   "cell_type": "code",
   "execution_count": 39,
   "metadata": {},
   "outputs": [
    {
     "name": "stdout",
     "output_type": "stream",
     "text": [
      "200\n",
      "<?xml version=\"1.0\"?>\n",
      "<!DOCTYPE rdf:RDF [\n",
      "  <!ENTITY this 'https://data.enanomapper.net/'>\n",
      "  <!ENTITY qudt 'http://qudt.org/schema/qudt#'>\n",
      "  <!ENTITY owl 'http://www.w3.org/2002/07/owl#'>\n",
      "  <!ENTITY xsd 'http://www.w3.org/2001/XMLSchema#'>\n",
      "  <!ENTITY rdfs 'http://www.w3.org/2000/01/rdf-schema#'>\n",
      "  <!ENTITY sso 'http://semanticscience.org/resource/'>\n",
      "  <!ENTITY bao 'http://www.bioassayontology.org/bao#'>\n",
      "  <!ENTITY ref 'https://data.enanomapper.net/reference/'>\n",
      "  <!ENTITY mgroup 'https://data.enanomapper.net/measuregroup/'>\n",
      "  <!ENTITY bx 'http://purl.org/net/nknouf/ns/bibtex#'>\n",
      "  <!ENTITY sio 'http://semanticscience.org/resource/'>\n",
      "  <!ENTITY dcterms 'http://purl.org/dc/terms/'>\n",
      "  <!ENTITY ota 'http://www.opentox.org/algorithmTypes.owl#'>\n",
      "  <!ENTITY foaf 'http://xmlns.com/foaf/0.1/'>\n",
      "  <!ENTITY owner 'https://data.enanomapper.net/owner/'>\n",
      "  <!ENTITY ac 'https://data.enanomapper.net/compound/'>\n",
      "  <!ENTITY ad 'https://data.enanomapper.net/dataset/'>\n",
      "  <!ENTITY void 'http://rdfs.org/ns/voi\n"
     ]
    }
   ],
   "source": [
    "r = requests.get(\"https://data.enanomapper.net/substance/FCSV-bc77c03d-4e75-3fab-bb3d-17b983663819\")\n",
    "#https://data.enanomapper.net/query/compound/search/all?search=caffeine&page=0&pagesize=1\n",
    "#http://apps.ideaconsult.net:8080/ambit2/query/compound/search/all?search=caffeine&page=0&pagesize=1\n",
    "#r = requests.get(\"https://data.enanomapper.net/substance/\",\n",
    "#                params={'name': 'gold'})\n",
    "print (r.status_code)\n",
    "print (r.text[0:1000])"
   ]
  },
  {
   "cell_type": "code",
   "execution_count": null,
   "metadata": {},
   "outputs": [],
   "source": []
  },
  {
   "cell_type": "markdown",
   "metadata": {},
   "source": [
    "---"
   ]
  },
  {
   "cell_type": "markdown",
   "metadata": {},
   "source": [
    "<a name=\"F1\"></a>\n",
    "#### F1. (Meta)data are assigned a globally unique and persistent identifier\n",
    "*Interpretation*: Data and metadata have a unique identifier, either provided by the repository or by another institution"
   ]
  },
  {
   "cell_type": "markdown",
   "metadata": {},
   "source": [
    "a. Unique identifier for data"
   ]
  },
  {
   "cell_type": "code",
   "execution_count": 6,
   "metadata": {},
   "outputs": [],
   "source": [
    "# There is no unique identifier for data \n",
    "data_identifier = 0 # manual assignment"
   ]
  },
  {
   "cell_type": "markdown",
   "metadata": {},
   "source": [
    "b. Unique identifier for metadata"
   ]
  },
  {
   "cell_type": "code",
   "execution_count": 7,
   "metadata": {},
   "outputs": [],
   "source": [
    "# There is no unique identifier for metadata (ChEBI ID and definition - ChEBI ID contains an identifier but it has no identifier for itself)\n",
    "metadata_identifier = 0 # manual assignment"
   ]
  },
  {
   "cell_type": "markdown",
   "metadata": {},
   "source": [
    "If identifier contains DOI, it is unique and persistent "
   ]
  },
  {
   "cell_type": "code",
   "execution_count": 8,
   "metadata": {},
   "outputs": [
    {
     "name": "stdout",
     "output_type": "stream",
     "text": [
      "F1: 0\n"
     ]
    }
   ],
   "source": [
    "if (data_identifier == 0 and metadata_identifier == 0):\n",
    "    F1 = 0\n",
    "print (\"F1: \" + str(F1) )"
   ]
  },
  {
   "cell_type": "markdown",
   "metadata": {},
   "source": [
    "---"
   ]
  },
  {
   "cell_type": "markdown",
   "metadata": {},
   "source": [
    "<a name=\"A2\"></a>\n",
    "#### A2. Metadata are accessible, even when the data are no longer available  \n",
    "*Interpretation:* If metadata do not have a unique identifier, there is no guarantee that they are accessible in the future "
   ]
  },
  {
   "cell_type": "code",
   "execution_count": 9,
   "metadata": {},
   "outputs": [
    {
     "name": "stdout",
     "output_type": "stream",
     "text": [
      "A2: 0\n"
     ]
    }
   ],
   "source": [
    "if data_identifier == 0:\n",
    "    A2 = 0\n",
    "print (\"A2: \" + str(A2))    "
   ]
  },
  {
   "cell_type": "markdown",
   "metadata": {},
   "source": [
    "---"
   ]
  },
  {
   "cell_type": "markdown",
   "metadata": {},
   "source": [
    "<a name=\"I1\"></a>\n",
    "#### I1. Metadata use a formal, accessible, shared, and broadly applicable language for knowledge representation  \n",
    "Metric name: *Use a knowledge representation language*\n"
   ]
  },
  {
   "cell_type": "code",
   "execution_count": 10,
   "metadata": {},
   "outputs": [],
   "source": [
    "# ChEBI provides metadata in XLM format using its specific schema: \n",
    "# https://www.ebi.ac.uk/webservices/chebi/2.0/webservice?wsdl\n",
    "# (Information retrieved manually at https://www.ebi.ac.uk/chebi/webServices.do)\n",
    "I1 = 1 # manual assignment"
   ]
  },
  {
   "cell_type": "markdown",
   "metadata": {},
   "source": [
    "---"
   ]
  },
  {
   "cell_type": "markdown",
   "metadata": {},
   "source": [
    "<a name=\"A1\"></a>\n",
    "#### A1. Metadata are retrievable by their identifier using a standardized communications protocol   \n",
    "**A1.1 the protocol is open, free, and universally implementable**   \n",
    "**A1.2 the protocol allows for an authentication and authorization procedure, where necessary**  "
   ]
  },
  {
   "cell_type": "code",
   "execution_count": 11,
   "metadata": {},
   "outputs": [
    {
     "name": "stdout",
     "output_type": "stream",
     "text": [
      "A1: 1\n"
     ]
    }
   ],
   "source": [
    "# might need some further thinking\n",
    "if F2 == 1:\n",
    "    A1 = 1\n",
    "else:\n",
    "    A1 = 0\n",
    "print (\"A1: \" + str(A1))   "
   ]
  },
  {
   "cell_type": "markdown",
   "metadata": {},
   "source": [
    "---"
   ]
  },
  {
   "cell_type": "markdown",
   "metadata": {},
   "source": [
    "<a name=\"F3\"></a>\n",
    "#### F3. Metadata clearly and explicitly include the identifier of the data it describes  \n",
    "Metrics name: *Resource identifier in metadata*  "
   ]
  },
  {
   "cell_type": "code",
   "execution_count": 12,
   "metadata": {},
   "outputs": [
    {
     "name": "stdout",
     "output_type": "stream",
     "text": [
      "CHEBI:50825\n",
      "F3: 1\n"
     ]
    }
   ],
   "source": [
    "if repository_name  == 'ChEBI':\n",
    "\n",
    "    if all_metadata.chebiId != 0:\n",
    "        print (all_metadata.chebiId)\n",
    "        F3 = 1\n",
    "    else:\n",
    "        F3 = 0\n",
    "    print (\"F3: \" + str(F3) )\n",
    "    \n",
    "    \n",
    "if repository_name  == 'enanomapper':\n",
    "    print (\"\")"
   ]
  },
  {
   "cell_type": "markdown",
   "metadata": {},
   "source": [
    "---"
   ]
  },
  {
   "cell_type": "markdown",
   "metadata": {},
   "source": [
    "<a name=\"I3\"></a>\n",
    "#### I3. (Meta)data include qualified references to other (meta)data  \n",
    "*Interpretation for this user-case*: (for enano mapper "
   ]
  },
  {
   "cell_type": "code",
   "execution_count": null,
   "metadata": {},
   "outputs": [],
   "source": []
  },
  {
   "cell_type": "markdown",
   "metadata": {},
   "source": [
    "---"
   ]
  },
  {
   "cell_type": "markdown",
   "metadata": {},
   "source": [
    "<a name=\"R11\"></a>\n",
    "#### R1.1. Metadata are released with a clear and accessible data usage license  \n",
    "Metric name: Accessible usage license"
   ]
  },
  {
   "cell_type": "code",
   "execution_count": 13,
   "metadata": {},
   "outputs": [],
   "source": [
    "# Looked for the word \"license\" in \n",
    "#import requests\n",
    "#print (requests.get(wsdl).text)\n",
    "# Word licence not found -> License is not included in metadata"
   ]
  },
  {
   "cell_type": "code",
   "execution_count": 14,
   "metadata": {},
   "outputs": [],
   "source": [
    "R11 = 0"
   ]
  },
  {
   "cell_type": "code",
   "execution_count": null,
   "metadata": {},
   "outputs": [],
   "source": [
    "r = requests.get(\"https://data.enanomapper.net/api-docs\")\n",
    "print(r.text) \n",
    "# contains license"
   ]
  },
  {
   "cell_type": "markdown",
   "metadata": {},
   "source": [
    "---"
   ]
  },
  {
   "cell_type": "markdown",
   "metadata": {},
   "source": [
    "<a name=\"I2\"></a>\n",
    "#### I2. Metadata use vocabularies that follow FAIR principles"
   ]
  },
  {
   "cell_type": "markdown",
   "metadata": {},
   "source": [
    "<a name=\"R12\"></a>\n",
    "#### R1.2. (Meta)data are associated with detailed provenance  \n",
    "See https://blog.datacite.org/exposing-doi-metadata-provenance/ with DOI https://doi.org/10.5438/wy92-xj57"
   ]
  },
  {
   "cell_type": "markdown",
   "metadata": {},
   "source": [
    "<a name=\"R13\"></a>\n",
    "#### R1.3. (Meta)data meet domain-relevant community standards"
   ]
  },
  {
   "cell_type": "markdown",
   "metadata": {},
   "source": [
    "---\n",
    "---"
   ]
  },
  {
   "cell_type": "markdown",
   "metadata": {},
   "source": [
    "<a name=\"indicator\"></a>\n",
    "### FAIR metric indicator"
   ]
  },
  {
   "cell_type": "code",
   "execution_count": 15,
   "metadata": {},
   "outputs": [
    {
     "name": "stdout",
     "output_type": "stream",
     "text": [
      "The FAIR indicator for the chemical gold nanoparticle is: 5\n"
     ]
    }
   ],
   "source": [
    "FAIR_metric_score = F1 + F2 + F3 + F4 + A1 + A2 + I1 + R11 # + I2 + I3 + + R12 + R13 \n",
    "print (\"The FAIR indicator for the chemical \" + chemical + \" is: \" + str(FAIR_metric_score))"
   ]
  },
  {
   "cell_type": "code",
   "execution_count": null,
   "metadata": {},
   "outputs": [],
   "source": []
  },
  {
   "cell_type": "code",
   "execution_count": 1,
   "metadata": {},
   "outputs": [],
   "source": [
    "import matplotlib.pyplot as plt"
   ]
  },
  {
   "cell_type": "code",
   "execution_count": 11,
   "metadata": {},
   "outputs": [
    {
     "data": {
      "image/png": "[encoded data removed]",
      "text/plain": [
       "<Figure size 432x288 with 1 Axes>"
      ]
     },
     "metadata": {},
     "output_type": "display_data"
    }
   ],
   "source": [
    "all_labels = [\"F1\", \"F2\", \"F3\", \"F4\", \"A1\", \"A2\", \"I1\", \"I2\", \"I3\", \"R1\", \"R11\", \"R12\", \"R13\"]\n",
    "all_values = [7.7] * len(all_labels)\n",
    "all_colors = [\"b\", \"y\", \"b\", \"y\", \"b\", \"y\", \"b\", \"y\", \"b\", \"y\", \"b\", \"y\", \"b\", \"y\", \"r\"]\n",
    "\n",
    "plt.pie(all_values, labels = all_labels, colors = all_colors)\n",
    "plt.show()"
   ]
  },
  {
   "cell_type": "markdown",
   "metadata": {},
   "source": [
    "---\n",
    "---"
   ]
  },
  {
   "cell_type": "markdown",
   "metadata": {},
   "source": [
    "## Dependencies "
   ]
  },
  {
   "cell_type": "code",
   "execution_count": 16,
   "metadata": {},
   "outputs": [
    {
     "name": "stdout",
     "output_type": "stream",
     "text": [
      "CPython 3.7.1\n",
      "IPython 6.5.0\n",
      "\n",
      "zeep 3.3.1\n",
      "\n",
      "compiler   : Clang 4.0.1 (tags/RELEASE_401/final)\n",
      "system     : Darwin\n",
      "release    : 17.7.0\n",
      "machine    : x86_64\n",
      "processor  : i386\n",
      "CPU cores  : 4\n",
      "interpreter: 64bit\n"
     ]
    }
   ],
   "source": [
    "%reload_ext watermark\n",
    "%watermark -v -m -p zeep"
   ]
  },
  {
   "cell_type": "code",
   "execution_count": null,
   "metadata": {},
   "outputs": [],
   "source": []
  }
 ],
 "metadata": {
  "kernelspec": {
   "display_name": "Python 3",
   "language": "python",
   "name": "python3"
  },
  "language_info": {
   "codemirror_mode": {
    "name": "ipython",
    "version": 3
   },
   "file_extension": ".py",
   "mimetype": "text/x-python",
   "name": "python",
   "nbconvert_exporter": "python",
   "pygments_lexer": "ipython3",
   "version": "3.7.3"
  },
  "toc-autonumbering": false
 },
 "nbformat": 4,
 "nbformat_minor": 2
}
